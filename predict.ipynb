{
 "cells": [
  {
   "cell_type": "code",
   "execution_count": 23,
   "id": "initial_id",
   "metadata": {
    "collapsed": true,
    "ExecuteTime": {
     "end_time": "2024-11-02T23:25:51.623482Z",
     "start_time": "2024-11-02T23:25:51.491665200Z"
    }
   },
   "outputs": [
    {
     "data": {
      "text/plain": "        Id       PC1       PC2       PC3       PC4       PC5       PC6  \\\n0        1 -3.474246  0.941672  0.017316  1.414585 -0.273716 -1.397135   \n1        2  0.525494 -2.442026 -0.783676 -0.379160 -1.433195  0.406832   \n2        3 -4.107494  0.289190  0.433713  1.223210 -0.531528 -0.812276   \n3        4  0.289856  1.066942  1.161987 -0.116237 -1.758566  1.356585   \n4        5 -5.997529 -1.031445  2.276586  1.916449 -0.379291 -0.756045   \n...    ...       ...       ...       ...       ...       ...       ...   \n1215  1455 -2.295636  3.218861 -1.952270 -1.669932  0.362041  0.582435   \n1216  1456 -1.792904  2.282987  1.353997  0.653326 -1.322276 -0.931950   \n1217  1457 -1.567757 -4.497140  0.052636 -0.334529  0.952369  0.179602   \n1218  1459  3.910669 -2.846756 -2.472041 -1.676392 -0.504506  1.736034   \n1219  1460  1.298417 -2.682179 -1.682402  0.561306 -0.712968 -0.667229   \n\n           PC7       PC8       PC9  ...      PC52      PC53      PC54  \\\n0     1.276236  0.709090  0.740540  ... -0.585188 -0.064844  0.325688   \n1     0.378624  0.308045  1.944752  ...  0.439671  0.423064  0.249467   \n2     1.171119  1.039779  0.202081  ...  0.013638  0.610697 -0.031812   \n3    -0.033244 -0.562169 -0.321711  ...  0.962266  1.538504 -0.019312   \n4     0.252572  0.658852  1.316294  ...  1.179876  1.647760  0.313857   \n...        ...       ...       ...  ...       ...       ...       ...   \n1215  0.435248  0.105026  0.752267  ...  0.661314  0.118654 -1.092231   \n1216  1.880462 -0.516033 -1.476629  ...  0.431747 -0.289887 -0.090037   \n1217 -0.661722  0.001184  0.523104  ...  0.450531 -1.403605 -0.783670   \n1218 -0.514314  1.007953 -0.167296  ...  0.949827 -0.438676  1.104364   \n1219  1.574463  0.403419 -1.270065  ...  0.474593 -0.243996  0.957202   \n\n          PC55      PC56      PC57      PC58      PC59      PC60  SalePrice  \n0    -0.256289 -0.526079  0.259208  0.207050  0.383334 -0.329534     208500  \n1     1.014300 -0.974670 -0.405213 -0.351277  0.706344  1.071309     181500  \n2    -0.020023 -1.156034 -0.192649  0.166754 -0.000002 -0.399590     223500  \n3    -0.849829  0.039478 -0.656984  0.997920  0.604916  1.568977     140000  \n4     0.611313  0.239747  0.605126 -0.339590 -0.630915 -0.260947     250000  \n...        ...       ...       ...       ...       ...       ...        ...  \n1215  0.803133 -0.375382 -0.453597  0.392421 -0.603883  0.715962     185000  \n1216 -0.180616  0.501682  0.130732  0.398904  0.084126  0.421396     175000  \n1217  1.036377  0.715258  0.241160 -0.090804 -0.598736  1.210421     210000  \n1218  0.272009 -0.600685 -1.306182 -0.541204 -0.144922  0.610076     142125  \n1219  1.603175  1.623627 -1.454764 -0.839844  0.601411  0.714532     147500  \n\n[1220 rows x 62 columns]",
      "text/html": "<div>\n<style scoped>\n    .dataframe tbody tr th:only-of-type {\n        vertical-align: middle;\n    }\n\n    .dataframe tbody tr th {\n        vertical-align: top;\n    }\n\n    .dataframe thead th {\n        text-align: right;\n    }\n</style>\n<table border=\"1\" class=\"dataframe\">\n  <thead>\n    <tr style=\"text-align: right;\">\n      <th></th>\n      <th>Id</th>\n      <th>PC1</th>\n      <th>PC2</th>\n      <th>PC3</th>\n      <th>PC4</th>\n      <th>PC5</th>\n      <th>PC6</th>\n      <th>PC7</th>\n      <th>PC8</th>\n      <th>PC9</th>\n      <th>...</th>\n      <th>PC52</th>\n      <th>PC53</th>\n      <th>PC54</th>\n      <th>PC55</th>\n      <th>PC56</th>\n      <th>PC57</th>\n      <th>PC58</th>\n      <th>PC59</th>\n      <th>PC60</th>\n      <th>SalePrice</th>\n    </tr>\n  </thead>\n  <tbody>\n    <tr>\n      <th>0</th>\n      <td>1</td>\n      <td>-3.474246</td>\n      <td>0.941672</td>\n      <td>0.017316</td>\n      <td>1.414585</td>\n      <td>-0.273716</td>\n      <td>-1.397135</td>\n      <td>1.276236</td>\n      <td>0.709090</td>\n      <td>0.740540</td>\n      <td>...</td>\n      <td>-0.585188</td>\n      <td>-0.064844</td>\n      <td>0.325688</td>\n      <td>-0.256289</td>\n      <td>-0.526079</td>\n      <td>0.259208</td>\n      <td>0.207050</td>\n      <td>0.383334</td>\n      <td>-0.329534</td>\n      <td>208500</td>\n    </tr>\n    <tr>\n      <th>1</th>\n      <td>2</td>\n      <td>0.525494</td>\n      <td>-2.442026</td>\n      <td>-0.783676</td>\n      <td>-0.379160</td>\n      <td>-1.433195</td>\n      <td>0.406832</td>\n      <td>0.378624</td>\n      <td>0.308045</td>\n      <td>1.944752</td>\n      <td>...</td>\n      <td>0.439671</td>\n      <td>0.423064</td>\n      <td>0.249467</td>\n      <td>1.014300</td>\n      <td>-0.974670</td>\n      <td>-0.405213</td>\n      <td>-0.351277</td>\n      <td>0.706344</td>\n      <td>1.071309</td>\n      <td>181500</td>\n    </tr>\n    <tr>\n      <th>2</th>\n      <td>3</td>\n      <td>-4.107494</td>\n      <td>0.289190</td>\n      <td>0.433713</td>\n      <td>1.223210</td>\n      <td>-0.531528</td>\n      <td>-0.812276</td>\n      <td>1.171119</td>\n      <td>1.039779</td>\n      <td>0.202081</td>\n      <td>...</td>\n      <td>0.013638</td>\n      <td>0.610697</td>\n      <td>-0.031812</td>\n      <td>-0.020023</td>\n      <td>-1.156034</td>\n      <td>-0.192649</td>\n      <td>0.166754</td>\n      <td>-0.000002</td>\n      <td>-0.399590</td>\n      <td>223500</td>\n    </tr>\n    <tr>\n      <th>3</th>\n      <td>4</td>\n      <td>0.289856</td>\n      <td>1.066942</td>\n      <td>1.161987</td>\n      <td>-0.116237</td>\n      <td>-1.758566</td>\n      <td>1.356585</td>\n      <td>-0.033244</td>\n      <td>-0.562169</td>\n      <td>-0.321711</td>\n      <td>...</td>\n      <td>0.962266</td>\n      <td>1.538504</td>\n      <td>-0.019312</td>\n      <td>-0.849829</td>\n      <td>0.039478</td>\n      <td>-0.656984</td>\n      <td>0.997920</td>\n      <td>0.604916</td>\n      <td>1.568977</td>\n      <td>140000</td>\n    </tr>\n    <tr>\n      <th>4</th>\n      <td>5</td>\n      <td>-5.997529</td>\n      <td>-1.031445</td>\n      <td>2.276586</td>\n      <td>1.916449</td>\n      <td>-0.379291</td>\n      <td>-0.756045</td>\n      <td>0.252572</td>\n      <td>0.658852</td>\n      <td>1.316294</td>\n      <td>...</td>\n      <td>1.179876</td>\n      <td>1.647760</td>\n      <td>0.313857</td>\n      <td>0.611313</td>\n      <td>0.239747</td>\n      <td>0.605126</td>\n      <td>-0.339590</td>\n      <td>-0.630915</td>\n      <td>-0.260947</td>\n      <td>250000</td>\n    </tr>\n    <tr>\n      <th>...</th>\n      <td>...</td>\n      <td>...</td>\n      <td>...</td>\n      <td>...</td>\n      <td>...</td>\n      <td>...</td>\n      <td>...</td>\n      <td>...</td>\n      <td>...</td>\n      <td>...</td>\n      <td>...</td>\n      <td>...</td>\n      <td>...</td>\n      <td>...</td>\n      <td>...</td>\n      <td>...</td>\n      <td>...</td>\n      <td>...</td>\n      <td>...</td>\n      <td>...</td>\n      <td>...</td>\n    </tr>\n    <tr>\n      <th>1215</th>\n      <td>1455</td>\n      <td>-2.295636</td>\n      <td>3.218861</td>\n      <td>-1.952270</td>\n      <td>-1.669932</td>\n      <td>0.362041</td>\n      <td>0.582435</td>\n      <td>0.435248</td>\n      <td>0.105026</td>\n      <td>0.752267</td>\n      <td>...</td>\n      <td>0.661314</td>\n      <td>0.118654</td>\n      <td>-1.092231</td>\n      <td>0.803133</td>\n      <td>-0.375382</td>\n      <td>-0.453597</td>\n      <td>0.392421</td>\n      <td>-0.603883</td>\n      <td>0.715962</td>\n      <td>185000</td>\n    </tr>\n    <tr>\n      <th>1216</th>\n      <td>1456</td>\n      <td>-1.792904</td>\n      <td>2.282987</td>\n      <td>1.353997</td>\n      <td>0.653326</td>\n      <td>-1.322276</td>\n      <td>-0.931950</td>\n      <td>1.880462</td>\n      <td>-0.516033</td>\n      <td>-1.476629</td>\n      <td>...</td>\n      <td>0.431747</td>\n      <td>-0.289887</td>\n      <td>-0.090037</td>\n      <td>-0.180616</td>\n      <td>0.501682</td>\n      <td>0.130732</td>\n      <td>0.398904</td>\n      <td>0.084126</td>\n      <td>0.421396</td>\n      <td>175000</td>\n    </tr>\n    <tr>\n      <th>1217</th>\n      <td>1457</td>\n      <td>-1.567757</td>\n      <td>-4.497140</td>\n      <td>0.052636</td>\n      <td>-0.334529</td>\n      <td>0.952369</td>\n      <td>0.179602</td>\n      <td>-0.661722</td>\n      <td>0.001184</td>\n      <td>0.523104</td>\n      <td>...</td>\n      <td>0.450531</td>\n      <td>-1.403605</td>\n      <td>-0.783670</td>\n      <td>1.036377</td>\n      <td>0.715258</td>\n      <td>0.241160</td>\n      <td>-0.090804</td>\n      <td>-0.598736</td>\n      <td>1.210421</td>\n      <td>210000</td>\n    </tr>\n    <tr>\n      <th>1218</th>\n      <td>1459</td>\n      <td>3.910669</td>\n      <td>-2.846756</td>\n      <td>-2.472041</td>\n      <td>-1.676392</td>\n      <td>-0.504506</td>\n      <td>1.736034</td>\n      <td>-0.514314</td>\n      <td>1.007953</td>\n      <td>-0.167296</td>\n      <td>...</td>\n      <td>0.949827</td>\n      <td>-0.438676</td>\n      <td>1.104364</td>\n      <td>0.272009</td>\n      <td>-0.600685</td>\n      <td>-1.306182</td>\n      <td>-0.541204</td>\n      <td>-0.144922</td>\n      <td>0.610076</td>\n      <td>142125</td>\n    </tr>\n    <tr>\n      <th>1219</th>\n      <td>1460</td>\n      <td>1.298417</td>\n      <td>-2.682179</td>\n      <td>-1.682402</td>\n      <td>0.561306</td>\n      <td>-0.712968</td>\n      <td>-0.667229</td>\n      <td>1.574463</td>\n      <td>0.403419</td>\n      <td>-1.270065</td>\n      <td>...</td>\n      <td>0.474593</td>\n      <td>-0.243996</td>\n      <td>0.957202</td>\n      <td>1.603175</td>\n      <td>1.623627</td>\n      <td>-1.454764</td>\n      <td>-0.839844</td>\n      <td>0.601411</td>\n      <td>0.714532</td>\n      <td>147500</td>\n    </tr>\n  </tbody>\n</table>\n<p>1220 rows × 62 columns</p>\n</div>"
     },
     "execution_count": 23,
     "metadata": {},
     "output_type": "execute_result"
    }
   ],
   "source": [
    "import pandas as pd\n",
    "data = pd.read_csv(\"pca_data.csv\")\n",
    "data"
   ]
  },
  {
   "cell_type": "code",
   "execution_count": 24,
   "outputs": [],
   "source": [
    "X = data.drop(['SalePrice', 'Id'], axis=1)\n",
    "y = data['SalePrice']"
   ],
   "metadata": {
    "collapsed": false,
    "ExecuteTime": {
     "end_time": "2024-11-02T23:25:55.602497Z",
     "start_time": "2024-11-02T23:25:55.595486600Z"
    }
   },
   "id": "b3aa09f87f5b948d"
  },
  {
   "cell_type": "code",
   "execution_count": 25,
   "outputs": [
    {
     "name": "stdout",
     "output_type": "stream",
     "text": [
      "Root Mean Squared Error (RMSE): 19384.522\n",
      "R² Score: 0.871\n"
     ]
    }
   ],
   "source": [
    "import pandas as pd\n",
    "from sklearn.model_selection import train_test_split\n",
    "from sklearn.linear_model import LinearRegression, RANSACRegressor\n",
    "from sklearn.metrics import mean_squared_error, r2_score\n",
    "import numpy as np\n",
    "\n",
    "X_train, X_test, y_train, y_test = train_test_split(X, y, test_size=0.2, random_state=42)\n",
    "ransac = RANSACRegressor(LinearRegression(), min_samples=0.95, random_state=123)\n",
    "ransac.fit(X_train, y_train)\n",
    "\n",
    "y_pred = ransac.predict(X_test)\n",
    "\n",
    "rmse = np.sqrt(mean_squared_error(y_test, y_pred))\n",
    "print(f\"Root Mean Squared Error (RMSE): {rmse:.3f}\")\n",
    "\n",
    "# Calculate R²\n",
    "r_squared = r2_score(y_test, y_pred)\n",
    "print(f\"R² Score: {r_squared:.3f}\")\n"
   ],
   "metadata": {
    "collapsed": false,
    "ExecuteTime": {
     "end_time": "2024-11-02T23:25:57.344335200Z",
     "start_time": "2024-11-02T23:25:56.412990700Z"
    }
   },
   "id": "f34c89344b261ed8"
  },
  {
   "cell_type": "code",
   "execution_count": 26,
   "outputs": [
    {
     "name": "stdout",
     "output_type": "stream",
     "text": [
      "Root Mean Squared Error (RMSE): 18810.902\n",
      "R² Score: 0.879\n"
     ]
    }
   ],
   "source": [
    "import pandas as pd\n",
    "import numpy as np\n",
    "from sklearn.model_selection import train_test_split\n",
    "from sklearn.ensemble import RandomForestRegressor\n",
    "from sklearn.metrics import mean_squared_error, r2_score\n",
    "\n",
    "\n",
    "X_train, X_test, y_train, y_test = train_test_split(X, y, test_size=0.2, random_state=42)\n",
    "\n",
    "rf_model = RandomForestRegressor(n_estimators=100, random_state=42)\n",
    "rf_model.fit(X_train, y_train)\n",
    "\n",
    "y_pred = rf_model.predict(X_test)\n",
    "\n",
    "rmse = np.sqrt(mean_squared_error(y_test, y_pred))\n",
    "print(f\"Root Mean Squared Error (RMSE): {rmse:.3f}\")\n",
    "\n",
    "r_squared = r2_score(y_test, y_pred)\n",
    "print(f\"R² Score: {r_squared:.3f}\")\n"
   ],
   "metadata": {
    "collapsed": false,
    "ExecuteTime": {
     "end_time": "2024-11-02T23:26:06.881898800Z",
     "start_time": "2024-11-02T23:25:58.200554900Z"
    }
   },
   "id": "3233f125020bfefa"
  },
  {
   "cell_type": "code",
   "execution_count": 27,
   "outputs": [],
   "source": [
    "#!pip install xgboost"
   ],
   "metadata": {
    "collapsed": false,
    "ExecuteTime": {
     "end_time": "2024-11-02T23:26:06.896908600Z",
     "start_time": "2024-11-02T23:26:06.878124800Z"
    }
   },
   "id": "386b08b7773c89fb"
  },
  {
   "cell_type": "code",
   "execution_count": 28,
   "outputs": [
    {
     "name": "stdout",
     "output_type": "stream",
     "text": [
      "Root Mean Squared Error (RMSE): 18516.318\n",
      "R² Score: 0.883\n"
     ]
    }
   ],
   "source": [
    "import pandas as pd\n",
    "import numpy as np\n",
    "from sklearn.model_selection import train_test_split\n",
    "from xgboost import XGBRegressor\n",
    "from sklearn.metrics import mean_squared_error, r2_score\n",
    "\n",
    "X_train, X_test, y_train, y_test = train_test_split(X, y, test_size=0.2, random_state=42)\n",
    "\n",
    "xgb_model = XGBRegressor(n_estimators=100, learning_rate=0.1, random_state=42)\n",
    "xgb_model.fit(X_train, y_train)\n",
    "\n",
    "y_pred = xgb_model.predict(X_test)\n",
    "\n",
    "\n",
    "rmse = np.sqrt(mean_squared_error(y_test, y_pred))\n",
    "print(f\"Root Mean Squared Error (RMSE): {rmse:.3f}\")\n",
    "\n",
    "r_squared = r2_score(y_test, y_pred)\n",
    "print(f\"R² Score: {r_squared:.3f}\")"
   ],
   "metadata": {
    "collapsed": false,
    "ExecuteTime": {
     "end_time": "2024-11-02T23:26:08.935064800Z",
     "start_time": "2024-11-02T23:26:06.889912800Z"
    }
   },
   "id": "4d270c9cb24a217"
  },
  {
   "cell_type": "code",
   "execution_count": 32,
   "outputs": [
    {
     "data": {
      "text/plain": "           PC1       PC2       PC3       PC4       PC5       PC6       PC7  \\\n0    -3.443617  0.885088  0.060001  1.433146 -0.332686 -1.277646  1.395123   \n1     0.597584 -2.447570 -0.731518 -0.400287 -1.398346  0.426334  0.334464   \n2    -4.018991  0.250877  0.490250  1.239013 -0.576552 -0.695081  1.239306   \n3     0.182108  1.090379  1.137748 -0.128848 -1.727545  1.429598 -0.282432   \n4    -5.812396 -1.018686  2.394191  1.953136 -0.447927 -0.666680  0.250901   \n...        ...       ...       ...       ...       ...       ...       ...   \n1454       NaN       NaN       NaN       NaN       NaN       NaN       NaN   \n1455       NaN       NaN       NaN       NaN       NaN       NaN       NaN   \n1456       NaN       NaN       NaN       NaN       NaN       NaN       NaN   \n1457       NaN       NaN       NaN       NaN       NaN       NaN       NaN   \n1458       NaN       NaN       NaN       NaN       NaN       NaN       NaN   \n\n           PC8       PC9      PC10  ...      PC51      PC52      PC53  \\\n0     0.658829  0.673748 -0.966144  ... -0.762172 -0.191286  0.367237   \n1     0.358059  1.891509  0.499644  ...  0.083724 -0.127380 -0.389678   \n2     1.052225  0.134093 -0.435989  ...  0.110823  0.323783  0.060885   \n3    -0.403661 -0.377202  2.190483  ...  0.968785  1.534030 -0.035187   \n4     0.779341  1.252272 -0.346136  ...  1.113524  0.944906 -0.155655   \n...        ...       ...       ...  ...       ...       ...       ...   \n1454       NaN       NaN       NaN  ...       NaN       NaN       NaN   \n1455       NaN       NaN       NaN  ...       NaN       NaN       NaN   \n1456       NaN       NaN       NaN  ...       NaN       NaN       NaN   \n1457       NaN       NaN       NaN  ...       NaN       NaN       NaN   \n1458       NaN       NaN       NaN  ...       NaN       NaN       NaN   \n\n          PC54      PC55      PC56      PC57      PC58      PC59      PC60  \n0     0.044137 -0.024429 -0.057284 -0.182557  0.875721 -0.173546 -0.031059  \n1     1.027233 -0.706669  0.433420  0.701396 -0.548115  0.565478 -0.832316  \n2     0.282813 -0.511505  0.709972  0.229604  0.412603 -0.449623 -0.015642  \n3    -0.203502  1.419628  0.956671 -0.307306  0.565450  1.763117  0.207638  \n4     1.169430  0.087470 -0.069080 -0.466316 -0.404874 -0.142100  0.600211  \n...        ...       ...       ...       ...       ...       ...       ...  \n1454       NaN       NaN       NaN       NaN       NaN       NaN       NaN  \n1455       NaN       NaN       NaN       NaN       NaN       NaN       NaN  \n1456       NaN       NaN       NaN       NaN       NaN       NaN       NaN  \n1457       NaN       NaN       NaN       NaN       NaN       NaN       NaN  \n1458       NaN       NaN       NaN       NaN       NaN       NaN       NaN  \n\n[1459 rows x 60 columns]",
      "text/html": "<div>\n<style scoped>\n    .dataframe tbody tr th:only-of-type {\n        vertical-align: middle;\n    }\n\n    .dataframe tbody tr th {\n        vertical-align: top;\n    }\n\n    .dataframe thead th {\n        text-align: right;\n    }\n</style>\n<table border=\"1\" class=\"dataframe\">\n  <thead>\n    <tr style=\"text-align: right;\">\n      <th></th>\n      <th>PC1</th>\n      <th>PC2</th>\n      <th>PC3</th>\n      <th>PC4</th>\n      <th>PC5</th>\n      <th>PC6</th>\n      <th>PC7</th>\n      <th>PC8</th>\n      <th>PC9</th>\n      <th>PC10</th>\n      <th>...</th>\n      <th>PC51</th>\n      <th>PC52</th>\n      <th>PC53</th>\n      <th>PC54</th>\n      <th>PC55</th>\n      <th>PC56</th>\n      <th>PC57</th>\n      <th>PC58</th>\n      <th>PC59</th>\n      <th>PC60</th>\n    </tr>\n  </thead>\n  <tbody>\n    <tr>\n      <th>0</th>\n      <td>-3.443617</td>\n      <td>0.885088</td>\n      <td>0.060001</td>\n      <td>1.433146</td>\n      <td>-0.332686</td>\n      <td>-1.277646</td>\n      <td>1.395123</td>\n      <td>0.658829</td>\n      <td>0.673748</td>\n      <td>-0.966144</td>\n      <td>...</td>\n      <td>-0.762172</td>\n      <td>-0.191286</td>\n      <td>0.367237</td>\n      <td>0.044137</td>\n      <td>-0.024429</td>\n      <td>-0.057284</td>\n      <td>-0.182557</td>\n      <td>0.875721</td>\n      <td>-0.173546</td>\n      <td>-0.031059</td>\n    </tr>\n    <tr>\n      <th>1</th>\n      <td>0.597584</td>\n      <td>-2.447570</td>\n      <td>-0.731518</td>\n      <td>-0.400287</td>\n      <td>-1.398346</td>\n      <td>0.426334</td>\n      <td>0.334464</td>\n      <td>0.358059</td>\n      <td>1.891509</td>\n      <td>0.499644</td>\n      <td>...</td>\n      <td>0.083724</td>\n      <td>-0.127380</td>\n      <td>-0.389678</td>\n      <td>1.027233</td>\n      <td>-0.706669</td>\n      <td>0.433420</td>\n      <td>0.701396</td>\n      <td>-0.548115</td>\n      <td>0.565478</td>\n      <td>-0.832316</td>\n    </tr>\n    <tr>\n      <th>2</th>\n      <td>-4.018991</td>\n      <td>0.250877</td>\n      <td>0.490250</td>\n      <td>1.239013</td>\n      <td>-0.576552</td>\n      <td>-0.695081</td>\n      <td>1.239306</td>\n      <td>1.052225</td>\n      <td>0.134093</td>\n      <td>-0.435989</td>\n      <td>...</td>\n      <td>0.110823</td>\n      <td>0.323783</td>\n      <td>0.060885</td>\n      <td>0.282813</td>\n      <td>-0.511505</td>\n      <td>0.709972</td>\n      <td>0.229604</td>\n      <td>0.412603</td>\n      <td>-0.449623</td>\n      <td>-0.015642</td>\n    </tr>\n    <tr>\n      <th>3</th>\n      <td>0.182108</td>\n      <td>1.090379</td>\n      <td>1.137748</td>\n      <td>-0.128848</td>\n      <td>-1.727545</td>\n      <td>1.429598</td>\n      <td>-0.282432</td>\n      <td>-0.403661</td>\n      <td>-0.377202</td>\n      <td>2.190483</td>\n      <td>...</td>\n      <td>0.968785</td>\n      <td>1.534030</td>\n      <td>-0.035187</td>\n      <td>-0.203502</td>\n      <td>1.419628</td>\n      <td>0.956671</td>\n      <td>-0.307306</td>\n      <td>0.565450</td>\n      <td>1.763117</td>\n      <td>0.207638</td>\n    </tr>\n    <tr>\n      <th>4</th>\n      <td>-5.812396</td>\n      <td>-1.018686</td>\n      <td>2.394191</td>\n      <td>1.953136</td>\n      <td>-0.447927</td>\n      <td>-0.666680</td>\n      <td>0.250901</td>\n      <td>0.779341</td>\n      <td>1.252272</td>\n      <td>-0.346136</td>\n      <td>...</td>\n      <td>1.113524</td>\n      <td>0.944906</td>\n      <td>-0.155655</td>\n      <td>1.169430</td>\n      <td>0.087470</td>\n      <td>-0.069080</td>\n      <td>-0.466316</td>\n      <td>-0.404874</td>\n      <td>-0.142100</td>\n      <td>0.600211</td>\n    </tr>\n    <tr>\n      <th>...</th>\n      <td>...</td>\n      <td>...</td>\n      <td>...</td>\n      <td>...</td>\n      <td>...</td>\n      <td>...</td>\n      <td>...</td>\n      <td>...</td>\n      <td>...</td>\n      <td>...</td>\n      <td>...</td>\n      <td>...</td>\n      <td>...</td>\n      <td>...</td>\n      <td>...</td>\n      <td>...</td>\n      <td>...</td>\n      <td>...</td>\n      <td>...</td>\n      <td>...</td>\n      <td>...</td>\n    </tr>\n    <tr>\n      <th>1454</th>\n      <td>NaN</td>\n      <td>NaN</td>\n      <td>NaN</td>\n      <td>NaN</td>\n      <td>NaN</td>\n      <td>NaN</td>\n      <td>NaN</td>\n      <td>NaN</td>\n      <td>NaN</td>\n      <td>NaN</td>\n      <td>...</td>\n      <td>NaN</td>\n      <td>NaN</td>\n      <td>NaN</td>\n      <td>NaN</td>\n      <td>NaN</td>\n      <td>NaN</td>\n      <td>NaN</td>\n      <td>NaN</td>\n      <td>NaN</td>\n      <td>NaN</td>\n    </tr>\n    <tr>\n      <th>1455</th>\n      <td>NaN</td>\n      <td>NaN</td>\n      <td>NaN</td>\n      <td>NaN</td>\n      <td>NaN</td>\n      <td>NaN</td>\n      <td>NaN</td>\n      <td>NaN</td>\n      <td>NaN</td>\n      <td>NaN</td>\n      <td>...</td>\n      <td>NaN</td>\n      <td>NaN</td>\n      <td>NaN</td>\n      <td>NaN</td>\n      <td>NaN</td>\n      <td>NaN</td>\n      <td>NaN</td>\n      <td>NaN</td>\n      <td>NaN</td>\n      <td>NaN</td>\n    </tr>\n    <tr>\n      <th>1456</th>\n      <td>NaN</td>\n      <td>NaN</td>\n      <td>NaN</td>\n      <td>NaN</td>\n      <td>NaN</td>\n      <td>NaN</td>\n      <td>NaN</td>\n      <td>NaN</td>\n      <td>NaN</td>\n      <td>NaN</td>\n      <td>...</td>\n      <td>NaN</td>\n      <td>NaN</td>\n      <td>NaN</td>\n      <td>NaN</td>\n      <td>NaN</td>\n      <td>NaN</td>\n      <td>NaN</td>\n      <td>NaN</td>\n      <td>NaN</td>\n      <td>NaN</td>\n    </tr>\n    <tr>\n      <th>1457</th>\n      <td>NaN</td>\n      <td>NaN</td>\n      <td>NaN</td>\n      <td>NaN</td>\n      <td>NaN</td>\n      <td>NaN</td>\n      <td>NaN</td>\n      <td>NaN</td>\n      <td>NaN</td>\n      <td>NaN</td>\n      <td>...</td>\n      <td>NaN</td>\n      <td>NaN</td>\n      <td>NaN</td>\n      <td>NaN</td>\n      <td>NaN</td>\n      <td>NaN</td>\n      <td>NaN</td>\n      <td>NaN</td>\n      <td>NaN</td>\n      <td>NaN</td>\n    </tr>\n    <tr>\n      <th>1458</th>\n      <td>NaN</td>\n      <td>NaN</td>\n      <td>NaN</td>\n      <td>NaN</td>\n      <td>NaN</td>\n      <td>NaN</td>\n      <td>NaN</td>\n      <td>NaN</td>\n      <td>NaN</td>\n      <td>NaN</td>\n      <td>...</td>\n      <td>NaN</td>\n      <td>NaN</td>\n      <td>NaN</td>\n      <td>NaN</td>\n      <td>NaN</td>\n      <td>NaN</td>\n      <td>NaN</td>\n      <td>NaN</td>\n      <td>NaN</td>\n      <td>NaN</td>\n    </tr>\n  </tbody>\n</table>\n<p>1459 rows × 60 columns</p>\n</div>"
     },
     "execution_count": 32,
     "metadata": {},
     "output_type": "execute_result"
    }
   ],
   "source": [
    "test = pd.read_csv('pca_test.csv')\n",
    "ID = test[\"Id\"]\n",
    "final = test.drop('Id', axis=1)\n",
    "final"
   ],
   "metadata": {
    "collapsed": false,
    "ExecuteTime": {
     "end_time": "2024-11-02T23:42:09.134148200Z",
     "start_time": "2024-11-02T23:42:09.044621400Z"
    }
   },
   "id": "f8d831ffbb836035"
  },
  {
   "cell_type": "code",
   "execution_count": 34,
   "outputs": [
    {
     "data": {
      "text/plain": "array([197718.52, 175168.81, 221714.39, ..., 122266.85, 122266.85,\n       122266.85], dtype=float32)"
     },
     "execution_count": 34,
     "metadata": {},
     "output_type": "execute_result"
    }
   ],
   "source": [
    "final_pred = xgb_model.predict(final)\n",
    "final_pred"
   ],
   "metadata": {
    "collapsed": false,
    "ExecuteTime": {
     "end_time": "2024-11-02T23:42:57.394712800Z",
     "start_time": "2024-11-02T23:42:57.331883200Z"
    }
   },
   "id": "5f13cf520bb1ec9b"
  },
  {
   "cell_type": "code",
   "execution_count": 38,
   "outputs": [
    {
     "data": {
      "text/plain": "        Id      SalePrice\n0     1461  197718.515625\n1     1462  175168.812500\n2     1463  221714.390625\n3     1464  168654.171875\n4     1465  302762.750000\n...    ...            ...\n1454  2915  122266.851562\n1455  2916  122266.851562\n1456  2917  122266.851562\n1457  2918  122266.851562\n1458  2919  122266.851562\n\n[1459 rows x 2 columns]",
      "text/html": "<div>\n<style scoped>\n    .dataframe tbody tr th:only-of-type {\n        vertical-align: middle;\n    }\n\n    .dataframe tbody tr th {\n        vertical-align: top;\n    }\n\n    .dataframe thead th {\n        text-align: right;\n    }\n</style>\n<table border=\"1\" class=\"dataframe\">\n  <thead>\n    <tr style=\"text-align: right;\">\n      <th></th>\n      <th>Id</th>\n      <th>SalePrice</th>\n    </tr>\n  </thead>\n  <tbody>\n    <tr>\n      <th>0</th>\n      <td>1461</td>\n      <td>197718.515625</td>\n    </tr>\n    <tr>\n      <th>1</th>\n      <td>1462</td>\n      <td>175168.812500</td>\n    </tr>\n    <tr>\n      <th>2</th>\n      <td>1463</td>\n      <td>221714.390625</td>\n    </tr>\n    <tr>\n      <th>3</th>\n      <td>1464</td>\n      <td>168654.171875</td>\n    </tr>\n    <tr>\n      <th>4</th>\n      <td>1465</td>\n      <td>302762.750000</td>\n    </tr>\n    <tr>\n      <th>...</th>\n      <td>...</td>\n      <td>...</td>\n    </tr>\n    <tr>\n      <th>1454</th>\n      <td>2915</td>\n      <td>122266.851562</td>\n    </tr>\n    <tr>\n      <th>1455</th>\n      <td>2916</td>\n      <td>122266.851562</td>\n    </tr>\n    <tr>\n      <th>1456</th>\n      <td>2917</td>\n      <td>122266.851562</td>\n    </tr>\n    <tr>\n      <th>1457</th>\n      <td>2918</td>\n      <td>122266.851562</td>\n    </tr>\n    <tr>\n      <th>1458</th>\n      <td>2919</td>\n      <td>122266.851562</td>\n    </tr>\n  </tbody>\n</table>\n<p>1459 rows × 2 columns</p>\n</div>"
     },
     "execution_count": 38,
     "metadata": {},
     "output_type": "execute_result"
    }
   ],
   "source": [
    "submit = pd.concat([ID, pd.DataFrame(final_pred, columns=[\"SalePrice\"])], axis=1)\n",
    "submit"
   ],
   "metadata": {
    "collapsed": false,
    "ExecuteTime": {
     "end_time": "2024-11-02T23:47:41.462052100Z",
     "start_time": "2024-11-02T23:47:41.431389200Z"
    }
   },
   "id": "3d0e2070273cd354"
  },
  {
   "cell_type": "code",
   "execution_count": 39,
   "outputs": [],
   "source": [
    "submit.to_csv(\"submit.csv\")"
   ],
   "metadata": {
    "collapsed": false,
    "ExecuteTime": {
     "end_time": "2024-11-02T23:47:46.700353500Z",
     "start_time": "2024-11-02T23:47:46.671330300Z"
    }
   },
   "id": "d894a9ccec7aa92c"
  },
  {
   "cell_type": "code",
   "execution_count": null,
   "outputs": [],
   "source": [],
   "metadata": {
    "collapsed": false
   },
   "id": "65876321eda6e958"
  }
 ],
 "metadata": {
  "kernelspec": {
   "display_name": "Python 3",
   "language": "python",
   "name": "python3"
  },
  "language_info": {
   "codemirror_mode": {
    "name": "ipython",
    "version": 2
   },
   "file_extension": ".py",
   "mimetype": "text/x-python",
   "name": "python",
   "nbconvert_exporter": "python",
   "pygments_lexer": "ipython2",
   "version": "2.7.6"
  }
 },
 "nbformat": 4,
 "nbformat_minor": 5
}
