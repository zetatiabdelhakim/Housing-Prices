{
 "cells": [
  {
   "cell_type": "code",
   "execution_count": 1,
   "id": "initial_id",
   "metadata": {
    "collapsed": true,
    "ExecuteTime": {
     "end_time": "2024-11-02T22:22:00.584761Z",
     "start_time": "2024-11-02T22:22:00.460285300Z"
    }
   },
   "outputs": [
    {
     "data": {
      "text/plain": "        Id  MSSubClass MSZoning  LotFrontage  LotArea Street Alley LotShape  \\\n0        1          60       RL         65.0     8450   Pave   NaN      Reg   \n1        2          20       RL         80.0     9600   Pave   NaN      Reg   \n2        3          60       RL         68.0    11250   Pave   NaN      IR1   \n3        4          70       RL         60.0     9550   Pave   NaN      IR1   \n4        5          60       RL         84.0    14260   Pave   NaN      IR1   \n...    ...         ...      ...          ...      ...    ...   ...      ...   \n1455  1456          60       RL         62.0     7917   Pave   NaN      Reg   \n1456  1457          20       RL         85.0    13175   Pave   NaN      Reg   \n1457  1458          70       RL         66.0     9042   Pave   NaN      Reg   \n1458  1459          20       RL         68.0     9717   Pave   NaN      Reg   \n1459  1460          20       RL         75.0     9937   Pave   NaN      Reg   \n\n     LandContour Utilities  ... PoolArea PoolQC  Fence MiscFeature MiscVal  \\\n0            Lvl    AllPub  ...        0    NaN    NaN         NaN       0   \n1            Lvl    AllPub  ...        0    NaN    NaN         NaN       0   \n2            Lvl    AllPub  ...        0    NaN    NaN         NaN       0   \n3            Lvl    AllPub  ...        0    NaN    NaN         NaN       0   \n4            Lvl    AllPub  ...        0    NaN    NaN         NaN       0   \n...          ...       ...  ...      ...    ...    ...         ...     ...   \n1455         Lvl    AllPub  ...        0    NaN    NaN         NaN       0   \n1456         Lvl    AllPub  ...        0    NaN  MnPrv         NaN       0   \n1457         Lvl    AllPub  ...        0    NaN  GdPrv        Shed    2500   \n1458         Lvl    AllPub  ...        0    NaN    NaN         NaN       0   \n1459         Lvl    AllPub  ...        0    NaN    NaN         NaN       0   \n\n     MoSold YrSold  SaleType  SaleCondition  SalePrice  \n0         2   2008        WD         Normal     208500  \n1         5   2007        WD         Normal     181500  \n2         9   2008        WD         Normal     223500  \n3         2   2006        WD        Abnorml     140000  \n4        12   2008        WD         Normal     250000  \n...     ...    ...       ...            ...        ...  \n1455      8   2007        WD         Normal     175000  \n1456      2   2010        WD         Normal     210000  \n1457      5   2010        WD         Normal     266500  \n1458      4   2010        WD         Normal     142125  \n1459      6   2008        WD         Normal     147500  \n\n[1460 rows x 81 columns]",
      "text/html": "<div>\n<style scoped>\n    .dataframe tbody tr th:only-of-type {\n        vertical-align: middle;\n    }\n\n    .dataframe tbody tr th {\n        vertical-align: top;\n    }\n\n    .dataframe thead th {\n        text-align: right;\n    }\n</style>\n<table border=\"1\" class=\"dataframe\">\n  <thead>\n    <tr style=\"text-align: right;\">\n      <th></th>\n      <th>Id</th>\n      <th>MSSubClass</th>\n      <th>MSZoning</th>\n      <th>LotFrontage</th>\n      <th>LotArea</th>\n      <th>Street</th>\n      <th>Alley</th>\n      <th>LotShape</th>\n      <th>LandContour</th>\n      <th>Utilities</th>\n      <th>...</th>\n      <th>PoolArea</th>\n      <th>PoolQC</th>\n      <th>Fence</th>\n      <th>MiscFeature</th>\n      <th>MiscVal</th>\n      <th>MoSold</th>\n      <th>YrSold</th>\n      <th>SaleType</th>\n      <th>SaleCondition</th>\n      <th>SalePrice</th>\n    </tr>\n  </thead>\n  <tbody>\n    <tr>\n      <th>0</th>\n      <td>1</td>\n      <td>60</td>\n      <td>RL</td>\n      <td>65.0</td>\n      <td>8450</td>\n      <td>Pave</td>\n      <td>NaN</td>\n      <td>Reg</td>\n      <td>Lvl</td>\n      <td>AllPub</td>\n      <td>...</td>\n      <td>0</td>\n      <td>NaN</td>\n      <td>NaN</td>\n      <td>NaN</td>\n      <td>0</td>\n      <td>2</td>\n      <td>2008</td>\n      <td>WD</td>\n      <td>Normal</td>\n      <td>208500</td>\n    </tr>\n    <tr>\n      <th>1</th>\n      <td>2</td>\n      <td>20</td>\n      <td>RL</td>\n      <td>80.0</td>\n      <td>9600</td>\n      <td>Pave</td>\n      <td>NaN</td>\n      <td>Reg</td>\n      <td>Lvl</td>\n      <td>AllPub</td>\n      <td>...</td>\n      <td>0</td>\n      <td>NaN</td>\n      <td>NaN</td>\n      <td>NaN</td>\n      <td>0</td>\n      <td>5</td>\n      <td>2007</td>\n      <td>WD</td>\n      <td>Normal</td>\n      <td>181500</td>\n    </tr>\n    <tr>\n      <th>2</th>\n      <td>3</td>\n      <td>60</td>\n      <td>RL</td>\n      <td>68.0</td>\n      <td>11250</td>\n      <td>Pave</td>\n      <td>NaN</td>\n      <td>IR1</td>\n      <td>Lvl</td>\n      <td>AllPub</td>\n      <td>...</td>\n      <td>0</td>\n      <td>NaN</td>\n      <td>NaN</td>\n      <td>NaN</td>\n      <td>0</td>\n      <td>9</td>\n      <td>2008</td>\n      <td>WD</td>\n      <td>Normal</td>\n      <td>223500</td>\n    </tr>\n    <tr>\n      <th>3</th>\n      <td>4</td>\n      <td>70</td>\n      <td>RL</td>\n      <td>60.0</td>\n      <td>9550</td>\n      <td>Pave</td>\n      <td>NaN</td>\n      <td>IR1</td>\n      <td>Lvl</td>\n      <td>AllPub</td>\n      <td>...</td>\n      <td>0</td>\n      <td>NaN</td>\n      <td>NaN</td>\n      <td>NaN</td>\n      <td>0</td>\n      <td>2</td>\n      <td>2006</td>\n      <td>WD</td>\n      <td>Abnorml</td>\n      <td>140000</td>\n    </tr>\n    <tr>\n      <th>4</th>\n      <td>5</td>\n      <td>60</td>\n      <td>RL</td>\n      <td>84.0</td>\n      <td>14260</td>\n      <td>Pave</td>\n      <td>NaN</td>\n      <td>IR1</td>\n      <td>Lvl</td>\n      <td>AllPub</td>\n      <td>...</td>\n      <td>0</td>\n      <td>NaN</td>\n      <td>NaN</td>\n      <td>NaN</td>\n      <td>0</td>\n      <td>12</td>\n      <td>2008</td>\n      <td>WD</td>\n      <td>Normal</td>\n      <td>250000</td>\n    </tr>\n    <tr>\n      <th>...</th>\n      <td>...</td>\n      <td>...</td>\n      <td>...</td>\n      <td>...</td>\n      <td>...</td>\n      <td>...</td>\n      <td>...</td>\n      <td>...</td>\n      <td>...</td>\n      <td>...</td>\n      <td>...</td>\n      <td>...</td>\n      <td>...</td>\n      <td>...</td>\n      <td>...</td>\n      <td>...</td>\n      <td>...</td>\n      <td>...</td>\n      <td>...</td>\n      <td>...</td>\n      <td>...</td>\n    </tr>\n    <tr>\n      <th>1455</th>\n      <td>1456</td>\n      <td>60</td>\n      <td>RL</td>\n      <td>62.0</td>\n      <td>7917</td>\n      <td>Pave</td>\n      <td>NaN</td>\n      <td>Reg</td>\n      <td>Lvl</td>\n      <td>AllPub</td>\n      <td>...</td>\n      <td>0</td>\n      <td>NaN</td>\n      <td>NaN</td>\n      <td>NaN</td>\n      <td>0</td>\n      <td>8</td>\n      <td>2007</td>\n      <td>WD</td>\n      <td>Normal</td>\n      <td>175000</td>\n    </tr>\n    <tr>\n      <th>1456</th>\n      <td>1457</td>\n      <td>20</td>\n      <td>RL</td>\n      <td>85.0</td>\n      <td>13175</td>\n      <td>Pave</td>\n      <td>NaN</td>\n      <td>Reg</td>\n      <td>Lvl</td>\n      <td>AllPub</td>\n      <td>...</td>\n      <td>0</td>\n      <td>NaN</td>\n      <td>MnPrv</td>\n      <td>NaN</td>\n      <td>0</td>\n      <td>2</td>\n      <td>2010</td>\n      <td>WD</td>\n      <td>Normal</td>\n      <td>210000</td>\n    </tr>\n    <tr>\n      <th>1457</th>\n      <td>1458</td>\n      <td>70</td>\n      <td>RL</td>\n      <td>66.0</td>\n      <td>9042</td>\n      <td>Pave</td>\n      <td>NaN</td>\n      <td>Reg</td>\n      <td>Lvl</td>\n      <td>AllPub</td>\n      <td>...</td>\n      <td>0</td>\n      <td>NaN</td>\n      <td>GdPrv</td>\n      <td>Shed</td>\n      <td>2500</td>\n      <td>5</td>\n      <td>2010</td>\n      <td>WD</td>\n      <td>Normal</td>\n      <td>266500</td>\n    </tr>\n    <tr>\n      <th>1458</th>\n      <td>1459</td>\n      <td>20</td>\n      <td>RL</td>\n      <td>68.0</td>\n      <td>9717</td>\n      <td>Pave</td>\n      <td>NaN</td>\n      <td>Reg</td>\n      <td>Lvl</td>\n      <td>AllPub</td>\n      <td>...</td>\n      <td>0</td>\n      <td>NaN</td>\n      <td>NaN</td>\n      <td>NaN</td>\n      <td>0</td>\n      <td>4</td>\n      <td>2010</td>\n      <td>WD</td>\n      <td>Normal</td>\n      <td>142125</td>\n    </tr>\n    <tr>\n      <th>1459</th>\n      <td>1460</td>\n      <td>20</td>\n      <td>RL</td>\n      <td>75.0</td>\n      <td>9937</td>\n      <td>Pave</td>\n      <td>NaN</td>\n      <td>Reg</td>\n      <td>Lvl</td>\n      <td>AllPub</td>\n      <td>...</td>\n      <td>0</td>\n      <td>NaN</td>\n      <td>NaN</td>\n      <td>NaN</td>\n      <td>0</td>\n      <td>6</td>\n      <td>2008</td>\n      <td>WD</td>\n      <td>Normal</td>\n      <td>147500</td>\n    </tr>\n  </tbody>\n</table>\n<p>1460 rows × 81 columns</p>\n</div>"
     },
     "execution_count": 1,
     "metadata": {},
     "output_type": "execute_result"
    }
   ],
   "source": [
    "import pandas as pd\n",
    "data = pd.read_csv(\"./train.csv\")\n",
    "data"
   ]
  },
  {
   "cell_type": "code",
   "execution_count": 2,
   "outputs": [
    {
     "data": {
      "text/plain": "        Id  MSSubClass MSZoning  LotFrontage  LotArea Street Alley LotShape  \\\n0     1461          20       RH         80.0    11622   Pave   NaN      Reg   \n1     1462          20       RL         81.0    14267   Pave   NaN      IR1   \n2     1463          60       RL         74.0    13830   Pave   NaN      IR1   \n3     1464          60       RL         78.0     9978   Pave   NaN      IR1   \n4     1465         120       RL         43.0     5005   Pave   NaN      IR1   \n...    ...         ...      ...          ...      ...    ...   ...      ...   \n1454  2915         160       RM         21.0     1936   Pave   NaN      Reg   \n1455  2916         160       RM         21.0     1894   Pave   NaN      Reg   \n1456  2917          20       RL        160.0    20000   Pave   NaN      Reg   \n1457  2918          85       RL         62.0    10441   Pave   NaN      Reg   \n1458  2919          60       RL         74.0     9627   Pave   NaN      Reg   \n\n     LandContour Utilities  ... ScreenPorch PoolArea PoolQC  Fence  \\\n0            Lvl    AllPub  ...         120        0    NaN  MnPrv   \n1            Lvl    AllPub  ...           0        0    NaN    NaN   \n2            Lvl    AllPub  ...           0        0    NaN  MnPrv   \n3            Lvl    AllPub  ...           0        0    NaN    NaN   \n4            HLS    AllPub  ...         144        0    NaN    NaN   \n...          ...       ...  ...         ...      ...    ...    ...   \n1454         Lvl    AllPub  ...           0        0    NaN    NaN   \n1455         Lvl    AllPub  ...           0        0    NaN    NaN   \n1456         Lvl    AllPub  ...           0        0    NaN    NaN   \n1457         Lvl    AllPub  ...           0        0    NaN  MnPrv   \n1458         Lvl    AllPub  ...           0        0    NaN    NaN   \n\n     MiscFeature MiscVal MoSold  YrSold  SaleType  SaleCondition  \n0            NaN       0      6    2010        WD         Normal  \n1           Gar2   12500      6    2010        WD         Normal  \n2            NaN       0      3    2010        WD         Normal  \n3            NaN       0      6    2010        WD         Normal  \n4            NaN       0      1    2010        WD         Normal  \n...          ...     ...    ...     ...       ...            ...  \n1454         NaN       0      6    2006        WD         Normal  \n1455         NaN       0      4    2006        WD        Abnorml  \n1456         NaN       0      9    2006        WD        Abnorml  \n1457        Shed     700      7    2006        WD         Normal  \n1458         NaN       0     11    2006        WD         Normal  \n\n[1459 rows x 80 columns]",
      "text/html": "<div>\n<style scoped>\n    .dataframe tbody tr th:only-of-type {\n        vertical-align: middle;\n    }\n\n    .dataframe tbody tr th {\n        vertical-align: top;\n    }\n\n    .dataframe thead th {\n        text-align: right;\n    }\n</style>\n<table border=\"1\" class=\"dataframe\">\n  <thead>\n    <tr style=\"text-align: right;\">\n      <th></th>\n      <th>Id</th>\n      <th>MSSubClass</th>\n      <th>MSZoning</th>\n      <th>LotFrontage</th>\n      <th>LotArea</th>\n      <th>Street</th>\n      <th>Alley</th>\n      <th>LotShape</th>\n      <th>LandContour</th>\n      <th>Utilities</th>\n      <th>...</th>\n      <th>ScreenPorch</th>\n      <th>PoolArea</th>\n      <th>PoolQC</th>\n      <th>Fence</th>\n      <th>MiscFeature</th>\n      <th>MiscVal</th>\n      <th>MoSold</th>\n      <th>YrSold</th>\n      <th>SaleType</th>\n      <th>SaleCondition</th>\n    </tr>\n  </thead>\n  <tbody>\n    <tr>\n      <th>0</th>\n      <td>1461</td>\n      <td>20</td>\n      <td>RH</td>\n      <td>80.0</td>\n      <td>11622</td>\n      <td>Pave</td>\n      <td>NaN</td>\n      <td>Reg</td>\n      <td>Lvl</td>\n      <td>AllPub</td>\n      <td>...</td>\n      <td>120</td>\n      <td>0</td>\n      <td>NaN</td>\n      <td>MnPrv</td>\n      <td>NaN</td>\n      <td>0</td>\n      <td>6</td>\n      <td>2010</td>\n      <td>WD</td>\n      <td>Normal</td>\n    </tr>\n    <tr>\n      <th>1</th>\n      <td>1462</td>\n      <td>20</td>\n      <td>RL</td>\n      <td>81.0</td>\n      <td>14267</td>\n      <td>Pave</td>\n      <td>NaN</td>\n      <td>IR1</td>\n      <td>Lvl</td>\n      <td>AllPub</td>\n      <td>...</td>\n      <td>0</td>\n      <td>0</td>\n      <td>NaN</td>\n      <td>NaN</td>\n      <td>Gar2</td>\n      <td>12500</td>\n      <td>6</td>\n      <td>2010</td>\n      <td>WD</td>\n      <td>Normal</td>\n    </tr>\n    <tr>\n      <th>2</th>\n      <td>1463</td>\n      <td>60</td>\n      <td>RL</td>\n      <td>74.0</td>\n      <td>13830</td>\n      <td>Pave</td>\n      <td>NaN</td>\n      <td>IR1</td>\n      <td>Lvl</td>\n      <td>AllPub</td>\n      <td>...</td>\n      <td>0</td>\n      <td>0</td>\n      <td>NaN</td>\n      <td>MnPrv</td>\n      <td>NaN</td>\n      <td>0</td>\n      <td>3</td>\n      <td>2010</td>\n      <td>WD</td>\n      <td>Normal</td>\n    </tr>\n    <tr>\n      <th>3</th>\n      <td>1464</td>\n      <td>60</td>\n      <td>RL</td>\n      <td>78.0</td>\n      <td>9978</td>\n      <td>Pave</td>\n      <td>NaN</td>\n      <td>IR1</td>\n      <td>Lvl</td>\n      <td>AllPub</td>\n      <td>...</td>\n      <td>0</td>\n      <td>0</td>\n      <td>NaN</td>\n      <td>NaN</td>\n      <td>NaN</td>\n      <td>0</td>\n      <td>6</td>\n      <td>2010</td>\n      <td>WD</td>\n      <td>Normal</td>\n    </tr>\n    <tr>\n      <th>4</th>\n      <td>1465</td>\n      <td>120</td>\n      <td>RL</td>\n      <td>43.0</td>\n      <td>5005</td>\n      <td>Pave</td>\n      <td>NaN</td>\n      <td>IR1</td>\n      <td>HLS</td>\n      <td>AllPub</td>\n      <td>...</td>\n      <td>144</td>\n      <td>0</td>\n      <td>NaN</td>\n      <td>NaN</td>\n      <td>NaN</td>\n      <td>0</td>\n      <td>1</td>\n      <td>2010</td>\n      <td>WD</td>\n      <td>Normal</td>\n    </tr>\n    <tr>\n      <th>...</th>\n      <td>...</td>\n      <td>...</td>\n      <td>...</td>\n      <td>...</td>\n      <td>...</td>\n      <td>...</td>\n      <td>...</td>\n      <td>...</td>\n      <td>...</td>\n      <td>...</td>\n      <td>...</td>\n      <td>...</td>\n      <td>...</td>\n      <td>...</td>\n      <td>...</td>\n      <td>...</td>\n      <td>...</td>\n      <td>...</td>\n      <td>...</td>\n      <td>...</td>\n      <td>...</td>\n    </tr>\n    <tr>\n      <th>1454</th>\n      <td>2915</td>\n      <td>160</td>\n      <td>RM</td>\n      <td>21.0</td>\n      <td>1936</td>\n      <td>Pave</td>\n      <td>NaN</td>\n      <td>Reg</td>\n      <td>Lvl</td>\n      <td>AllPub</td>\n      <td>...</td>\n      <td>0</td>\n      <td>0</td>\n      <td>NaN</td>\n      <td>NaN</td>\n      <td>NaN</td>\n      <td>0</td>\n      <td>6</td>\n      <td>2006</td>\n      <td>WD</td>\n      <td>Normal</td>\n    </tr>\n    <tr>\n      <th>1455</th>\n      <td>2916</td>\n      <td>160</td>\n      <td>RM</td>\n      <td>21.0</td>\n      <td>1894</td>\n      <td>Pave</td>\n      <td>NaN</td>\n      <td>Reg</td>\n      <td>Lvl</td>\n      <td>AllPub</td>\n      <td>...</td>\n      <td>0</td>\n      <td>0</td>\n      <td>NaN</td>\n      <td>NaN</td>\n      <td>NaN</td>\n      <td>0</td>\n      <td>4</td>\n      <td>2006</td>\n      <td>WD</td>\n      <td>Abnorml</td>\n    </tr>\n    <tr>\n      <th>1456</th>\n      <td>2917</td>\n      <td>20</td>\n      <td>RL</td>\n      <td>160.0</td>\n      <td>20000</td>\n      <td>Pave</td>\n      <td>NaN</td>\n      <td>Reg</td>\n      <td>Lvl</td>\n      <td>AllPub</td>\n      <td>...</td>\n      <td>0</td>\n      <td>0</td>\n      <td>NaN</td>\n      <td>NaN</td>\n      <td>NaN</td>\n      <td>0</td>\n      <td>9</td>\n      <td>2006</td>\n      <td>WD</td>\n      <td>Abnorml</td>\n    </tr>\n    <tr>\n      <th>1457</th>\n      <td>2918</td>\n      <td>85</td>\n      <td>RL</td>\n      <td>62.0</td>\n      <td>10441</td>\n      <td>Pave</td>\n      <td>NaN</td>\n      <td>Reg</td>\n      <td>Lvl</td>\n      <td>AllPub</td>\n      <td>...</td>\n      <td>0</td>\n      <td>0</td>\n      <td>NaN</td>\n      <td>MnPrv</td>\n      <td>Shed</td>\n      <td>700</td>\n      <td>7</td>\n      <td>2006</td>\n      <td>WD</td>\n      <td>Normal</td>\n    </tr>\n    <tr>\n      <th>1458</th>\n      <td>2919</td>\n      <td>60</td>\n      <td>RL</td>\n      <td>74.0</td>\n      <td>9627</td>\n      <td>Pave</td>\n      <td>NaN</td>\n      <td>Reg</td>\n      <td>Lvl</td>\n      <td>AllPub</td>\n      <td>...</td>\n      <td>0</td>\n      <td>0</td>\n      <td>NaN</td>\n      <td>NaN</td>\n      <td>NaN</td>\n      <td>0</td>\n      <td>11</td>\n      <td>2006</td>\n      <td>WD</td>\n      <td>Normal</td>\n    </tr>\n  </tbody>\n</table>\n<p>1459 rows × 80 columns</p>\n</div>"
     },
     "execution_count": 2,
     "metadata": {},
     "output_type": "execute_result"
    }
   ],
   "source": [
    "test_data = pd.read_csv(\"./test.csv\")\n",
    "test_data"
   ],
   "metadata": {
    "collapsed": false,
    "ExecuteTime": {
     "end_time": "2024-11-02T22:22:00.714756900Z",
     "start_time": "2024-11-02T22:22:00.571763500Z"
    }
   },
   "id": "2c9d65ecda7922c4"
  },
  {
   "cell_type": "code",
   "execution_count": 3,
   "outputs": [
    {
     "data": {
      "text/plain": "(1460, 81)"
     },
     "execution_count": 3,
     "metadata": {},
     "output_type": "execute_result"
    }
   ],
   "source": [
    "data.shape"
   ],
   "metadata": {
    "collapsed": false,
    "ExecuteTime": {
     "end_time": "2024-11-02T22:22:00.844511600Z",
     "start_time": "2024-11-02T22:22:00.659668600Z"
    }
   },
   "id": "14b935bb657f045d"
  },
  {
   "cell_type": "code",
   "execution_count": 4,
   "outputs": [
    {
     "data": {
      "text/plain": "Id                 0\nMSSubClass         0\nMSZoning           0\nLotFrontage      259\nLotArea            0\n                ... \nMoSold             0\nYrSold             0\nSaleType           0\nSaleCondition      0\nSalePrice          0\nLength: 81, dtype: int64"
     },
     "execution_count": 4,
     "metadata": {},
     "output_type": "execute_result"
    }
   ],
   "source": [
    "data.isnull().sum()"
   ],
   "metadata": {
    "collapsed": false,
    "ExecuteTime": {
     "end_time": "2024-11-02T22:22:01.121863700Z",
     "start_time": "2024-11-02T22:22:00.685759Z"
    }
   },
   "id": "bfdaa601264df4d8"
  },
  {
   "cell_type": "code",
   "execution_count": 5,
   "outputs": [
    {
     "data": {
      "text/plain": "Id                 0\nMSSubClass         0\nMSZoning           4\nLotFrontage      227\nLotArea            0\n                ... \nMiscVal            0\nMoSold             0\nYrSold             0\nSaleType           1\nSaleCondition      0\nLength: 80, dtype: int64"
     },
     "execution_count": 5,
     "metadata": {},
     "output_type": "execute_result"
    }
   ],
   "source": [
    "test_data.isnull().sum()"
   ],
   "metadata": {
    "collapsed": false,
    "ExecuteTime": {
     "end_time": "2024-11-02T22:22:01.165866500Z",
     "start_time": "2024-11-02T22:22:00.732975600Z"
    }
   },
   "id": "669031532d59ede9"
  },
  {
   "cell_type": "code",
   "execution_count": 6,
   "outputs": [
    {
     "data": {
      "text/plain": "Id                 int64\nMSSubClass         int64\nMSZoning          object\nLotFrontage      float64\nLotArea            int64\n                  ...   \nMoSold             int64\nYrSold             int64\nSaleType          object\nSaleCondition     object\nSalePrice          int64\nLength: 81, dtype: object"
     },
     "execution_count": 6,
     "metadata": {},
     "output_type": "execute_result"
    }
   ],
   "source": [
    "data.dtypes"
   ],
   "metadata": {
    "collapsed": false,
    "ExecuteTime": {
     "end_time": "2024-11-02T22:22:01.211790400Z",
     "start_time": "2024-11-02T22:22:00.767964600Z"
    }
   },
   "id": "276b58ccd60d92de"
  },
  {
   "cell_type": "markdown",
   "source": [
    "In the PoolQC I have 1453 missing points from 1460 so i decided to remove this feature"
   ],
   "metadata": {
    "collapsed": false
   },
   "id": "9c2a111da934524f"
  },
  {
   "cell_type": "code",
   "execution_count": 7,
   "outputs": [
    {
     "data": {
      "text/plain": "        Id  MSSubClass MSZoning  LotFrontage  LotArea Street Alley LotShape  \\\n0     1461          20       RH         80.0    11622   Pave   NaN      Reg   \n1     1462          20       RL         81.0    14267   Pave   NaN      IR1   \n2     1463          60       RL         74.0    13830   Pave   NaN      IR1   \n3     1464          60       RL         78.0     9978   Pave   NaN      IR1   \n4     1465         120       RL         43.0     5005   Pave   NaN      IR1   \n...    ...         ...      ...          ...      ...    ...   ...      ...   \n1454  2915         160       RM         21.0     1936   Pave   NaN      Reg   \n1455  2916         160       RM         21.0     1894   Pave   NaN      Reg   \n1456  2917          20       RL        160.0    20000   Pave   NaN      Reg   \n1457  2918          85       RL         62.0    10441   Pave   NaN      Reg   \n1458  2919          60       RL         74.0     9627   Pave   NaN      Reg   \n\n     LandContour Utilities  ... 3SsnPorch ScreenPorch PoolArea  Fence  \\\n0            Lvl    AllPub  ...         0         120        0  MnPrv   \n1            Lvl    AllPub  ...         0           0        0    NaN   \n2            Lvl    AllPub  ...         0           0        0  MnPrv   \n3            Lvl    AllPub  ...         0           0        0    NaN   \n4            HLS    AllPub  ...         0         144        0    NaN   \n...          ...       ...  ...       ...         ...      ...    ...   \n1454         Lvl    AllPub  ...         0           0        0    NaN   \n1455         Lvl    AllPub  ...         0           0        0    NaN   \n1456         Lvl    AllPub  ...         0           0        0    NaN   \n1457         Lvl    AllPub  ...         0           0        0  MnPrv   \n1458         Lvl    AllPub  ...         0           0        0    NaN   \n\n     MiscFeature MiscVal MoSold  YrSold  SaleType  SaleCondition  \n0            NaN       0      6    2010        WD         Normal  \n1           Gar2   12500      6    2010        WD         Normal  \n2            NaN       0      3    2010        WD         Normal  \n3            NaN       0      6    2010        WD         Normal  \n4            NaN       0      1    2010        WD         Normal  \n...          ...     ...    ...     ...       ...            ...  \n1454         NaN       0      6    2006        WD         Normal  \n1455         NaN       0      4    2006        WD        Abnorml  \n1456         NaN       0      9    2006        WD        Abnorml  \n1457        Shed     700      7    2006        WD         Normal  \n1458         NaN       0     11    2006        WD         Normal  \n\n[1459 rows x 79 columns]",
      "text/html": "<div>\n<style scoped>\n    .dataframe tbody tr th:only-of-type {\n        vertical-align: middle;\n    }\n\n    .dataframe tbody tr th {\n        vertical-align: top;\n    }\n\n    .dataframe thead th {\n        text-align: right;\n    }\n</style>\n<table border=\"1\" class=\"dataframe\">\n  <thead>\n    <tr style=\"text-align: right;\">\n      <th></th>\n      <th>Id</th>\n      <th>MSSubClass</th>\n      <th>MSZoning</th>\n      <th>LotFrontage</th>\n      <th>LotArea</th>\n      <th>Street</th>\n      <th>Alley</th>\n      <th>LotShape</th>\n      <th>LandContour</th>\n      <th>Utilities</th>\n      <th>...</th>\n      <th>3SsnPorch</th>\n      <th>ScreenPorch</th>\n      <th>PoolArea</th>\n      <th>Fence</th>\n      <th>MiscFeature</th>\n      <th>MiscVal</th>\n      <th>MoSold</th>\n      <th>YrSold</th>\n      <th>SaleType</th>\n      <th>SaleCondition</th>\n    </tr>\n  </thead>\n  <tbody>\n    <tr>\n      <th>0</th>\n      <td>1461</td>\n      <td>20</td>\n      <td>RH</td>\n      <td>80.0</td>\n      <td>11622</td>\n      <td>Pave</td>\n      <td>NaN</td>\n      <td>Reg</td>\n      <td>Lvl</td>\n      <td>AllPub</td>\n      <td>...</td>\n      <td>0</td>\n      <td>120</td>\n      <td>0</td>\n      <td>MnPrv</td>\n      <td>NaN</td>\n      <td>0</td>\n      <td>6</td>\n      <td>2010</td>\n      <td>WD</td>\n      <td>Normal</td>\n    </tr>\n    <tr>\n      <th>1</th>\n      <td>1462</td>\n      <td>20</td>\n      <td>RL</td>\n      <td>81.0</td>\n      <td>14267</td>\n      <td>Pave</td>\n      <td>NaN</td>\n      <td>IR1</td>\n      <td>Lvl</td>\n      <td>AllPub</td>\n      <td>...</td>\n      <td>0</td>\n      <td>0</td>\n      <td>0</td>\n      <td>NaN</td>\n      <td>Gar2</td>\n      <td>12500</td>\n      <td>6</td>\n      <td>2010</td>\n      <td>WD</td>\n      <td>Normal</td>\n    </tr>\n    <tr>\n      <th>2</th>\n      <td>1463</td>\n      <td>60</td>\n      <td>RL</td>\n      <td>74.0</td>\n      <td>13830</td>\n      <td>Pave</td>\n      <td>NaN</td>\n      <td>IR1</td>\n      <td>Lvl</td>\n      <td>AllPub</td>\n      <td>...</td>\n      <td>0</td>\n      <td>0</td>\n      <td>0</td>\n      <td>MnPrv</td>\n      <td>NaN</td>\n      <td>0</td>\n      <td>3</td>\n      <td>2010</td>\n      <td>WD</td>\n      <td>Normal</td>\n    </tr>\n    <tr>\n      <th>3</th>\n      <td>1464</td>\n      <td>60</td>\n      <td>RL</td>\n      <td>78.0</td>\n      <td>9978</td>\n      <td>Pave</td>\n      <td>NaN</td>\n      <td>IR1</td>\n      <td>Lvl</td>\n      <td>AllPub</td>\n      <td>...</td>\n      <td>0</td>\n      <td>0</td>\n      <td>0</td>\n      <td>NaN</td>\n      <td>NaN</td>\n      <td>0</td>\n      <td>6</td>\n      <td>2010</td>\n      <td>WD</td>\n      <td>Normal</td>\n    </tr>\n    <tr>\n      <th>4</th>\n      <td>1465</td>\n      <td>120</td>\n      <td>RL</td>\n      <td>43.0</td>\n      <td>5005</td>\n      <td>Pave</td>\n      <td>NaN</td>\n      <td>IR1</td>\n      <td>HLS</td>\n      <td>AllPub</td>\n      <td>...</td>\n      <td>0</td>\n      <td>144</td>\n      <td>0</td>\n      <td>NaN</td>\n      <td>NaN</td>\n      <td>0</td>\n      <td>1</td>\n      <td>2010</td>\n      <td>WD</td>\n      <td>Normal</td>\n    </tr>\n    <tr>\n      <th>...</th>\n      <td>...</td>\n      <td>...</td>\n      <td>...</td>\n      <td>...</td>\n      <td>...</td>\n      <td>...</td>\n      <td>...</td>\n      <td>...</td>\n      <td>...</td>\n      <td>...</td>\n      <td>...</td>\n      <td>...</td>\n      <td>...</td>\n      <td>...</td>\n      <td>...</td>\n      <td>...</td>\n      <td>...</td>\n      <td>...</td>\n      <td>...</td>\n      <td>...</td>\n      <td>...</td>\n    </tr>\n    <tr>\n      <th>1454</th>\n      <td>2915</td>\n      <td>160</td>\n      <td>RM</td>\n      <td>21.0</td>\n      <td>1936</td>\n      <td>Pave</td>\n      <td>NaN</td>\n      <td>Reg</td>\n      <td>Lvl</td>\n      <td>AllPub</td>\n      <td>...</td>\n      <td>0</td>\n      <td>0</td>\n      <td>0</td>\n      <td>NaN</td>\n      <td>NaN</td>\n      <td>0</td>\n      <td>6</td>\n      <td>2006</td>\n      <td>WD</td>\n      <td>Normal</td>\n    </tr>\n    <tr>\n      <th>1455</th>\n      <td>2916</td>\n      <td>160</td>\n      <td>RM</td>\n      <td>21.0</td>\n      <td>1894</td>\n      <td>Pave</td>\n      <td>NaN</td>\n      <td>Reg</td>\n      <td>Lvl</td>\n      <td>AllPub</td>\n      <td>...</td>\n      <td>0</td>\n      <td>0</td>\n      <td>0</td>\n      <td>NaN</td>\n      <td>NaN</td>\n      <td>0</td>\n      <td>4</td>\n      <td>2006</td>\n      <td>WD</td>\n      <td>Abnorml</td>\n    </tr>\n    <tr>\n      <th>1456</th>\n      <td>2917</td>\n      <td>20</td>\n      <td>RL</td>\n      <td>160.0</td>\n      <td>20000</td>\n      <td>Pave</td>\n      <td>NaN</td>\n      <td>Reg</td>\n      <td>Lvl</td>\n      <td>AllPub</td>\n      <td>...</td>\n      <td>0</td>\n      <td>0</td>\n      <td>0</td>\n      <td>NaN</td>\n      <td>NaN</td>\n      <td>0</td>\n      <td>9</td>\n      <td>2006</td>\n      <td>WD</td>\n      <td>Abnorml</td>\n    </tr>\n    <tr>\n      <th>1457</th>\n      <td>2918</td>\n      <td>85</td>\n      <td>RL</td>\n      <td>62.0</td>\n      <td>10441</td>\n      <td>Pave</td>\n      <td>NaN</td>\n      <td>Reg</td>\n      <td>Lvl</td>\n      <td>AllPub</td>\n      <td>...</td>\n      <td>0</td>\n      <td>0</td>\n      <td>0</td>\n      <td>MnPrv</td>\n      <td>Shed</td>\n      <td>700</td>\n      <td>7</td>\n      <td>2006</td>\n      <td>WD</td>\n      <td>Normal</td>\n    </tr>\n    <tr>\n      <th>1458</th>\n      <td>2919</td>\n      <td>60</td>\n      <td>RL</td>\n      <td>74.0</td>\n      <td>9627</td>\n      <td>Pave</td>\n      <td>NaN</td>\n      <td>Reg</td>\n      <td>Lvl</td>\n      <td>AllPub</td>\n      <td>...</td>\n      <td>0</td>\n      <td>0</td>\n      <td>0</td>\n      <td>NaN</td>\n      <td>NaN</td>\n      <td>0</td>\n      <td>11</td>\n      <td>2006</td>\n      <td>WD</td>\n      <td>Normal</td>\n    </tr>\n  </tbody>\n</table>\n<p>1459 rows × 79 columns</p>\n</div>"
     },
     "execution_count": 7,
     "metadata": {},
     "output_type": "execute_result"
    }
   ],
   "source": [
    "data = data.drop('PoolQC', axis=1)\n",
    "test_data = test_data.drop('PoolQC', axis=1)\n",
    "test_data"
   ],
   "metadata": {
    "collapsed": false,
    "ExecuteTime": {
     "end_time": "2024-11-02T22:22:01.276480Z",
     "start_time": "2024-11-02T22:22:00.788513700Z"
    }
   },
   "id": "d33075a0c14af324"
  },
  {
   "cell_type": "markdown",
   "source": [
    "here we will deal with alley (1369 missing points)"
   ],
   "metadata": {
    "collapsed": false
   },
   "id": "89fcb7ecae9f6d73"
  },
  {
   "cell_type": "code",
   "execution_count": 8,
   "outputs": [
    {
     "data": {
      "text/plain": "array(['Grvl', 'Pave', 'nan'], dtype=object)"
     },
     "execution_count": 8,
     "metadata": {},
     "output_type": "execute_result"
    }
   ],
   "source": [
    "import numpy as np\n",
    "data['Alley'] = data['Alley'].fillna('nan')\n",
    "test_data['Alley'] = data['Alley'].fillna('nan')\n",
    "np.unique(data[\"Alley\"].values)"
   ],
   "metadata": {
    "collapsed": false,
    "ExecuteTime": {
     "end_time": "2024-11-02T22:22:01.512393Z",
     "start_time": "2024-11-02T22:22:00.853561600Z"
    }
   },
   "id": "d21cfec0756661f9"
  },
  {
   "cell_type": "code",
   "execution_count": 9,
   "outputs": [
    {
     "data": {
      "text/plain": "array([0, 1, 2], dtype=int64)"
     },
     "execution_count": 9,
     "metadata": {},
     "output_type": "execute_result"
    }
   ],
   "source": [
    "Alley_mapping = {\"nan\": 0, \"Grvl\": 1, \"Pave\": 2}\n",
    "data[\"Alley\"] = data[\"Alley\"].map(Alley_mapping)\n",
    "test_data[\"Alley\"] = test_data[\"Alley\"].map(Alley_mapping)\n",
    "np.unique(test_data[\"Alley\"])"
   ],
   "metadata": {
    "collapsed": false,
    "ExecuteTime": {
     "end_time": "2024-11-02T22:22:01.595393700Z",
     "start_time": "2024-11-02T22:22:00.896830100Z"
    }
   },
   "id": "59b1009afa30001"
  },
  {
   "cell_type": "markdown",
   "source": [
    "dealing with LotFrontage : i decided to assign 0 to the missing points (~250 missing points)"
   ],
   "metadata": {
    "collapsed": false
   },
   "id": "5999f9f7f40e41d7"
  },
  {
   "cell_type": "code",
   "execution_count": 10,
   "outputs": [],
   "source": [
    "data['LotFrontage'] = data['LotFrontage'].fillna(0)\n",
    "test_data[\"LotFrontage\"] = test_data['LotFrontage'].fillna(0)"
   ],
   "metadata": {
    "collapsed": false,
    "ExecuteTime": {
     "end_time": "2024-11-02T22:22:01.600391600Z",
     "start_time": "2024-11-02T22:22:00.941165800Z"
    }
   },
   "id": "5906ef3a5739134a"
  },
  {
   "cell_type": "markdown",
   "source": [
    "dealing with MasVnrArea and MasVnrType we have 8, 872 missed points respectively"
   ],
   "metadata": {
    "collapsed": false
   },
   "id": "c6d1ac5c7cba8fc0"
  },
  {
   "cell_type": "code",
   "execution_count": 11,
   "outputs": [
    {
     "data": {
      "text/plain": "234     NaN\n529     NaN\n650     NaN\n936     NaN\n973     NaN\n977     NaN\n1243    NaN\n1278    NaN\nName: MasVnrType, dtype: object"
     },
     "execution_count": 11,
     "metadata": {},
     "output_type": "execute_result"
    }
   ],
   "source": [
    "data[data[\"MasVnrArea\"].isna()][\"MasVnrType\"]"
   ],
   "metadata": {
    "collapsed": false,
    "ExecuteTime": {
     "end_time": "2024-11-02T22:22:01.677539400Z",
     "start_time": "2024-11-02T22:22:00.970565700Z"
    }
   },
   "id": "b3c7045339a6d9d9"
  },
  {
   "cell_type": "code",
   "execution_count": 12,
   "outputs": [],
   "source": [
    "# the missing points in MasVnrArea are None in MasVnrType so we will substitute them with 0\n",
    "data['MasVnrArea'] = data['MasVnrArea'].fillna(0)\n",
    "test_data[\"MasVnrArea\"] = test_data['MasVnrArea'].fillna(0)"
   ],
   "metadata": {
    "collapsed": false,
    "ExecuteTime": {
     "end_time": "2024-11-02T22:22:01.682542400Z",
     "start_time": "2024-11-02T22:22:01.013209900Z"
    }
   },
   "id": "877bcebdc3236a1d"
  },
  {
   "cell_type": "code",
   "execution_count": 13,
   "outputs": [],
   "source": [
    "# for MasVnrType -> one-hot encoding\n",
    "data['MasVnrType'] = data['MasVnrType'].fillna('nan')\n",
    "test_data['MasVnrType'] = data['MasVnrType'].fillna('nan')"
   ],
   "metadata": {
    "collapsed": false,
    "ExecuteTime": {
     "end_time": "2024-11-02T22:22:01.716723100Z",
     "start_time": "2024-11-02T22:22:01.046479400Z"
    }
   },
   "id": "876379e6eed69e33"
  },
  {
   "cell_type": "code",
   "execution_count": 14,
   "outputs": [
    {
     "data": {
      "text/plain": "        Id  MSSubClass MSZoning  LotFrontage  LotArea Street  Alley LotShape  \\\n0     1461          20       RH         80.0    11622   Pave      0      Reg   \n1     1462          20       RL         81.0    14267   Pave      0      IR1   \n2     1463          60       RL         74.0    13830   Pave      0      IR1   \n3     1464          60       RL         78.0     9978   Pave      0      IR1   \n4     1465         120       RL         43.0     5005   Pave      0      IR1   \n...    ...         ...      ...          ...      ...    ...    ...      ...   \n1454  2915         160       RM         21.0     1936   Pave      2      Reg   \n1455  2916         160       RM         21.0     1894   Pave      0      Reg   \n1456  2917          20       RL        160.0    20000   Pave      0      Reg   \n1457  2918          85       RL         62.0    10441   Pave      0      Reg   \n1458  2919          60       RL         74.0     9627   Pave      0      Reg   \n\n     LandContour Utilities  ...  Fence MiscFeature MiscVal MoSold YrSold  \\\n0            Lvl    AllPub  ...  MnPrv         NaN       0      6   2010   \n1            Lvl    AllPub  ...    NaN        Gar2   12500      6   2010   \n2            Lvl    AllPub  ...  MnPrv         NaN       0      3   2010   \n3            Lvl    AllPub  ...    NaN         NaN       0      6   2010   \n4            HLS    AllPub  ...    NaN         NaN       0      1   2010   \n...          ...       ...  ...    ...         ...     ...    ...    ...   \n1454         Lvl    AllPub  ...    NaN         NaN       0      6   2006   \n1455         Lvl    AllPub  ...    NaN         NaN       0      4   2006   \n1456         Lvl    AllPub  ...    NaN         NaN       0      9   2006   \n1457         Lvl    AllPub  ...  MnPrv        Shed     700      7   2006   \n1458         Lvl    AllPub  ...    NaN         NaN       0     11   2006   \n\n     SaleType SaleCondition  MasVnrType_BrkFace  MasVnrType_Stone  \\\n0          WD        Normal                True             False   \n1          WD        Normal               False             False   \n2          WD        Normal                True             False   \n3          WD        Normal               False             False   \n4          WD        Normal                True             False   \n...       ...           ...                 ...               ...   \n1454       WD        Normal               False             False   \n1455       WD       Abnorml               False             False   \n1456       WD       Abnorml               False              True   \n1457       WD        Normal               False             False   \n1458       WD        Normal               False             False   \n\n      MasVnrType_nan  \n0              False  \n1               True  \n2              False  \n3               True  \n4              False  \n...              ...  \n1454            True  \n1455            True  \n1456           False  \n1457            True  \n1458            True  \n\n[1459 rows x 81 columns]",
      "text/html": "<div>\n<style scoped>\n    .dataframe tbody tr th:only-of-type {\n        vertical-align: middle;\n    }\n\n    .dataframe tbody tr th {\n        vertical-align: top;\n    }\n\n    .dataframe thead th {\n        text-align: right;\n    }\n</style>\n<table border=\"1\" class=\"dataframe\">\n  <thead>\n    <tr style=\"text-align: right;\">\n      <th></th>\n      <th>Id</th>\n      <th>MSSubClass</th>\n      <th>MSZoning</th>\n      <th>LotFrontage</th>\n      <th>LotArea</th>\n      <th>Street</th>\n      <th>Alley</th>\n      <th>LotShape</th>\n      <th>LandContour</th>\n      <th>Utilities</th>\n      <th>...</th>\n      <th>Fence</th>\n      <th>MiscFeature</th>\n      <th>MiscVal</th>\n      <th>MoSold</th>\n      <th>YrSold</th>\n      <th>SaleType</th>\n      <th>SaleCondition</th>\n      <th>MasVnrType_BrkFace</th>\n      <th>MasVnrType_Stone</th>\n      <th>MasVnrType_nan</th>\n    </tr>\n  </thead>\n  <tbody>\n    <tr>\n      <th>0</th>\n      <td>1461</td>\n      <td>20</td>\n      <td>RH</td>\n      <td>80.0</td>\n      <td>11622</td>\n      <td>Pave</td>\n      <td>0</td>\n      <td>Reg</td>\n      <td>Lvl</td>\n      <td>AllPub</td>\n      <td>...</td>\n      <td>MnPrv</td>\n      <td>NaN</td>\n      <td>0</td>\n      <td>6</td>\n      <td>2010</td>\n      <td>WD</td>\n      <td>Normal</td>\n      <td>True</td>\n      <td>False</td>\n      <td>False</td>\n    </tr>\n    <tr>\n      <th>1</th>\n      <td>1462</td>\n      <td>20</td>\n      <td>RL</td>\n      <td>81.0</td>\n      <td>14267</td>\n      <td>Pave</td>\n      <td>0</td>\n      <td>IR1</td>\n      <td>Lvl</td>\n      <td>AllPub</td>\n      <td>...</td>\n      <td>NaN</td>\n      <td>Gar2</td>\n      <td>12500</td>\n      <td>6</td>\n      <td>2010</td>\n      <td>WD</td>\n      <td>Normal</td>\n      <td>False</td>\n      <td>False</td>\n      <td>True</td>\n    </tr>\n    <tr>\n      <th>2</th>\n      <td>1463</td>\n      <td>60</td>\n      <td>RL</td>\n      <td>74.0</td>\n      <td>13830</td>\n      <td>Pave</td>\n      <td>0</td>\n      <td>IR1</td>\n      <td>Lvl</td>\n      <td>AllPub</td>\n      <td>...</td>\n      <td>MnPrv</td>\n      <td>NaN</td>\n      <td>0</td>\n      <td>3</td>\n      <td>2010</td>\n      <td>WD</td>\n      <td>Normal</td>\n      <td>True</td>\n      <td>False</td>\n      <td>False</td>\n    </tr>\n    <tr>\n      <th>3</th>\n      <td>1464</td>\n      <td>60</td>\n      <td>RL</td>\n      <td>78.0</td>\n      <td>9978</td>\n      <td>Pave</td>\n      <td>0</td>\n      <td>IR1</td>\n      <td>Lvl</td>\n      <td>AllPub</td>\n      <td>...</td>\n      <td>NaN</td>\n      <td>NaN</td>\n      <td>0</td>\n      <td>6</td>\n      <td>2010</td>\n      <td>WD</td>\n      <td>Normal</td>\n      <td>False</td>\n      <td>False</td>\n      <td>True</td>\n    </tr>\n    <tr>\n      <th>4</th>\n      <td>1465</td>\n      <td>120</td>\n      <td>RL</td>\n      <td>43.0</td>\n      <td>5005</td>\n      <td>Pave</td>\n      <td>0</td>\n      <td>IR1</td>\n      <td>HLS</td>\n      <td>AllPub</td>\n      <td>...</td>\n      <td>NaN</td>\n      <td>NaN</td>\n      <td>0</td>\n      <td>1</td>\n      <td>2010</td>\n      <td>WD</td>\n      <td>Normal</td>\n      <td>True</td>\n      <td>False</td>\n      <td>False</td>\n    </tr>\n    <tr>\n      <th>...</th>\n      <td>...</td>\n      <td>...</td>\n      <td>...</td>\n      <td>...</td>\n      <td>...</td>\n      <td>...</td>\n      <td>...</td>\n      <td>...</td>\n      <td>...</td>\n      <td>...</td>\n      <td>...</td>\n      <td>...</td>\n      <td>...</td>\n      <td>...</td>\n      <td>...</td>\n      <td>...</td>\n      <td>...</td>\n      <td>...</td>\n      <td>...</td>\n      <td>...</td>\n      <td>...</td>\n    </tr>\n    <tr>\n      <th>1454</th>\n      <td>2915</td>\n      <td>160</td>\n      <td>RM</td>\n      <td>21.0</td>\n      <td>1936</td>\n      <td>Pave</td>\n      <td>2</td>\n      <td>Reg</td>\n      <td>Lvl</td>\n      <td>AllPub</td>\n      <td>...</td>\n      <td>NaN</td>\n      <td>NaN</td>\n      <td>0</td>\n      <td>6</td>\n      <td>2006</td>\n      <td>WD</td>\n      <td>Normal</td>\n      <td>False</td>\n      <td>False</td>\n      <td>True</td>\n    </tr>\n    <tr>\n      <th>1455</th>\n      <td>2916</td>\n      <td>160</td>\n      <td>RM</td>\n      <td>21.0</td>\n      <td>1894</td>\n      <td>Pave</td>\n      <td>0</td>\n      <td>Reg</td>\n      <td>Lvl</td>\n      <td>AllPub</td>\n      <td>...</td>\n      <td>NaN</td>\n      <td>NaN</td>\n      <td>0</td>\n      <td>4</td>\n      <td>2006</td>\n      <td>WD</td>\n      <td>Abnorml</td>\n      <td>False</td>\n      <td>False</td>\n      <td>True</td>\n    </tr>\n    <tr>\n      <th>1456</th>\n      <td>2917</td>\n      <td>20</td>\n      <td>RL</td>\n      <td>160.0</td>\n      <td>20000</td>\n      <td>Pave</td>\n      <td>0</td>\n      <td>Reg</td>\n      <td>Lvl</td>\n      <td>AllPub</td>\n      <td>...</td>\n      <td>NaN</td>\n      <td>NaN</td>\n      <td>0</td>\n      <td>9</td>\n      <td>2006</td>\n      <td>WD</td>\n      <td>Abnorml</td>\n      <td>False</td>\n      <td>True</td>\n      <td>False</td>\n    </tr>\n    <tr>\n      <th>1457</th>\n      <td>2918</td>\n      <td>85</td>\n      <td>RL</td>\n      <td>62.0</td>\n      <td>10441</td>\n      <td>Pave</td>\n      <td>0</td>\n      <td>Reg</td>\n      <td>Lvl</td>\n      <td>AllPub</td>\n      <td>...</td>\n      <td>MnPrv</td>\n      <td>Shed</td>\n      <td>700</td>\n      <td>7</td>\n      <td>2006</td>\n      <td>WD</td>\n      <td>Normal</td>\n      <td>False</td>\n      <td>False</td>\n      <td>True</td>\n    </tr>\n    <tr>\n      <th>1458</th>\n      <td>2919</td>\n      <td>60</td>\n      <td>RL</td>\n      <td>74.0</td>\n      <td>9627</td>\n      <td>Pave</td>\n      <td>0</td>\n      <td>Reg</td>\n      <td>Lvl</td>\n      <td>AllPub</td>\n      <td>...</td>\n      <td>NaN</td>\n      <td>NaN</td>\n      <td>0</td>\n      <td>11</td>\n      <td>2006</td>\n      <td>WD</td>\n      <td>Normal</td>\n      <td>False</td>\n      <td>False</td>\n      <td>True</td>\n    </tr>\n  </tbody>\n</table>\n<p>1459 rows × 81 columns</p>\n</div>"
     },
     "execution_count": 14,
     "metadata": {},
     "output_type": "execute_result"
    }
   ],
   "source": [
    "df_encoded = pd.get_dummies(data, columns=['MasVnrType'], drop_first=True)\n",
    "sale = df_encoded['SalePrice']\n",
    "df_encoded = df_encoded.drop('SalePrice', axis=1)\n",
    "df_encoded.insert(len(df_encoded.columns), \"SalePrice\", sale)\n",
    "data = df_encoded\n",
    "test_data = pd.get_dummies(test_data, columns=['MasVnrType'], drop_first=True)\n",
    "test_data"
   ],
   "metadata": {
    "collapsed": false,
    "ExecuteTime": {
     "end_time": "2024-11-02T22:22:01.857359900Z",
     "start_time": "2024-11-02T22:22:01.074860100Z"
    }
   },
   "id": "a41eb2e91cefc194"
  },
  {
   "cell_type": "markdown",
   "source": [
    "Deal with Bsmt_s\n",
    "I did noticed that the same nombre of nan in ~ the same in all of them so i will see what its there?\n",
    "so NA mean - No Basement"
   ],
   "metadata": {
    "collapsed": false
   },
   "id": "e5b66ebe8163330c"
  },
  {
   "cell_type": "code",
   "execution_count": 15,
   "outputs": [
    {
     "data": {
      "text/plain": "Id                      int64\nMSSubClass              int64\nMSZoning               object\nLotFrontage           float64\nLotArea                 int64\n                       ...   \nSaleCondition          object\nMasVnrType_BrkFace       bool\nMasVnrType_Stone         bool\nMasVnrType_nan           bool\nSalePrice               int64\nLength: 82, dtype: object"
     },
     "execution_count": 15,
     "metadata": {},
     "output_type": "execute_result"
    }
   ],
   "source": [
    "data.dtypes"
   ],
   "metadata": {
    "collapsed": false,
    "ExecuteTime": {
     "end_time": "2024-11-02T22:22:01.928724100Z",
     "start_time": "2024-11-02T22:22:01.194791800Z"
    }
   },
   "id": "22d6839168f7a829"
  },
  {
   "cell_type": "code",
   "execution_count": 16,
   "outputs": [],
   "source": [
    "for col in data.columns:\n",
    "    if not col.startswith(\"Bsmt\"):\n",
    "        continue\n",
    "    if data[col].dtype == \"object\":\n",
    "        data[col] = data[col].fillna(\"nan\")\n",
    "        test_data[col] = test_data[col].fillna(\"nan\")\n",
    "    else:\n",
    "        data[col] = data[col].fillna(0)\n",
    "        test_data[col] = test_data[col].fillna(0)"
   ],
   "metadata": {
    "collapsed": false,
    "ExecuteTime": {
     "end_time": "2024-11-02T22:22:02.015695600Z",
     "start_time": "2024-11-02T22:22:01.232482200Z"
    }
   },
   "id": "9f6ab8ccfbc93ff0"
  },
  {
   "cell_type": "code",
   "execution_count": 17,
   "outputs": [
    {
     "data": {
      "text/plain": "        Id  MSSubClass MSZoning  LotFrontage  LotArea Street  Alley LotShape  \\\n0        1          60       RL         65.0     8450   Pave      0      Reg   \n1        2          20       RL         80.0     9600   Pave      0      Reg   \n2        3          60       RL         68.0    11250   Pave      0      IR1   \n3        4          70       RL         60.0     9550   Pave      0      IR1   \n4        5          60       RL         84.0    14260   Pave      0      IR1   \n...    ...         ...      ...          ...      ...    ...    ...      ...   \n1455  1456          60       RL         62.0     7917   Pave      0      Reg   \n1456  1457          20       RL         85.0    13175   Pave      0      Reg   \n1457  1458          70       RL         66.0     9042   Pave      0      Reg   \n1458  1459          20       RL         68.0     9717   Pave      0      Reg   \n1459  1460          20       RL         75.0     9937   Pave      0      Reg   \n\n     LandContour Utilities  ... MiscFeature MiscVal MoSold YrSold SaleType  \\\n0            Lvl    AllPub  ...         NaN       0      2   2008       WD   \n1            Lvl    AllPub  ...         NaN       0      5   2007       WD   \n2            Lvl    AllPub  ...         NaN       0      9   2008       WD   \n3            Lvl    AllPub  ...         NaN       0      2   2006       WD   \n4            Lvl    AllPub  ...         NaN       0     12   2008       WD   \n...          ...       ...  ...         ...     ...    ...    ...      ...   \n1455         Lvl    AllPub  ...         NaN       0      8   2007       WD   \n1456         Lvl    AllPub  ...         NaN       0      2   2010       WD   \n1457         Lvl    AllPub  ...        Shed    2500      5   2010       WD   \n1458         Lvl    AllPub  ...         NaN       0      4   2010       WD   \n1459         Lvl    AllPub  ...         NaN       0      6   2008       WD   \n\n     SaleCondition MasVnrType_BrkFace  MasVnrType_Stone  MasVnrType_nan  \\\n0           Normal               True             False           False   \n1           Normal              False             False            True   \n2           Normal               True             False           False   \n3          Abnorml              False             False            True   \n4           Normal               True             False           False   \n...            ...                ...               ...             ...   \n1455        Normal              False             False            True   \n1456        Normal              False              True           False   \n1457        Normal              False             False            True   \n1458        Normal              False             False            True   \n1459        Normal              False             False            True   \n\n      SalePrice  \n0        208500  \n1        181500  \n2        223500  \n3        140000  \n4        250000  \n...         ...  \n1455     175000  \n1456     210000  \n1457     266500  \n1458     142125  \n1459     147500  \n\n[1460 rows x 82 columns]",
      "text/html": "<div>\n<style scoped>\n    .dataframe tbody tr th:only-of-type {\n        vertical-align: middle;\n    }\n\n    .dataframe tbody tr th {\n        vertical-align: top;\n    }\n\n    .dataframe thead th {\n        text-align: right;\n    }\n</style>\n<table border=\"1\" class=\"dataframe\">\n  <thead>\n    <tr style=\"text-align: right;\">\n      <th></th>\n      <th>Id</th>\n      <th>MSSubClass</th>\n      <th>MSZoning</th>\n      <th>LotFrontage</th>\n      <th>LotArea</th>\n      <th>Street</th>\n      <th>Alley</th>\n      <th>LotShape</th>\n      <th>LandContour</th>\n      <th>Utilities</th>\n      <th>...</th>\n      <th>MiscFeature</th>\n      <th>MiscVal</th>\n      <th>MoSold</th>\n      <th>YrSold</th>\n      <th>SaleType</th>\n      <th>SaleCondition</th>\n      <th>MasVnrType_BrkFace</th>\n      <th>MasVnrType_Stone</th>\n      <th>MasVnrType_nan</th>\n      <th>SalePrice</th>\n    </tr>\n  </thead>\n  <tbody>\n    <tr>\n      <th>0</th>\n      <td>1</td>\n      <td>60</td>\n      <td>RL</td>\n      <td>65.0</td>\n      <td>8450</td>\n      <td>Pave</td>\n      <td>0</td>\n      <td>Reg</td>\n      <td>Lvl</td>\n      <td>AllPub</td>\n      <td>...</td>\n      <td>NaN</td>\n      <td>0</td>\n      <td>2</td>\n      <td>2008</td>\n      <td>WD</td>\n      <td>Normal</td>\n      <td>True</td>\n      <td>False</td>\n      <td>False</td>\n      <td>208500</td>\n    </tr>\n    <tr>\n      <th>1</th>\n      <td>2</td>\n      <td>20</td>\n      <td>RL</td>\n      <td>80.0</td>\n      <td>9600</td>\n      <td>Pave</td>\n      <td>0</td>\n      <td>Reg</td>\n      <td>Lvl</td>\n      <td>AllPub</td>\n      <td>...</td>\n      <td>NaN</td>\n      <td>0</td>\n      <td>5</td>\n      <td>2007</td>\n      <td>WD</td>\n      <td>Normal</td>\n      <td>False</td>\n      <td>False</td>\n      <td>True</td>\n      <td>181500</td>\n    </tr>\n    <tr>\n      <th>2</th>\n      <td>3</td>\n      <td>60</td>\n      <td>RL</td>\n      <td>68.0</td>\n      <td>11250</td>\n      <td>Pave</td>\n      <td>0</td>\n      <td>IR1</td>\n      <td>Lvl</td>\n      <td>AllPub</td>\n      <td>...</td>\n      <td>NaN</td>\n      <td>0</td>\n      <td>9</td>\n      <td>2008</td>\n      <td>WD</td>\n      <td>Normal</td>\n      <td>True</td>\n      <td>False</td>\n      <td>False</td>\n      <td>223500</td>\n    </tr>\n    <tr>\n      <th>3</th>\n      <td>4</td>\n      <td>70</td>\n      <td>RL</td>\n      <td>60.0</td>\n      <td>9550</td>\n      <td>Pave</td>\n      <td>0</td>\n      <td>IR1</td>\n      <td>Lvl</td>\n      <td>AllPub</td>\n      <td>...</td>\n      <td>NaN</td>\n      <td>0</td>\n      <td>2</td>\n      <td>2006</td>\n      <td>WD</td>\n      <td>Abnorml</td>\n      <td>False</td>\n      <td>False</td>\n      <td>True</td>\n      <td>140000</td>\n    </tr>\n    <tr>\n      <th>4</th>\n      <td>5</td>\n      <td>60</td>\n      <td>RL</td>\n      <td>84.0</td>\n      <td>14260</td>\n      <td>Pave</td>\n      <td>0</td>\n      <td>IR1</td>\n      <td>Lvl</td>\n      <td>AllPub</td>\n      <td>...</td>\n      <td>NaN</td>\n      <td>0</td>\n      <td>12</td>\n      <td>2008</td>\n      <td>WD</td>\n      <td>Normal</td>\n      <td>True</td>\n      <td>False</td>\n      <td>False</td>\n      <td>250000</td>\n    </tr>\n    <tr>\n      <th>...</th>\n      <td>...</td>\n      <td>...</td>\n      <td>...</td>\n      <td>...</td>\n      <td>...</td>\n      <td>...</td>\n      <td>...</td>\n      <td>...</td>\n      <td>...</td>\n      <td>...</td>\n      <td>...</td>\n      <td>...</td>\n      <td>...</td>\n      <td>...</td>\n      <td>...</td>\n      <td>...</td>\n      <td>...</td>\n      <td>...</td>\n      <td>...</td>\n      <td>...</td>\n      <td>...</td>\n    </tr>\n    <tr>\n      <th>1455</th>\n      <td>1456</td>\n      <td>60</td>\n      <td>RL</td>\n      <td>62.0</td>\n      <td>7917</td>\n      <td>Pave</td>\n      <td>0</td>\n      <td>Reg</td>\n      <td>Lvl</td>\n      <td>AllPub</td>\n      <td>...</td>\n      <td>NaN</td>\n      <td>0</td>\n      <td>8</td>\n      <td>2007</td>\n      <td>WD</td>\n      <td>Normal</td>\n      <td>False</td>\n      <td>False</td>\n      <td>True</td>\n      <td>175000</td>\n    </tr>\n    <tr>\n      <th>1456</th>\n      <td>1457</td>\n      <td>20</td>\n      <td>RL</td>\n      <td>85.0</td>\n      <td>13175</td>\n      <td>Pave</td>\n      <td>0</td>\n      <td>Reg</td>\n      <td>Lvl</td>\n      <td>AllPub</td>\n      <td>...</td>\n      <td>NaN</td>\n      <td>0</td>\n      <td>2</td>\n      <td>2010</td>\n      <td>WD</td>\n      <td>Normal</td>\n      <td>False</td>\n      <td>True</td>\n      <td>False</td>\n      <td>210000</td>\n    </tr>\n    <tr>\n      <th>1457</th>\n      <td>1458</td>\n      <td>70</td>\n      <td>RL</td>\n      <td>66.0</td>\n      <td>9042</td>\n      <td>Pave</td>\n      <td>0</td>\n      <td>Reg</td>\n      <td>Lvl</td>\n      <td>AllPub</td>\n      <td>...</td>\n      <td>Shed</td>\n      <td>2500</td>\n      <td>5</td>\n      <td>2010</td>\n      <td>WD</td>\n      <td>Normal</td>\n      <td>False</td>\n      <td>False</td>\n      <td>True</td>\n      <td>266500</td>\n    </tr>\n    <tr>\n      <th>1458</th>\n      <td>1459</td>\n      <td>20</td>\n      <td>RL</td>\n      <td>68.0</td>\n      <td>9717</td>\n      <td>Pave</td>\n      <td>0</td>\n      <td>Reg</td>\n      <td>Lvl</td>\n      <td>AllPub</td>\n      <td>...</td>\n      <td>NaN</td>\n      <td>0</td>\n      <td>4</td>\n      <td>2010</td>\n      <td>WD</td>\n      <td>Normal</td>\n      <td>False</td>\n      <td>False</td>\n      <td>True</td>\n      <td>142125</td>\n    </tr>\n    <tr>\n      <th>1459</th>\n      <td>1460</td>\n      <td>20</td>\n      <td>RL</td>\n      <td>75.0</td>\n      <td>9937</td>\n      <td>Pave</td>\n      <td>0</td>\n      <td>Reg</td>\n      <td>Lvl</td>\n      <td>AllPub</td>\n      <td>...</td>\n      <td>NaN</td>\n      <td>0</td>\n      <td>6</td>\n      <td>2008</td>\n      <td>WD</td>\n      <td>Normal</td>\n      <td>False</td>\n      <td>False</td>\n      <td>True</td>\n      <td>147500</td>\n    </tr>\n  </tbody>\n</table>\n<p>1460 rows × 82 columns</p>\n</div>"
     },
     "execution_count": 17,
     "metadata": {},
     "output_type": "execute_result"
    }
   ],
   "source": [
    "data"
   ],
   "metadata": {
    "collapsed": false,
    "ExecuteTime": {
     "end_time": "2024-11-02T22:22:02.355706Z",
     "start_time": "2024-11-02T22:22:01.362644500Z"
    }
   },
   "id": "552928c3de17b345"
  },
  {
   "cell_type": "code",
   "execution_count": 18,
   "outputs": [
    {
     "data": {
      "text/plain": "        Id  MSSubClass MSZoning  LotFrontage  LotArea Street  Alley LotShape  \\\n0     1461          20       RH         80.0    11622   Pave      0      Reg   \n1     1462          20       RL         81.0    14267   Pave      0      IR1   \n2     1463          60       RL         74.0    13830   Pave      0      IR1   \n3     1464          60       RL         78.0     9978   Pave      0      IR1   \n4     1465         120       RL         43.0     5005   Pave      0      IR1   \n...    ...         ...      ...          ...      ...    ...    ...      ...   \n1454  2915         160       RM         21.0     1936   Pave      2      Reg   \n1455  2916         160       RM         21.0     1894   Pave      0      Reg   \n1456  2917          20       RL        160.0    20000   Pave      0      Reg   \n1457  2918          85       RL         62.0    10441   Pave      0      Reg   \n1458  2919          60       RL         74.0     9627   Pave      0      Reg   \n\n     LandContour Utilities  ...  Fence MiscFeature MiscVal MoSold YrSold  \\\n0            Lvl    AllPub  ...  MnPrv         NaN       0      6   2010   \n1            Lvl    AllPub  ...    NaN        Gar2   12500      6   2010   \n2            Lvl    AllPub  ...  MnPrv         NaN       0      3   2010   \n3            Lvl    AllPub  ...    NaN         NaN       0      6   2010   \n4            HLS    AllPub  ...    NaN         NaN       0      1   2010   \n...          ...       ...  ...    ...         ...     ...    ...    ...   \n1454         Lvl    AllPub  ...    NaN         NaN       0      6   2006   \n1455         Lvl    AllPub  ...    NaN         NaN       0      4   2006   \n1456         Lvl    AllPub  ...    NaN         NaN       0      9   2006   \n1457         Lvl    AllPub  ...  MnPrv        Shed     700      7   2006   \n1458         Lvl    AllPub  ...    NaN         NaN       0     11   2006   \n\n     SaleType SaleCondition  MasVnrType_BrkFace  MasVnrType_Stone  \\\n0          WD        Normal                True             False   \n1          WD        Normal               False             False   \n2          WD        Normal                True             False   \n3          WD        Normal               False             False   \n4          WD        Normal                True             False   \n...       ...           ...                 ...               ...   \n1454       WD        Normal               False             False   \n1455       WD       Abnorml               False             False   \n1456       WD       Abnorml               False              True   \n1457       WD        Normal               False             False   \n1458       WD        Normal               False             False   \n\n      MasVnrType_nan  \n0              False  \n1               True  \n2              False  \n3               True  \n4              False  \n...              ...  \n1454            True  \n1455            True  \n1456           False  \n1457            True  \n1458            True  \n\n[1459 rows x 81 columns]",
      "text/html": "<div>\n<style scoped>\n    .dataframe tbody tr th:only-of-type {\n        vertical-align: middle;\n    }\n\n    .dataframe tbody tr th {\n        vertical-align: top;\n    }\n\n    .dataframe thead th {\n        text-align: right;\n    }\n</style>\n<table border=\"1\" class=\"dataframe\">\n  <thead>\n    <tr style=\"text-align: right;\">\n      <th></th>\n      <th>Id</th>\n      <th>MSSubClass</th>\n      <th>MSZoning</th>\n      <th>LotFrontage</th>\n      <th>LotArea</th>\n      <th>Street</th>\n      <th>Alley</th>\n      <th>LotShape</th>\n      <th>LandContour</th>\n      <th>Utilities</th>\n      <th>...</th>\n      <th>Fence</th>\n      <th>MiscFeature</th>\n      <th>MiscVal</th>\n      <th>MoSold</th>\n      <th>YrSold</th>\n      <th>SaleType</th>\n      <th>SaleCondition</th>\n      <th>MasVnrType_BrkFace</th>\n      <th>MasVnrType_Stone</th>\n      <th>MasVnrType_nan</th>\n    </tr>\n  </thead>\n  <tbody>\n    <tr>\n      <th>0</th>\n      <td>1461</td>\n      <td>20</td>\n      <td>RH</td>\n      <td>80.0</td>\n      <td>11622</td>\n      <td>Pave</td>\n      <td>0</td>\n      <td>Reg</td>\n      <td>Lvl</td>\n      <td>AllPub</td>\n      <td>...</td>\n      <td>MnPrv</td>\n      <td>NaN</td>\n      <td>0</td>\n      <td>6</td>\n      <td>2010</td>\n      <td>WD</td>\n      <td>Normal</td>\n      <td>True</td>\n      <td>False</td>\n      <td>False</td>\n    </tr>\n    <tr>\n      <th>1</th>\n      <td>1462</td>\n      <td>20</td>\n      <td>RL</td>\n      <td>81.0</td>\n      <td>14267</td>\n      <td>Pave</td>\n      <td>0</td>\n      <td>IR1</td>\n      <td>Lvl</td>\n      <td>AllPub</td>\n      <td>...</td>\n      <td>NaN</td>\n      <td>Gar2</td>\n      <td>12500</td>\n      <td>6</td>\n      <td>2010</td>\n      <td>WD</td>\n      <td>Normal</td>\n      <td>False</td>\n      <td>False</td>\n      <td>True</td>\n    </tr>\n    <tr>\n      <th>2</th>\n      <td>1463</td>\n      <td>60</td>\n      <td>RL</td>\n      <td>74.0</td>\n      <td>13830</td>\n      <td>Pave</td>\n      <td>0</td>\n      <td>IR1</td>\n      <td>Lvl</td>\n      <td>AllPub</td>\n      <td>...</td>\n      <td>MnPrv</td>\n      <td>NaN</td>\n      <td>0</td>\n      <td>3</td>\n      <td>2010</td>\n      <td>WD</td>\n      <td>Normal</td>\n      <td>True</td>\n      <td>False</td>\n      <td>False</td>\n    </tr>\n    <tr>\n      <th>3</th>\n      <td>1464</td>\n      <td>60</td>\n      <td>RL</td>\n      <td>78.0</td>\n      <td>9978</td>\n      <td>Pave</td>\n      <td>0</td>\n      <td>IR1</td>\n      <td>Lvl</td>\n      <td>AllPub</td>\n      <td>...</td>\n      <td>NaN</td>\n      <td>NaN</td>\n      <td>0</td>\n      <td>6</td>\n      <td>2010</td>\n      <td>WD</td>\n      <td>Normal</td>\n      <td>False</td>\n      <td>False</td>\n      <td>True</td>\n    </tr>\n    <tr>\n      <th>4</th>\n      <td>1465</td>\n      <td>120</td>\n      <td>RL</td>\n      <td>43.0</td>\n      <td>5005</td>\n      <td>Pave</td>\n      <td>0</td>\n      <td>IR1</td>\n      <td>HLS</td>\n      <td>AllPub</td>\n      <td>...</td>\n      <td>NaN</td>\n      <td>NaN</td>\n      <td>0</td>\n      <td>1</td>\n      <td>2010</td>\n      <td>WD</td>\n      <td>Normal</td>\n      <td>True</td>\n      <td>False</td>\n      <td>False</td>\n    </tr>\n    <tr>\n      <th>...</th>\n      <td>...</td>\n      <td>...</td>\n      <td>...</td>\n      <td>...</td>\n      <td>...</td>\n      <td>...</td>\n      <td>...</td>\n      <td>...</td>\n      <td>...</td>\n      <td>...</td>\n      <td>...</td>\n      <td>...</td>\n      <td>...</td>\n      <td>...</td>\n      <td>...</td>\n      <td>...</td>\n      <td>...</td>\n      <td>...</td>\n      <td>...</td>\n      <td>...</td>\n      <td>...</td>\n    </tr>\n    <tr>\n      <th>1454</th>\n      <td>2915</td>\n      <td>160</td>\n      <td>RM</td>\n      <td>21.0</td>\n      <td>1936</td>\n      <td>Pave</td>\n      <td>2</td>\n      <td>Reg</td>\n      <td>Lvl</td>\n      <td>AllPub</td>\n      <td>...</td>\n      <td>NaN</td>\n      <td>NaN</td>\n      <td>0</td>\n      <td>6</td>\n      <td>2006</td>\n      <td>WD</td>\n      <td>Normal</td>\n      <td>False</td>\n      <td>False</td>\n      <td>True</td>\n    </tr>\n    <tr>\n      <th>1455</th>\n      <td>2916</td>\n      <td>160</td>\n      <td>RM</td>\n      <td>21.0</td>\n      <td>1894</td>\n      <td>Pave</td>\n      <td>0</td>\n      <td>Reg</td>\n      <td>Lvl</td>\n      <td>AllPub</td>\n      <td>...</td>\n      <td>NaN</td>\n      <td>NaN</td>\n      <td>0</td>\n      <td>4</td>\n      <td>2006</td>\n      <td>WD</td>\n      <td>Abnorml</td>\n      <td>False</td>\n      <td>False</td>\n      <td>True</td>\n    </tr>\n    <tr>\n      <th>1456</th>\n      <td>2917</td>\n      <td>20</td>\n      <td>RL</td>\n      <td>160.0</td>\n      <td>20000</td>\n      <td>Pave</td>\n      <td>0</td>\n      <td>Reg</td>\n      <td>Lvl</td>\n      <td>AllPub</td>\n      <td>...</td>\n      <td>NaN</td>\n      <td>NaN</td>\n      <td>0</td>\n      <td>9</td>\n      <td>2006</td>\n      <td>WD</td>\n      <td>Abnorml</td>\n      <td>False</td>\n      <td>True</td>\n      <td>False</td>\n    </tr>\n    <tr>\n      <th>1457</th>\n      <td>2918</td>\n      <td>85</td>\n      <td>RL</td>\n      <td>62.0</td>\n      <td>10441</td>\n      <td>Pave</td>\n      <td>0</td>\n      <td>Reg</td>\n      <td>Lvl</td>\n      <td>AllPub</td>\n      <td>...</td>\n      <td>MnPrv</td>\n      <td>Shed</td>\n      <td>700</td>\n      <td>7</td>\n      <td>2006</td>\n      <td>WD</td>\n      <td>Normal</td>\n      <td>False</td>\n      <td>False</td>\n      <td>True</td>\n    </tr>\n    <tr>\n      <th>1458</th>\n      <td>2919</td>\n      <td>60</td>\n      <td>RL</td>\n      <td>74.0</td>\n      <td>9627</td>\n      <td>Pave</td>\n      <td>0</td>\n      <td>Reg</td>\n      <td>Lvl</td>\n      <td>AllPub</td>\n      <td>...</td>\n      <td>NaN</td>\n      <td>NaN</td>\n      <td>0</td>\n      <td>11</td>\n      <td>2006</td>\n      <td>WD</td>\n      <td>Normal</td>\n      <td>False</td>\n      <td>False</td>\n      <td>True</td>\n    </tr>\n  </tbody>\n</table>\n<p>1459 rows × 81 columns</p>\n</div>"
     },
     "execution_count": 18,
     "metadata": {},
     "output_type": "execute_result"
    }
   ],
   "source": [
    "test_data"
   ],
   "metadata": {
    "collapsed": false,
    "ExecuteTime": {
     "end_time": "2024-11-02T22:22:02.430704700Z",
     "start_time": "2024-11-02T22:22:01.444292900Z"
    }
   },
   "id": "429f5007f49c57db"
  },
  {
   "cell_type": "code",
   "execution_count": 19,
   "outputs": [],
   "source": [
    "# here i will just get the target Column just to work comfortably.\n",
    "sale = data['SalePrice']\n",
    "data = data.drop('SalePrice', axis=1)"
   ],
   "metadata": {
    "collapsed": false,
    "ExecuteTime": {
     "end_time": "2024-11-02T22:22:02.433717500Z",
     "start_time": "2024-11-02T22:22:01.493233300Z"
    }
   },
   "id": "a6269ca721fe5881"
  },
  {
   "cell_type": "markdown",
   "source": [
    "For the decoding we will use the mapping be cuz the order if meaningful"
   ],
   "metadata": {
    "collapsed": false
   },
   "id": "8bd858dc52efeec2"
  },
  {
   "cell_type": "code",
   "execution_count": 20,
   "outputs": [],
   "source": [
    "mapping = {\n",
    "    \"BsmtQual\": {\"Ex\": 1, \"Gd\": 2, \"TA\": 3, \"Fa\": 4, \"Po\": 5, \"nan\": 6},\n",
    "    \"BsmtCond\": {\"Ex\": 1, \"Gd\": 2, \"TA\": 3, \"Fa\": 4, \"Po\": 5, \"nan\": 6},\n",
    "    \"BsmtExposure\": {\"Gd\": 1, \"Av\": 2, \"Mn\": 3, \"No\": 4, \"nan\": 5},\n",
    "    \"BsmtFinType1\": {\"GLQ\": 1, \"ALQ\": 2, \"BLQ\": 3, \"Rec\": 4, \"LwQ\": 5, \"Unf\": 6, \"nan\": 7},\n",
    "    \"BsmtFinType2\": {\"GLQ\": 1, \"ALQ\": 2, \"BLQ\": 3, \"Rec\": 4, \"LwQ\": 5, \"Unf\": 6, \"nan\": 7},\n",
    "}\n",
    "for col in mapping:\n",
    "    data[col] = data[col].map(mapping[col])\n",
    "    test_data[col] = test_data[col].map(mapping[col])"
   ],
   "metadata": {
    "collapsed": false,
    "ExecuteTime": {
     "end_time": "2024-11-02T22:22:02.535705500Z",
     "start_time": "2024-11-02T22:22:01.516391400Z"
    }
   },
   "id": "b9f0bdfc26d6cf27"
  },
  {
   "cell_type": "markdown",
   "source": [
    "FireplaceQu : NA no FirePlace so .."
   ],
   "metadata": {
    "collapsed": false
   },
   "id": "df8bec308c6cac9"
  },
  {
   "cell_type": "code",
   "execution_count": 21,
   "outputs": [
    {
     "data": {
      "text/plain": "0       0\n1       3\n2       3\n3       4\n4       3\n       ..\n1455    3\n1456    3\n1457    4\n1458    0\n1459    0\nName: FireplaceQu, Length: 1460, dtype: int64"
     },
     "execution_count": 21,
     "metadata": {},
     "output_type": "execute_result"
    }
   ],
   "source": [
    "rating_mapping = {\n",
    "    \"Ex\": 5,\n",
    "    \"Gd\": 4,\n",
    "    \"TA\": 3,\n",
    "    \"Fa\": 2,\n",
    "    \"Po\": 1,\n",
    "    \"nan\": 0\n",
    "}\n",
    "data[\"FireplaceQu\"] = data[\"FireplaceQu\"].fillna(\"nan\")\n",
    "data[\"FireplaceQu\"] = data[\"FireplaceQu\"].map(rating_mapping)\n",
    "test_data[\"FireplaceQu\"] = test_data[\"FireplaceQu\"].fillna(\"nan\")\n",
    "test_data[\"FireplaceQu\"] = test_data[\"FireplaceQu\"].map(rating_mapping)\n",
    "data[\"FireplaceQu\"]"
   ],
   "metadata": {
    "collapsed": false,
    "ExecuteTime": {
     "end_time": "2024-11-02T22:22:02.599706900Z",
     "start_time": "2024-11-02T22:22:01.619341500Z"
    }
   },
   "id": "7afedc33545216c6"
  },
  {
   "cell_type": "markdown",
   "source": [
    "Deal with Garage_s\n",
    "so NA mean - No Garage"
   ],
   "metadata": {
    "collapsed": false
   },
   "id": "fcba3fe13ddde8"
  },
  {
   "cell_type": "code",
   "execution_count": 22,
   "outputs": [],
   "source": [
    "for col in data.columns:\n",
    "    if not col.startswith(\"Garage\"):\n",
    "        continue\n",
    "    # print(data[col].dtype)\n",
    "    # print(data[col].isnull().sum())\n",
    "    if data[col].dtype == \"object\":\n",
    "        data[col] = data[col].fillna(\"nan\")\n",
    "        test_data[col] = test_data[col].fillna(\"nan\")"
   ],
   "metadata": {
    "collapsed": false,
    "ExecuteTime": {
     "end_time": "2024-11-02T22:22:02.668709400Z",
     "start_time": "2024-11-02T22:22:01.679543800Z"
    }
   },
   "id": "b3d6f8c1da6c72f3"
  },
  {
   "cell_type": "code",
   "execution_count": 23,
   "outputs": [],
   "source": [
    "mapping = {\n",
    "    \"GarageType\": {\n",
    "        \"2Types\": 1,\n",
    "        \"Attchd\": 2,\n",
    "        \"Basment\": 3,\n",
    "        \"BuiltIn\": 4,\n",
    "        \"CarPort\": 5,\n",
    "        \"Detchd\": 6,\n",
    "        \"nan\": 7\n",
    "    },\n",
    "    \"GarageFinish\": {\n",
    "        \"Fin\": 1,\n",
    "        \"RFn\": 2,\n",
    "        \"Unf\": 3,\n",
    "        \"nan\": 4\n",
    "    },\n",
    "    \"GarageQual\": {\n",
    "        \"Ex\": 1,\n",
    "        \"Gd\": 2,\n",
    "        \"TA\": 3,\n",
    "        \"Fa\": 4,\n",
    "        \"Po\": 5,\n",
    "        \"nan\": 6\n",
    "    },\n",
    "    \"GarageCond\": {\n",
    "        \"Ex\": 1,\n",
    "        \"Gd\": 2,\n",
    "        \"TA\": 3,\n",
    "        \"Fa\": 4,\n",
    "        \"Po\": 5,\n",
    "        \"nan\": 6\n",
    "    }\n",
    "}\n",
    "for col in mapping:\n",
    "    data[col] = data[col].map(mapping[col])\n",
    "    test_data[col] = test_data[col].map(mapping[col])\n"
   ],
   "metadata": {
    "collapsed": false,
    "ExecuteTime": {
     "end_time": "2024-11-02T22:22:02.705705500Z",
     "start_time": "2024-11-02T22:22:01.724740300Z"
    }
   },
   "id": "9b655d6ca81480dc"
  },
  {
   "cell_type": "code",
   "execution_count": 24,
   "outputs": [],
   "source": [
    "data[\"GarageYrBlt\"] = data[\"GarageYrBlt\"].fillna(0)\n",
    "test_data[\"GarageYrBlt\"] = test_data[\"GarageYrBlt\"].fillna(0)"
   ],
   "metadata": {
    "collapsed": false,
    "ExecuteTime": {
     "end_time": "2024-11-02T22:22:02.748704200Z",
     "start_time": "2024-11-02T22:22:01.801361Z"
    }
   },
   "id": "263d9f89c56625c9"
  },
  {
   "cell_type": "code",
   "execution_count": 25,
   "outputs": [
    {
     "data": {
      "text/plain": "0          0\n1          0\n2          0\n3          0\n4          0\n        ... \n1455       0\n1456       0\n1457    2500\n1458       0\n1459       0\nName: MiscVal, Length: 1460, dtype: int64"
     },
     "execution_count": 25,
     "metadata": {},
     "output_type": "execute_result"
    }
   ],
   "source": [
    "data[\"MiscVal\"]"
   ],
   "metadata": {
    "collapsed": false,
    "ExecuteTime": {
     "end_time": "2024-11-02T22:22:02.824705600Z",
     "start_time": "2024-11-02T22:22:01.893698500Z"
    }
   },
   "id": "b6fd57733f38986"
  },
  {
   "cell_type": "markdown",
   "source": [
    "so i decided to drop the MiscFeature cuz we can just rely on the MiscVal"
   ],
   "metadata": {
    "collapsed": false
   },
   "id": "4ff29e69a3e567d1"
  },
  {
   "cell_type": "code",
   "execution_count": 26,
   "outputs": [
    {
     "data": {
      "text/plain": "        Id  MSSubClass MSZoning  LotFrontage  LotArea Street  Alley LotShape  \\\n0        1          60       RL         65.0     8450   Pave      0      Reg   \n1        2          20       RL         80.0     9600   Pave      0      Reg   \n2        3          60       RL         68.0    11250   Pave      0      IR1   \n3        4          70       RL         60.0     9550   Pave      0      IR1   \n4        5          60       RL         84.0    14260   Pave      0      IR1   \n...    ...         ...      ...          ...      ...    ...    ...      ...   \n1455  1456          60       RL         62.0     7917   Pave      0      Reg   \n1456  1457          20       RL         85.0    13175   Pave      0      Reg   \n1457  1458          70       RL         66.0     9042   Pave      0      Reg   \n1458  1459          20       RL         68.0     9717   Pave      0      Reg   \n1459  1460          20       RL         75.0     9937   Pave      0      Reg   \n\n     LandContour Utilities  ... PoolArea  Fence MiscVal MoSold YrSold  \\\n0            Lvl    AllPub  ...        0    NaN       0      2   2008   \n1            Lvl    AllPub  ...        0    NaN       0      5   2007   \n2            Lvl    AllPub  ...        0    NaN       0      9   2008   \n3            Lvl    AllPub  ...        0    NaN       0      2   2006   \n4            Lvl    AllPub  ...        0    NaN       0     12   2008   \n...          ...       ...  ...      ...    ...     ...    ...    ...   \n1455         Lvl    AllPub  ...        0    NaN       0      8   2007   \n1456         Lvl    AllPub  ...        0  MnPrv       0      2   2010   \n1457         Lvl    AllPub  ...        0  GdPrv    2500      5   2010   \n1458         Lvl    AllPub  ...        0    NaN       0      4   2010   \n1459         Lvl    AllPub  ...        0    NaN       0      6   2008   \n\n     SaleType SaleCondition  MasVnrType_BrkFace  MasVnrType_Stone  \\\n0          WD        Normal                True             False   \n1          WD        Normal               False             False   \n2          WD        Normal                True             False   \n3          WD       Abnorml               False             False   \n4          WD        Normal                True             False   \n...       ...           ...                 ...               ...   \n1455       WD        Normal               False             False   \n1456       WD        Normal               False              True   \n1457       WD        Normal               False             False   \n1458       WD        Normal               False             False   \n1459       WD        Normal               False             False   \n\n      MasVnrType_nan  \n0              False  \n1               True  \n2              False  \n3               True  \n4              False  \n...              ...  \n1455            True  \n1456           False  \n1457            True  \n1458            True  \n1459            True  \n\n[1460 rows x 80 columns]",
      "text/html": "<div>\n<style scoped>\n    .dataframe tbody tr th:only-of-type {\n        vertical-align: middle;\n    }\n\n    .dataframe tbody tr th {\n        vertical-align: top;\n    }\n\n    .dataframe thead th {\n        text-align: right;\n    }\n</style>\n<table border=\"1\" class=\"dataframe\">\n  <thead>\n    <tr style=\"text-align: right;\">\n      <th></th>\n      <th>Id</th>\n      <th>MSSubClass</th>\n      <th>MSZoning</th>\n      <th>LotFrontage</th>\n      <th>LotArea</th>\n      <th>Street</th>\n      <th>Alley</th>\n      <th>LotShape</th>\n      <th>LandContour</th>\n      <th>Utilities</th>\n      <th>...</th>\n      <th>PoolArea</th>\n      <th>Fence</th>\n      <th>MiscVal</th>\n      <th>MoSold</th>\n      <th>YrSold</th>\n      <th>SaleType</th>\n      <th>SaleCondition</th>\n      <th>MasVnrType_BrkFace</th>\n      <th>MasVnrType_Stone</th>\n      <th>MasVnrType_nan</th>\n    </tr>\n  </thead>\n  <tbody>\n    <tr>\n      <th>0</th>\n      <td>1</td>\n      <td>60</td>\n      <td>RL</td>\n      <td>65.0</td>\n      <td>8450</td>\n      <td>Pave</td>\n      <td>0</td>\n      <td>Reg</td>\n      <td>Lvl</td>\n      <td>AllPub</td>\n      <td>...</td>\n      <td>0</td>\n      <td>NaN</td>\n      <td>0</td>\n      <td>2</td>\n      <td>2008</td>\n      <td>WD</td>\n      <td>Normal</td>\n      <td>True</td>\n      <td>False</td>\n      <td>False</td>\n    </tr>\n    <tr>\n      <th>1</th>\n      <td>2</td>\n      <td>20</td>\n      <td>RL</td>\n      <td>80.0</td>\n      <td>9600</td>\n      <td>Pave</td>\n      <td>0</td>\n      <td>Reg</td>\n      <td>Lvl</td>\n      <td>AllPub</td>\n      <td>...</td>\n      <td>0</td>\n      <td>NaN</td>\n      <td>0</td>\n      <td>5</td>\n      <td>2007</td>\n      <td>WD</td>\n      <td>Normal</td>\n      <td>False</td>\n      <td>False</td>\n      <td>True</td>\n    </tr>\n    <tr>\n      <th>2</th>\n      <td>3</td>\n      <td>60</td>\n      <td>RL</td>\n      <td>68.0</td>\n      <td>11250</td>\n      <td>Pave</td>\n      <td>0</td>\n      <td>IR1</td>\n      <td>Lvl</td>\n      <td>AllPub</td>\n      <td>...</td>\n      <td>0</td>\n      <td>NaN</td>\n      <td>0</td>\n      <td>9</td>\n      <td>2008</td>\n      <td>WD</td>\n      <td>Normal</td>\n      <td>True</td>\n      <td>False</td>\n      <td>False</td>\n    </tr>\n    <tr>\n      <th>3</th>\n      <td>4</td>\n      <td>70</td>\n      <td>RL</td>\n      <td>60.0</td>\n      <td>9550</td>\n      <td>Pave</td>\n      <td>0</td>\n      <td>IR1</td>\n      <td>Lvl</td>\n      <td>AllPub</td>\n      <td>...</td>\n      <td>0</td>\n      <td>NaN</td>\n      <td>0</td>\n      <td>2</td>\n      <td>2006</td>\n      <td>WD</td>\n      <td>Abnorml</td>\n      <td>False</td>\n      <td>False</td>\n      <td>True</td>\n    </tr>\n    <tr>\n      <th>4</th>\n      <td>5</td>\n      <td>60</td>\n      <td>RL</td>\n      <td>84.0</td>\n      <td>14260</td>\n      <td>Pave</td>\n      <td>0</td>\n      <td>IR1</td>\n      <td>Lvl</td>\n      <td>AllPub</td>\n      <td>...</td>\n      <td>0</td>\n      <td>NaN</td>\n      <td>0</td>\n      <td>12</td>\n      <td>2008</td>\n      <td>WD</td>\n      <td>Normal</td>\n      <td>True</td>\n      <td>False</td>\n      <td>False</td>\n    </tr>\n    <tr>\n      <th>...</th>\n      <td>...</td>\n      <td>...</td>\n      <td>...</td>\n      <td>...</td>\n      <td>...</td>\n      <td>...</td>\n      <td>...</td>\n      <td>...</td>\n      <td>...</td>\n      <td>...</td>\n      <td>...</td>\n      <td>...</td>\n      <td>...</td>\n      <td>...</td>\n      <td>...</td>\n      <td>...</td>\n      <td>...</td>\n      <td>...</td>\n      <td>...</td>\n      <td>...</td>\n      <td>...</td>\n    </tr>\n    <tr>\n      <th>1455</th>\n      <td>1456</td>\n      <td>60</td>\n      <td>RL</td>\n      <td>62.0</td>\n      <td>7917</td>\n      <td>Pave</td>\n      <td>0</td>\n      <td>Reg</td>\n      <td>Lvl</td>\n      <td>AllPub</td>\n      <td>...</td>\n      <td>0</td>\n      <td>NaN</td>\n      <td>0</td>\n      <td>8</td>\n      <td>2007</td>\n      <td>WD</td>\n      <td>Normal</td>\n      <td>False</td>\n      <td>False</td>\n      <td>True</td>\n    </tr>\n    <tr>\n      <th>1456</th>\n      <td>1457</td>\n      <td>20</td>\n      <td>RL</td>\n      <td>85.0</td>\n      <td>13175</td>\n      <td>Pave</td>\n      <td>0</td>\n      <td>Reg</td>\n      <td>Lvl</td>\n      <td>AllPub</td>\n      <td>...</td>\n      <td>0</td>\n      <td>MnPrv</td>\n      <td>0</td>\n      <td>2</td>\n      <td>2010</td>\n      <td>WD</td>\n      <td>Normal</td>\n      <td>False</td>\n      <td>True</td>\n      <td>False</td>\n    </tr>\n    <tr>\n      <th>1457</th>\n      <td>1458</td>\n      <td>70</td>\n      <td>RL</td>\n      <td>66.0</td>\n      <td>9042</td>\n      <td>Pave</td>\n      <td>0</td>\n      <td>Reg</td>\n      <td>Lvl</td>\n      <td>AllPub</td>\n      <td>...</td>\n      <td>0</td>\n      <td>GdPrv</td>\n      <td>2500</td>\n      <td>5</td>\n      <td>2010</td>\n      <td>WD</td>\n      <td>Normal</td>\n      <td>False</td>\n      <td>False</td>\n      <td>True</td>\n    </tr>\n    <tr>\n      <th>1458</th>\n      <td>1459</td>\n      <td>20</td>\n      <td>RL</td>\n      <td>68.0</td>\n      <td>9717</td>\n      <td>Pave</td>\n      <td>0</td>\n      <td>Reg</td>\n      <td>Lvl</td>\n      <td>AllPub</td>\n      <td>...</td>\n      <td>0</td>\n      <td>NaN</td>\n      <td>0</td>\n      <td>4</td>\n      <td>2010</td>\n      <td>WD</td>\n      <td>Normal</td>\n      <td>False</td>\n      <td>False</td>\n      <td>True</td>\n    </tr>\n    <tr>\n      <th>1459</th>\n      <td>1460</td>\n      <td>20</td>\n      <td>RL</td>\n      <td>75.0</td>\n      <td>9937</td>\n      <td>Pave</td>\n      <td>0</td>\n      <td>Reg</td>\n      <td>Lvl</td>\n      <td>AllPub</td>\n      <td>...</td>\n      <td>0</td>\n      <td>NaN</td>\n      <td>0</td>\n      <td>6</td>\n      <td>2008</td>\n      <td>WD</td>\n      <td>Normal</td>\n      <td>False</td>\n      <td>False</td>\n      <td>True</td>\n    </tr>\n  </tbody>\n</table>\n<p>1460 rows × 80 columns</p>\n</div>"
     },
     "execution_count": 26,
     "metadata": {},
     "output_type": "execute_result"
    }
   ],
   "source": [
    "data = data.drop('MiscFeature', axis=1)\n",
    "test_data = test_data.drop('MiscFeature', axis=1)\n",
    "data"
   ],
   "metadata": {
    "collapsed": false,
    "ExecuteTime": {
     "end_time": "2024-11-02T22:22:02.873707100Z",
     "start_time": "2024-11-02T22:22:01.981693500Z"
    }
   },
   "id": "e5d2339520a9c165"
  },
  {
   "cell_type": "markdown",
   "source": [
    "Fence"
   ],
   "metadata": {
    "collapsed": false
   },
   "id": "7a88a8ce4d6741f"
  },
  {
   "cell_type": "code",
   "execution_count": 27,
   "outputs": [],
   "source": [
    "data[\"Fence\"] = data[\"Fence\"].fillna(\"NA\")\n",
    "test_data[\"Fence\"] = test_data[\"Fence\"].fillna(\"NA\")\n",
    "fence_mapping = {\n",
    "        \"GdPrv\": 1,\n",
    "        \"MnPrv\": 2,\n",
    "        \"GdWo\": 3,\n",
    "        \"MnWw\": 4,\n",
    "        \"NA\": 5\n",
    "    }\n",
    "data[\"Fence\"] = data[\"Fence\"].map(fence_mapping)\n",
    "test_data[\"Fence\"] = test_data[\"Fence\"].map(fence_mapping)"
   ],
   "metadata": {
    "collapsed": false,
    "ExecuteTime": {
     "end_time": "2024-11-02T22:22:03.212706700Z",
     "start_time": "2024-11-02T22:22:02.082529700Z"
    }
   },
   "id": "5a229a257c9322bf"
  },
  {
   "cell_type": "markdown",
   "source": [
    "### add the sale"
   ],
   "metadata": {
    "collapsed": false
   },
   "id": "aae6ee24110c1033"
  },
  {
   "cell_type": "code",
   "execution_count": 28,
   "outputs": [],
   "source": [
    "data.insert(len(data.columns), \"SalePrice\", sale)"
   ],
   "metadata": {
    "collapsed": false,
    "ExecuteTime": {
     "end_time": "2024-11-02T22:22:03.217703700Z",
     "start_time": "2024-11-02T22:22:02.122666200Z"
    }
   },
   "id": "d19d6e86a9282fc3"
  },
  {
   "cell_type": "code",
   "execution_count": 29,
   "outputs": [
    {
     "data": {
      "text/plain": "        Id  MSSubClass MSZoning  LotFrontage  LotArea Street  Alley LotShape  \\\n0        1          60       RL         65.0     8450   Pave      0      Reg   \n1        2          20       RL         80.0     9600   Pave      0      Reg   \n2        3          60       RL         68.0    11250   Pave      0      IR1   \n3        4          70       RL         60.0     9550   Pave      0      IR1   \n4        5          60       RL         84.0    14260   Pave      0      IR1   \n...    ...         ...      ...          ...      ...    ...    ...      ...   \n1455  1456          60       RL         62.0     7917   Pave      0      Reg   \n1456  1457          20       RL         85.0    13175   Pave      0      Reg   \n1457  1458          70       RL         66.0     9042   Pave      0      Reg   \n1458  1459          20       RL         68.0     9717   Pave      0      Reg   \n1459  1460          20       RL         75.0     9937   Pave      0      Reg   \n\n     LandContour Utilities  ... Fence MiscVal MoSold YrSold SaleType  \\\n0            Lvl    AllPub  ...     5       0      2   2008       WD   \n1            Lvl    AllPub  ...     5       0      5   2007       WD   \n2            Lvl    AllPub  ...     5       0      9   2008       WD   \n3            Lvl    AllPub  ...     5       0      2   2006       WD   \n4            Lvl    AllPub  ...     5       0     12   2008       WD   \n...          ...       ...  ...   ...     ...    ...    ...      ...   \n1455         Lvl    AllPub  ...     5       0      8   2007       WD   \n1456         Lvl    AllPub  ...     2       0      2   2010       WD   \n1457         Lvl    AllPub  ...     1    2500      5   2010       WD   \n1458         Lvl    AllPub  ...     5       0      4   2010       WD   \n1459         Lvl    AllPub  ...     5       0      6   2008       WD   \n\n     SaleCondition MasVnrType_BrkFace  MasVnrType_Stone  MasVnrType_nan  \\\n0           Normal               True             False           False   \n1           Normal              False             False            True   \n2           Normal               True             False           False   \n3          Abnorml              False             False            True   \n4           Normal               True             False           False   \n...            ...                ...               ...             ...   \n1455        Normal              False             False            True   \n1456        Normal              False              True           False   \n1457        Normal              False             False            True   \n1458        Normal              False             False            True   \n1459        Normal              False             False            True   \n\n      SalePrice  \n0        208500  \n1        181500  \n2        223500  \n3        140000  \n4        250000  \n...         ...  \n1455     175000  \n1456     210000  \n1457     266500  \n1458     142125  \n1459     147500  \n\n[1460 rows x 81 columns]",
      "text/html": "<div>\n<style scoped>\n    .dataframe tbody tr th:only-of-type {\n        vertical-align: middle;\n    }\n\n    .dataframe tbody tr th {\n        vertical-align: top;\n    }\n\n    .dataframe thead th {\n        text-align: right;\n    }\n</style>\n<table border=\"1\" class=\"dataframe\">\n  <thead>\n    <tr style=\"text-align: right;\">\n      <th></th>\n      <th>Id</th>\n      <th>MSSubClass</th>\n      <th>MSZoning</th>\n      <th>LotFrontage</th>\n      <th>LotArea</th>\n      <th>Street</th>\n      <th>Alley</th>\n      <th>LotShape</th>\n      <th>LandContour</th>\n      <th>Utilities</th>\n      <th>...</th>\n      <th>Fence</th>\n      <th>MiscVal</th>\n      <th>MoSold</th>\n      <th>YrSold</th>\n      <th>SaleType</th>\n      <th>SaleCondition</th>\n      <th>MasVnrType_BrkFace</th>\n      <th>MasVnrType_Stone</th>\n      <th>MasVnrType_nan</th>\n      <th>SalePrice</th>\n    </tr>\n  </thead>\n  <tbody>\n    <tr>\n      <th>0</th>\n      <td>1</td>\n      <td>60</td>\n      <td>RL</td>\n      <td>65.0</td>\n      <td>8450</td>\n      <td>Pave</td>\n      <td>0</td>\n      <td>Reg</td>\n      <td>Lvl</td>\n      <td>AllPub</td>\n      <td>...</td>\n      <td>5</td>\n      <td>0</td>\n      <td>2</td>\n      <td>2008</td>\n      <td>WD</td>\n      <td>Normal</td>\n      <td>True</td>\n      <td>False</td>\n      <td>False</td>\n      <td>208500</td>\n    </tr>\n    <tr>\n      <th>1</th>\n      <td>2</td>\n      <td>20</td>\n      <td>RL</td>\n      <td>80.0</td>\n      <td>9600</td>\n      <td>Pave</td>\n      <td>0</td>\n      <td>Reg</td>\n      <td>Lvl</td>\n      <td>AllPub</td>\n      <td>...</td>\n      <td>5</td>\n      <td>0</td>\n      <td>5</td>\n      <td>2007</td>\n      <td>WD</td>\n      <td>Normal</td>\n      <td>False</td>\n      <td>False</td>\n      <td>True</td>\n      <td>181500</td>\n    </tr>\n    <tr>\n      <th>2</th>\n      <td>3</td>\n      <td>60</td>\n      <td>RL</td>\n      <td>68.0</td>\n      <td>11250</td>\n      <td>Pave</td>\n      <td>0</td>\n      <td>IR1</td>\n      <td>Lvl</td>\n      <td>AllPub</td>\n      <td>...</td>\n      <td>5</td>\n      <td>0</td>\n      <td>9</td>\n      <td>2008</td>\n      <td>WD</td>\n      <td>Normal</td>\n      <td>True</td>\n      <td>False</td>\n      <td>False</td>\n      <td>223500</td>\n    </tr>\n    <tr>\n      <th>3</th>\n      <td>4</td>\n      <td>70</td>\n      <td>RL</td>\n      <td>60.0</td>\n      <td>9550</td>\n      <td>Pave</td>\n      <td>0</td>\n      <td>IR1</td>\n      <td>Lvl</td>\n      <td>AllPub</td>\n      <td>...</td>\n      <td>5</td>\n      <td>0</td>\n      <td>2</td>\n      <td>2006</td>\n      <td>WD</td>\n      <td>Abnorml</td>\n      <td>False</td>\n      <td>False</td>\n      <td>True</td>\n      <td>140000</td>\n    </tr>\n    <tr>\n      <th>4</th>\n      <td>5</td>\n      <td>60</td>\n      <td>RL</td>\n      <td>84.0</td>\n      <td>14260</td>\n      <td>Pave</td>\n      <td>0</td>\n      <td>IR1</td>\n      <td>Lvl</td>\n      <td>AllPub</td>\n      <td>...</td>\n      <td>5</td>\n      <td>0</td>\n      <td>12</td>\n      <td>2008</td>\n      <td>WD</td>\n      <td>Normal</td>\n      <td>True</td>\n      <td>False</td>\n      <td>False</td>\n      <td>250000</td>\n    </tr>\n    <tr>\n      <th>...</th>\n      <td>...</td>\n      <td>...</td>\n      <td>...</td>\n      <td>...</td>\n      <td>...</td>\n      <td>...</td>\n      <td>...</td>\n      <td>...</td>\n      <td>...</td>\n      <td>...</td>\n      <td>...</td>\n      <td>...</td>\n      <td>...</td>\n      <td>...</td>\n      <td>...</td>\n      <td>...</td>\n      <td>...</td>\n      <td>...</td>\n      <td>...</td>\n      <td>...</td>\n      <td>...</td>\n    </tr>\n    <tr>\n      <th>1455</th>\n      <td>1456</td>\n      <td>60</td>\n      <td>RL</td>\n      <td>62.0</td>\n      <td>7917</td>\n      <td>Pave</td>\n      <td>0</td>\n      <td>Reg</td>\n      <td>Lvl</td>\n      <td>AllPub</td>\n      <td>...</td>\n      <td>5</td>\n      <td>0</td>\n      <td>8</td>\n      <td>2007</td>\n      <td>WD</td>\n      <td>Normal</td>\n      <td>False</td>\n      <td>False</td>\n      <td>True</td>\n      <td>175000</td>\n    </tr>\n    <tr>\n      <th>1456</th>\n      <td>1457</td>\n      <td>20</td>\n      <td>RL</td>\n      <td>85.0</td>\n      <td>13175</td>\n      <td>Pave</td>\n      <td>0</td>\n      <td>Reg</td>\n      <td>Lvl</td>\n      <td>AllPub</td>\n      <td>...</td>\n      <td>2</td>\n      <td>0</td>\n      <td>2</td>\n      <td>2010</td>\n      <td>WD</td>\n      <td>Normal</td>\n      <td>False</td>\n      <td>True</td>\n      <td>False</td>\n      <td>210000</td>\n    </tr>\n    <tr>\n      <th>1457</th>\n      <td>1458</td>\n      <td>70</td>\n      <td>RL</td>\n      <td>66.0</td>\n      <td>9042</td>\n      <td>Pave</td>\n      <td>0</td>\n      <td>Reg</td>\n      <td>Lvl</td>\n      <td>AllPub</td>\n      <td>...</td>\n      <td>1</td>\n      <td>2500</td>\n      <td>5</td>\n      <td>2010</td>\n      <td>WD</td>\n      <td>Normal</td>\n      <td>False</td>\n      <td>False</td>\n      <td>True</td>\n      <td>266500</td>\n    </tr>\n    <tr>\n      <th>1458</th>\n      <td>1459</td>\n      <td>20</td>\n      <td>RL</td>\n      <td>68.0</td>\n      <td>9717</td>\n      <td>Pave</td>\n      <td>0</td>\n      <td>Reg</td>\n      <td>Lvl</td>\n      <td>AllPub</td>\n      <td>...</td>\n      <td>5</td>\n      <td>0</td>\n      <td>4</td>\n      <td>2010</td>\n      <td>WD</td>\n      <td>Normal</td>\n      <td>False</td>\n      <td>False</td>\n      <td>True</td>\n      <td>142125</td>\n    </tr>\n    <tr>\n      <th>1459</th>\n      <td>1460</td>\n      <td>20</td>\n      <td>RL</td>\n      <td>75.0</td>\n      <td>9937</td>\n      <td>Pave</td>\n      <td>0</td>\n      <td>Reg</td>\n      <td>Lvl</td>\n      <td>AllPub</td>\n      <td>...</td>\n      <td>5</td>\n      <td>0</td>\n      <td>6</td>\n      <td>2008</td>\n      <td>WD</td>\n      <td>Normal</td>\n      <td>False</td>\n      <td>False</td>\n      <td>True</td>\n      <td>147500</td>\n    </tr>\n  </tbody>\n</table>\n<p>1460 rows × 81 columns</p>\n</div>"
     },
     "execution_count": 29,
     "metadata": {},
     "output_type": "execute_result"
    }
   ],
   "source": [
    "data"
   ],
   "metadata": {
    "collapsed": false,
    "ExecuteTime": {
     "end_time": "2024-11-02T22:22:03.273499Z",
     "start_time": "2024-11-02T22:22:02.138612600Z"
    }
   },
   "id": "5d9ccfdddcfe2101"
  },
  {
   "cell_type": "code",
   "execution_count": 30,
   "outputs": [],
   "source": [
    "data = data.dropna(axis=0)"
   ],
   "metadata": {
    "collapsed": false,
    "ExecuteTime": {
     "end_time": "2024-11-02T22:22:03.310254100Z",
     "start_time": "2024-11-02T22:22:02.213234700Z"
    }
   },
   "id": "4c202f73d6590e9a"
  },
  {
   "cell_type": "markdown",
   "source": [
    "### MSZoning: Identifies the general zoning classification of the sale.\n",
    "\t\t\n",
    "       A\tAgriculture\n",
    "       C\tCommercial\n",
    "       FV\tFloating Village Residential\n",
    "       I\tIndustrial\n",
    "       RH\tResidential High Density\n",
    "       RL\tResidential Low Density\n",
    "       RP\tResidential Low Density Park \n",
    "       RM\tResidential Medium Density"
   ],
   "metadata": {
    "collapsed": false
   },
   "id": "f29365bb381e3f90"
  },
  {
   "cell_type": "code",
   "execution_count": 31,
   "outputs": [],
   "source": [
    "test_data[\"MSZoning\"] = test_data[\"MSZoning\"].fillna(\"RM\")"
   ],
   "metadata": {
    "collapsed": false,
    "ExecuteTime": {
     "end_time": "2024-11-02T22:22:03.349793800Z",
     "start_time": "2024-11-02T22:22:02.234440Z"
    }
   },
   "id": "ea9c9228d4983943"
  },
  {
   "cell_type": "markdown",
   "source": [
    "in MSZoning i choose to do the binary encoding"
   ],
   "metadata": {
    "collapsed": false
   },
   "id": "51261dff9175b955"
  },
  {
   "cell_type": "code",
   "execution_count": 32,
   "outputs": [],
   "source": [
    "#!pip install category_encoders"
   ],
   "metadata": {
    "collapsed": false,
    "ExecuteTime": {
     "end_time": "2024-11-02T22:22:03.379793500Z",
     "start_time": "2024-11-02T22:22:02.247916400Z"
    }
   },
   "id": "3c948912e73f713"
  },
  {
   "cell_type": "code",
   "execution_count": 33,
   "outputs": [
    {
     "data": {
      "text/plain": "MSZoning\nRL         1150\nRM          218\nFV           65\nRH           16\nC (all)      10\nName: count, dtype: int64"
     },
     "execution_count": 33,
     "metadata": {},
     "output_type": "execute_result"
    }
   ],
   "source": [
    "data['MSZoning'].value_counts()"
   ],
   "metadata": {
    "collapsed": false,
    "ExecuteTime": {
     "end_time": "2024-11-02T22:22:03.385809400Z",
     "start_time": "2024-11-02T22:22:02.264468500Z"
    }
   },
   "id": "83778f3d5739c187"
  },
  {
   "cell_type": "code",
   "execution_count": 34,
   "outputs": [
    {
     "data": {
      "text/plain": "MSZoning\nRL         1114\nRM          246\nFV           74\nC (all)      15\nRH           10\nName: count, dtype: int64"
     },
     "execution_count": 34,
     "metadata": {},
     "output_type": "execute_result"
    }
   ],
   "source": [
    "test_data['MSZoning'].value_counts()"
   ],
   "metadata": {
    "collapsed": false,
    "ExecuteTime": {
     "end_time": "2024-11-02T22:22:03.458111500Z",
     "start_time": "2024-11-02T22:22:02.293597500Z"
    }
   },
   "id": "1816ffa315c094da"
  },
  {
   "cell_type": "code",
   "execution_count": 35,
   "outputs": [],
   "source": [
    "# get/add the Sales\n",
    "sale = df_encoded['SalePrice']\n",
    "data = data.drop('SalePrice', axis=1)"
   ],
   "metadata": {
    "collapsed": false,
    "ExecuteTime": {
     "end_time": "2024-11-02T22:22:03.552893100Z",
     "start_time": "2024-11-02T22:22:02.333602400Z"
    }
   },
   "id": "67f0749c2800fc70"
  },
  {
   "cell_type": "code",
   "execution_count": 36,
   "outputs": [],
   "source": [
    "import category_encoders as ce\n",
    "\n",
    "encoder = ce.BinaryEncoder(cols=['MSZoning'], handle_unknown='value')\n",
    "encoder.fit(data)\n",
    "test_data = encoder.transform(test_data)\n",
    "data = encoder.transform(data)"
   ],
   "metadata": {
    "collapsed": false,
    "ExecuteTime": {
     "end_time": "2024-11-02T22:22:04.487926200Z",
     "start_time": "2024-11-02T22:22:02.361707900Z"
    }
   },
   "id": "8ed2764ad239822d"
  },
  {
   "cell_type": "code",
   "execution_count": 37,
   "outputs": [
    {
     "data": {
      "text/plain": "        Id  MSSubClass  MSZoning_0  MSZoning_1  MSZoning_2  LotFrontage  \\\n0     1461          20           1           0           1         80.0   \n1     1462          20           0           0           1         81.0   \n2     1463          60           0           0           1         74.0   \n3     1464          60           0           0           1         78.0   \n4     1465         120           0           0           1         43.0   \n...    ...         ...         ...         ...         ...          ...   \n1454  2915         160           0           1           0         21.0   \n1455  2916         160           0           1           0         21.0   \n1456  2917          20           0           0           1        160.0   \n1457  2918          85           0           0           1         62.0   \n1458  2919          60           0           0           1         74.0   \n\n      LotArea  Street  Alley LotShape  ... PoolArea Fence MiscVal MoSold  \\\n0       11622       1      0      Reg  ...        0     2       0      6   \n1       14267       1      0      IR1  ...        0     5   12500      6   \n2       13830       1      0      IR1  ...        0     2       0      3   \n3        9978       1      0      IR1  ...        0     5       0      6   \n4        5005       1      0      IR1  ...        0     5       0      1   \n...       ...     ...    ...      ...  ...      ...   ...     ...    ...   \n1454     1936       1      2      Reg  ...        0     5       0      6   \n1455     1894       1      0      Reg  ...        0     5       0      4   \n1456    20000       1      0      Reg  ...        0     5       0      9   \n1457    10441       1      0      Reg  ...        0     2     700      7   \n1458     9627       1      0      Reg  ...        0     5       0     11   \n\n     YrSold SaleType SaleCondition MasVnrType_BrkFace MasVnrType_Stone  \\\n0      2010       WD        Normal               True            False   \n1      2010       WD        Normal              False            False   \n2      2010       WD        Normal               True            False   \n3      2010       WD        Normal              False            False   \n4      2010       WD        Normal               True            False   \n...     ...      ...           ...                ...              ...   \n1454   2006       WD        Normal              False            False   \n1455   2006       WD       Abnorml              False            False   \n1456   2006       WD       Abnorml              False             True   \n1457   2006       WD        Normal              False            False   \n1458   2006       WD        Normal              False            False   \n\n      MasVnrType_nan  \n0              False  \n1               True  \n2              False  \n3               True  \n4              False  \n...              ...  \n1454            True  \n1455            True  \n1456           False  \n1457            True  \n1458            True  \n\n[1459 rows x 82 columns]",
      "text/html": "<div>\n<style scoped>\n    .dataframe tbody tr th:only-of-type {\n        vertical-align: middle;\n    }\n\n    .dataframe tbody tr th {\n        vertical-align: top;\n    }\n\n    .dataframe thead th {\n        text-align: right;\n    }\n</style>\n<table border=\"1\" class=\"dataframe\">\n  <thead>\n    <tr style=\"text-align: right;\">\n      <th></th>\n      <th>Id</th>\n      <th>MSSubClass</th>\n      <th>MSZoning_0</th>\n      <th>MSZoning_1</th>\n      <th>MSZoning_2</th>\n      <th>LotFrontage</th>\n      <th>LotArea</th>\n      <th>Street</th>\n      <th>Alley</th>\n      <th>LotShape</th>\n      <th>...</th>\n      <th>PoolArea</th>\n      <th>Fence</th>\n      <th>MiscVal</th>\n      <th>MoSold</th>\n      <th>YrSold</th>\n      <th>SaleType</th>\n      <th>SaleCondition</th>\n      <th>MasVnrType_BrkFace</th>\n      <th>MasVnrType_Stone</th>\n      <th>MasVnrType_nan</th>\n    </tr>\n  </thead>\n  <tbody>\n    <tr>\n      <th>0</th>\n      <td>1461</td>\n      <td>20</td>\n      <td>1</td>\n      <td>0</td>\n      <td>1</td>\n      <td>80.0</td>\n      <td>11622</td>\n      <td>1</td>\n      <td>0</td>\n      <td>Reg</td>\n      <td>...</td>\n      <td>0</td>\n      <td>2</td>\n      <td>0</td>\n      <td>6</td>\n      <td>2010</td>\n      <td>WD</td>\n      <td>Normal</td>\n      <td>True</td>\n      <td>False</td>\n      <td>False</td>\n    </tr>\n    <tr>\n      <th>1</th>\n      <td>1462</td>\n      <td>20</td>\n      <td>0</td>\n      <td>0</td>\n      <td>1</td>\n      <td>81.0</td>\n      <td>14267</td>\n      <td>1</td>\n      <td>0</td>\n      <td>IR1</td>\n      <td>...</td>\n      <td>0</td>\n      <td>5</td>\n      <td>12500</td>\n      <td>6</td>\n      <td>2010</td>\n      <td>WD</td>\n      <td>Normal</td>\n      <td>False</td>\n      <td>False</td>\n      <td>True</td>\n    </tr>\n    <tr>\n      <th>2</th>\n      <td>1463</td>\n      <td>60</td>\n      <td>0</td>\n      <td>0</td>\n      <td>1</td>\n      <td>74.0</td>\n      <td>13830</td>\n      <td>1</td>\n      <td>0</td>\n      <td>IR1</td>\n      <td>...</td>\n      <td>0</td>\n      <td>2</td>\n      <td>0</td>\n      <td>3</td>\n      <td>2010</td>\n      <td>WD</td>\n      <td>Normal</td>\n      <td>True</td>\n      <td>False</td>\n      <td>False</td>\n    </tr>\n    <tr>\n      <th>3</th>\n      <td>1464</td>\n      <td>60</td>\n      <td>0</td>\n      <td>0</td>\n      <td>1</td>\n      <td>78.0</td>\n      <td>9978</td>\n      <td>1</td>\n      <td>0</td>\n      <td>IR1</td>\n      <td>...</td>\n      <td>0</td>\n      <td>5</td>\n      <td>0</td>\n      <td>6</td>\n      <td>2010</td>\n      <td>WD</td>\n      <td>Normal</td>\n      <td>False</td>\n      <td>False</td>\n      <td>True</td>\n    </tr>\n    <tr>\n      <th>4</th>\n      <td>1465</td>\n      <td>120</td>\n      <td>0</td>\n      <td>0</td>\n      <td>1</td>\n      <td>43.0</td>\n      <td>5005</td>\n      <td>1</td>\n      <td>0</td>\n      <td>IR1</td>\n      <td>...</td>\n      <td>0</td>\n      <td>5</td>\n      <td>0</td>\n      <td>1</td>\n      <td>2010</td>\n      <td>WD</td>\n      <td>Normal</td>\n      <td>True</td>\n      <td>False</td>\n      <td>False</td>\n    </tr>\n    <tr>\n      <th>...</th>\n      <td>...</td>\n      <td>...</td>\n      <td>...</td>\n      <td>...</td>\n      <td>...</td>\n      <td>...</td>\n      <td>...</td>\n      <td>...</td>\n      <td>...</td>\n      <td>...</td>\n      <td>...</td>\n      <td>...</td>\n      <td>...</td>\n      <td>...</td>\n      <td>...</td>\n      <td>...</td>\n      <td>...</td>\n      <td>...</td>\n      <td>...</td>\n      <td>...</td>\n      <td>...</td>\n    </tr>\n    <tr>\n      <th>1454</th>\n      <td>2915</td>\n      <td>160</td>\n      <td>0</td>\n      <td>1</td>\n      <td>0</td>\n      <td>21.0</td>\n      <td>1936</td>\n      <td>1</td>\n      <td>2</td>\n      <td>Reg</td>\n      <td>...</td>\n      <td>0</td>\n      <td>5</td>\n      <td>0</td>\n      <td>6</td>\n      <td>2006</td>\n      <td>WD</td>\n      <td>Normal</td>\n      <td>False</td>\n      <td>False</td>\n      <td>True</td>\n    </tr>\n    <tr>\n      <th>1455</th>\n      <td>2916</td>\n      <td>160</td>\n      <td>0</td>\n      <td>1</td>\n      <td>0</td>\n      <td>21.0</td>\n      <td>1894</td>\n      <td>1</td>\n      <td>0</td>\n      <td>Reg</td>\n      <td>...</td>\n      <td>0</td>\n      <td>5</td>\n      <td>0</td>\n      <td>4</td>\n      <td>2006</td>\n      <td>WD</td>\n      <td>Abnorml</td>\n      <td>False</td>\n      <td>False</td>\n      <td>True</td>\n    </tr>\n    <tr>\n      <th>1456</th>\n      <td>2917</td>\n      <td>20</td>\n      <td>0</td>\n      <td>0</td>\n      <td>1</td>\n      <td>160.0</td>\n      <td>20000</td>\n      <td>1</td>\n      <td>0</td>\n      <td>Reg</td>\n      <td>...</td>\n      <td>0</td>\n      <td>5</td>\n      <td>0</td>\n      <td>9</td>\n      <td>2006</td>\n      <td>WD</td>\n      <td>Abnorml</td>\n      <td>False</td>\n      <td>True</td>\n      <td>False</td>\n    </tr>\n    <tr>\n      <th>1457</th>\n      <td>2918</td>\n      <td>85</td>\n      <td>0</td>\n      <td>0</td>\n      <td>1</td>\n      <td>62.0</td>\n      <td>10441</td>\n      <td>1</td>\n      <td>0</td>\n      <td>Reg</td>\n      <td>...</td>\n      <td>0</td>\n      <td>2</td>\n      <td>700</td>\n      <td>7</td>\n      <td>2006</td>\n      <td>WD</td>\n      <td>Normal</td>\n      <td>False</td>\n      <td>False</td>\n      <td>True</td>\n    </tr>\n    <tr>\n      <th>1458</th>\n      <td>2919</td>\n      <td>60</td>\n      <td>0</td>\n      <td>0</td>\n      <td>1</td>\n      <td>74.0</td>\n      <td>9627</td>\n      <td>1</td>\n      <td>0</td>\n      <td>Reg</td>\n      <td>...</td>\n      <td>0</td>\n      <td>5</td>\n      <td>0</td>\n      <td>11</td>\n      <td>2006</td>\n      <td>WD</td>\n      <td>Normal</td>\n      <td>False</td>\n      <td>False</td>\n      <td>True</td>\n    </tr>\n  </tbody>\n</table>\n<p>1459 rows × 82 columns</p>\n</div>"
     },
     "execution_count": 37,
     "metadata": {},
     "output_type": "execute_result"
    }
   ],
   "source": [
    "# \"Street\" we just have two categories\n",
    "data[\"Street\"] = data[\"Street\"].map({\"Grvl\" : 0, \"Pave\" : 1})\n",
    "test_data[\"Street\"] = test_data[\"Street\"].map({\"Grvl\" : 0, \"Pave\" : 1})\n",
    "test_data"
   ],
   "metadata": {
    "collapsed": false,
    "ExecuteTime": {
     "end_time": "2024-11-02T22:22:04.602928700Z",
     "start_time": "2024-11-02T22:22:03.252499700Z"
    }
   },
   "id": "cab24bc4e9611e5b"
  },
  {
   "cell_type": "code",
   "execution_count": 38,
   "outputs": [
    {
     "data": {
      "text/plain": "        Id  MSSubClass  MSZoning_0  MSZoning_1  MSZoning_2  LotFrontage  \\\n0     1461          20           1           0           1         80.0   \n1     1462          20           0           0           1         81.0   \n2     1463          60           0           0           1         74.0   \n3     1464          60           0           0           1         78.0   \n4     1465         120           0           0           1         43.0   \n...    ...         ...         ...         ...         ...          ...   \n1454  2915         160           0           1           0         21.0   \n1455  2916         160           0           1           0         21.0   \n1456  2917          20           0           0           1        160.0   \n1457  2918          85           0           0           1         62.0   \n1458  2919          60           0           0           1         74.0   \n\n      LotArea  Street  Alley  LotShape  ... PoolArea Fence MiscVal MoSold  \\\n0       11622       1      0         0  ...        0     2       0      6   \n1       14267       1      0         1  ...        0     5   12500      6   \n2       13830       1      0         1  ...        0     2       0      3   \n3        9978       1      0         1  ...        0     5       0      6   \n4        5005       1      0         1  ...        0     5       0      1   \n...       ...     ...    ...       ...  ...      ...   ...     ...    ...   \n1454     1936       1      2         0  ...        0     5       0      6   \n1455     1894       1      0         0  ...        0     5       0      4   \n1456    20000       1      0         0  ...        0     5       0      9   \n1457    10441       1      0         0  ...        0     2     700      7   \n1458     9627       1      0         0  ...        0     5       0     11   \n\n     YrSold SaleType SaleCondition MasVnrType_BrkFace MasVnrType_Stone  \\\n0      2010       WD        Normal               True            False   \n1      2010       WD        Normal              False            False   \n2      2010       WD        Normal               True            False   \n3      2010       WD        Normal              False            False   \n4      2010       WD        Normal               True            False   \n...     ...      ...           ...                ...              ...   \n1454   2006       WD        Normal              False            False   \n1455   2006       WD       Abnorml              False            False   \n1456   2006       WD       Abnorml              False             True   \n1457   2006       WD        Normal              False            False   \n1458   2006       WD        Normal              False            False   \n\n      MasVnrType_nan  \n0              False  \n1               True  \n2              False  \n3               True  \n4              False  \n...              ...  \n1454            True  \n1455            True  \n1456           False  \n1457            True  \n1458            True  \n\n[1459 rows x 82 columns]",
      "text/html": "<div>\n<style scoped>\n    .dataframe tbody tr th:only-of-type {\n        vertical-align: middle;\n    }\n\n    .dataframe tbody tr th {\n        vertical-align: top;\n    }\n\n    .dataframe thead th {\n        text-align: right;\n    }\n</style>\n<table border=\"1\" class=\"dataframe\">\n  <thead>\n    <tr style=\"text-align: right;\">\n      <th></th>\n      <th>Id</th>\n      <th>MSSubClass</th>\n      <th>MSZoning_0</th>\n      <th>MSZoning_1</th>\n      <th>MSZoning_2</th>\n      <th>LotFrontage</th>\n      <th>LotArea</th>\n      <th>Street</th>\n      <th>Alley</th>\n      <th>LotShape</th>\n      <th>...</th>\n      <th>PoolArea</th>\n      <th>Fence</th>\n      <th>MiscVal</th>\n      <th>MoSold</th>\n      <th>YrSold</th>\n      <th>SaleType</th>\n      <th>SaleCondition</th>\n      <th>MasVnrType_BrkFace</th>\n      <th>MasVnrType_Stone</th>\n      <th>MasVnrType_nan</th>\n    </tr>\n  </thead>\n  <tbody>\n    <tr>\n      <th>0</th>\n      <td>1461</td>\n      <td>20</td>\n      <td>1</td>\n      <td>0</td>\n      <td>1</td>\n      <td>80.0</td>\n      <td>11622</td>\n      <td>1</td>\n      <td>0</td>\n      <td>0</td>\n      <td>...</td>\n      <td>0</td>\n      <td>2</td>\n      <td>0</td>\n      <td>6</td>\n      <td>2010</td>\n      <td>WD</td>\n      <td>Normal</td>\n      <td>True</td>\n      <td>False</td>\n      <td>False</td>\n    </tr>\n    <tr>\n      <th>1</th>\n      <td>1462</td>\n      <td>20</td>\n      <td>0</td>\n      <td>0</td>\n      <td>1</td>\n      <td>81.0</td>\n      <td>14267</td>\n      <td>1</td>\n      <td>0</td>\n      <td>1</td>\n      <td>...</td>\n      <td>0</td>\n      <td>5</td>\n      <td>12500</td>\n      <td>6</td>\n      <td>2010</td>\n      <td>WD</td>\n      <td>Normal</td>\n      <td>False</td>\n      <td>False</td>\n      <td>True</td>\n    </tr>\n    <tr>\n      <th>2</th>\n      <td>1463</td>\n      <td>60</td>\n      <td>0</td>\n      <td>0</td>\n      <td>1</td>\n      <td>74.0</td>\n      <td>13830</td>\n      <td>1</td>\n      <td>0</td>\n      <td>1</td>\n      <td>...</td>\n      <td>0</td>\n      <td>2</td>\n      <td>0</td>\n      <td>3</td>\n      <td>2010</td>\n      <td>WD</td>\n      <td>Normal</td>\n      <td>True</td>\n      <td>False</td>\n      <td>False</td>\n    </tr>\n    <tr>\n      <th>3</th>\n      <td>1464</td>\n      <td>60</td>\n      <td>0</td>\n      <td>0</td>\n      <td>1</td>\n      <td>78.0</td>\n      <td>9978</td>\n      <td>1</td>\n      <td>0</td>\n      <td>1</td>\n      <td>...</td>\n      <td>0</td>\n      <td>5</td>\n      <td>0</td>\n      <td>6</td>\n      <td>2010</td>\n      <td>WD</td>\n      <td>Normal</td>\n      <td>False</td>\n      <td>False</td>\n      <td>True</td>\n    </tr>\n    <tr>\n      <th>4</th>\n      <td>1465</td>\n      <td>120</td>\n      <td>0</td>\n      <td>0</td>\n      <td>1</td>\n      <td>43.0</td>\n      <td>5005</td>\n      <td>1</td>\n      <td>0</td>\n      <td>1</td>\n      <td>...</td>\n      <td>0</td>\n      <td>5</td>\n      <td>0</td>\n      <td>1</td>\n      <td>2010</td>\n      <td>WD</td>\n      <td>Normal</td>\n      <td>True</td>\n      <td>False</td>\n      <td>False</td>\n    </tr>\n    <tr>\n      <th>...</th>\n      <td>...</td>\n      <td>...</td>\n      <td>...</td>\n      <td>...</td>\n      <td>...</td>\n      <td>...</td>\n      <td>...</td>\n      <td>...</td>\n      <td>...</td>\n      <td>...</td>\n      <td>...</td>\n      <td>...</td>\n      <td>...</td>\n      <td>...</td>\n      <td>...</td>\n      <td>...</td>\n      <td>...</td>\n      <td>...</td>\n      <td>...</td>\n      <td>...</td>\n      <td>...</td>\n    </tr>\n    <tr>\n      <th>1454</th>\n      <td>2915</td>\n      <td>160</td>\n      <td>0</td>\n      <td>1</td>\n      <td>0</td>\n      <td>21.0</td>\n      <td>1936</td>\n      <td>1</td>\n      <td>2</td>\n      <td>0</td>\n      <td>...</td>\n      <td>0</td>\n      <td>5</td>\n      <td>0</td>\n      <td>6</td>\n      <td>2006</td>\n      <td>WD</td>\n      <td>Normal</td>\n      <td>False</td>\n      <td>False</td>\n      <td>True</td>\n    </tr>\n    <tr>\n      <th>1455</th>\n      <td>2916</td>\n      <td>160</td>\n      <td>0</td>\n      <td>1</td>\n      <td>0</td>\n      <td>21.0</td>\n      <td>1894</td>\n      <td>1</td>\n      <td>0</td>\n      <td>0</td>\n      <td>...</td>\n      <td>0</td>\n      <td>5</td>\n      <td>0</td>\n      <td>4</td>\n      <td>2006</td>\n      <td>WD</td>\n      <td>Abnorml</td>\n      <td>False</td>\n      <td>False</td>\n      <td>True</td>\n    </tr>\n    <tr>\n      <th>1456</th>\n      <td>2917</td>\n      <td>20</td>\n      <td>0</td>\n      <td>0</td>\n      <td>1</td>\n      <td>160.0</td>\n      <td>20000</td>\n      <td>1</td>\n      <td>0</td>\n      <td>0</td>\n      <td>...</td>\n      <td>0</td>\n      <td>5</td>\n      <td>0</td>\n      <td>9</td>\n      <td>2006</td>\n      <td>WD</td>\n      <td>Abnorml</td>\n      <td>False</td>\n      <td>True</td>\n      <td>False</td>\n    </tr>\n    <tr>\n      <th>1457</th>\n      <td>2918</td>\n      <td>85</td>\n      <td>0</td>\n      <td>0</td>\n      <td>1</td>\n      <td>62.0</td>\n      <td>10441</td>\n      <td>1</td>\n      <td>0</td>\n      <td>0</td>\n      <td>...</td>\n      <td>0</td>\n      <td>2</td>\n      <td>700</td>\n      <td>7</td>\n      <td>2006</td>\n      <td>WD</td>\n      <td>Normal</td>\n      <td>False</td>\n      <td>False</td>\n      <td>True</td>\n    </tr>\n    <tr>\n      <th>1458</th>\n      <td>2919</td>\n      <td>60</td>\n      <td>0</td>\n      <td>0</td>\n      <td>1</td>\n      <td>74.0</td>\n      <td>9627</td>\n      <td>1</td>\n      <td>0</td>\n      <td>0</td>\n      <td>...</td>\n      <td>0</td>\n      <td>5</td>\n      <td>0</td>\n      <td>11</td>\n      <td>2006</td>\n      <td>WD</td>\n      <td>Normal</td>\n      <td>False</td>\n      <td>False</td>\n      <td>True</td>\n    </tr>\n  </tbody>\n</table>\n<p>1459 rows × 82 columns</p>\n</div>"
     },
     "execution_count": 38,
     "metadata": {},
     "output_type": "execute_result"
    }
   ],
   "source": [
    "data['LotShape'] = data[\"LotShape\"].map({\"Reg\" : 0, \"IR1\" : 1, \"IR2\" : 2, \"IR3\" : 3})\n",
    "test_data['LotShape'] = test_data[\"LotShape\"].map({\"Reg\" : 0, \"IR1\" : 1, \"IR2\" : 2, \"IR3\" : 3})\n",
    "test_data"
   ],
   "metadata": {
    "collapsed": false,
    "ExecuteTime": {
     "end_time": "2024-11-02T22:22:04.688940700Z",
     "start_time": "2024-11-02T22:22:03.314251500Z"
    }
   },
   "id": "2e277841d17b0ca3"
  },
  {
   "cell_type": "markdown",
   "source": [
    "test fill na"
   ],
   "metadata": {
    "collapsed": false
   },
   "id": "a9e79749f5e8e4e4"
  },
  {
   "cell_type": "code",
   "execution_count": 39,
   "outputs": [
    {
     "data": {
      "text/plain": "Id                    0\nMSSubClass            0\nMSZoning_0            0\nMSZoning_1            0\nMSZoning_2            0\n                     ..\nSaleType              1\nSaleCondition         0\nMasVnrType_BrkFace    0\nMasVnrType_Stone      0\nMasVnrType_nan        0\nLength: 82, dtype: int64"
     },
     "execution_count": 39,
     "metadata": {},
     "output_type": "execute_result"
    }
   ],
   "source": [
    "test_data.isnull().sum()"
   ],
   "metadata": {
    "collapsed": false,
    "ExecuteTime": {
     "end_time": "2024-11-02T22:22:04.692928300Z",
     "start_time": "2024-11-02T22:22:03.399331900Z"
    }
   },
   "id": "3af0d1c1dc60506"
  },
  {
   "cell_type": "code",
   "execution_count": 40,
   "outputs": [],
   "source": [
    "test_data[\"Utilities\"] = test_data[\"Utilities\"].fillna(\"ELO\")\n",
    "test_data[\"Exterior1st\"] = test_data[\"Exterior1st\"].fillna(\"Other\")\n",
    "test_data[\"Exterior2nd\"] = test_data[\"Exterior2nd\"].fillna(\"Other\")\n",
    "test_data[\"TotalBsmtSF\"] = test_data[\"TotalBsmtSF\"].fillna(0)\n",
    "test_data[\"KitchenQual\"] = test_data[\"KitchenQual\"].fillna(\"TA\")\n",
    "test_data[\"Functional\"] = test_data[\"Functional\"].fillna(\"Mod\")\n",
    "test_data[\"GarageCars\"] = test_data[\"GarageCars\"].fillna(0)\n",
    "test_data[\"GarageArea\"] = test_data[\"GarageArea\"].fillna(0)\n",
    "test_data[\"SaleType\"] = test_data[\"SaleType\"].fillna(\"Oth\")"
   ],
   "metadata": {
    "collapsed": false,
    "ExecuteTime": {
     "end_time": "2024-11-02T22:22:04.735932300Z",
     "start_time": "2024-11-02T22:22:03.424101Z"
    }
   },
   "id": "6886297b6acbb341"
  },
  {
   "cell_type": "code",
   "execution_count": 41,
   "outputs": [
    {
     "data": {
      "text/plain": "Id                     int64\nMSSubClass             int64\nMSZoning_0             int64\nMSZoning_1             int64\nMSZoning_2             int64\n                       ...  \nSaleType              object\nSaleCondition         object\nMasVnrType_BrkFace      bool\nMasVnrType_Stone        bool\nMasVnrType_nan          bool\nLength: 82, dtype: object"
     },
     "execution_count": 41,
     "metadata": {},
     "output_type": "execute_result"
    }
   ],
   "source": [
    "data.dtypes"
   ],
   "metadata": {
    "collapsed": false,
    "ExecuteTime": {
     "end_time": "2024-11-02T22:22:04.774929800Z",
     "start_time": "2024-11-02T22:22:03.452108800Z"
    }
   },
   "id": "5256b925ff5b6b5e"
  },
  {
   "cell_type": "code",
   "execution_count": 42,
   "outputs": [],
   "source": [
    "HouseStyle_mapping = {\n",
    "    \"1Story\": 1,\n",
    "    \"1.5Unf\": 2,\n",
    "    \"1.5Fin\": 3,\n",
    "    \"2Story\": 4,\n",
    "    \"2.5Unf\": 5,\n",
    "    \"2.5Fin\": 6,\n",
    "    \"SLvl\": 7,\n",
    "    \"SFoyer\": 8\n",
    "}\n",
    "data['HouseStyle'] = data['HouseStyle'].map(HouseStyle_mapping)\n",
    "test_data['HouseStyle'] = test_data['HouseStyle'].map(HouseStyle_mapping)"
   ],
   "metadata": {
    "collapsed": false,
    "ExecuteTime": {
     "end_time": "2024-11-02T22:22:04.816929500Z",
     "start_time": "2024-11-02T22:22:03.479727400Z"
    }
   },
   "id": "a50e670366d76265"
  },
  {
   "cell_type": "code",
   "execution_count": 43,
   "outputs": [],
   "source": [
    "data['LandSlope'] = data['LandSlope'].map({\"Gtl\" : 1, \"Mod\" : 2, \"Sev\" : 3})\n",
    "test_data['LandSlope'] = test_data['LandSlope'].map({\"Gtl\" : 1, \"Mod\" : 2, \"Sev\" : 3})"
   ],
   "metadata": {
    "collapsed": false,
    "ExecuteTime": {
     "end_time": "2024-11-02T22:22:04.821926500Z",
     "start_time": "2024-11-02T22:22:03.493602400Z"
    }
   },
   "id": "7ba4232f2aaf3e30"
  },
  {
   "cell_type": "code",
   "execution_count": 44,
   "outputs": [
    {
     "data": {
      "text/plain": "        Id  MSSubClass  MSZoning_0  MSZoning_1  MSZoning_2  LotFrontage  \\\n0        1          60           0           0           1         65.0   \n1        2          20           0           0           1         80.0   \n2        3          60           0           0           1         68.0   \n3        4          70           0           0           1         60.0   \n4        5          60           0           0           1         84.0   \n...    ...         ...         ...         ...         ...          ...   \n1455  1456          60           0           0           1         62.0   \n1456  1457          20           0           0           1         85.0   \n1457  1458          70           0           0           1         66.0   \n1458  1459          20           0           0           1         68.0   \n1459  1460          20           0           0           1         75.0   \n\n      LotArea  Street  Alley  LotShape  ... PoolArea Fence MiscVal  MoSold  \\\n0        8450       1      0         0  ...        0     5       0       2   \n1        9600       1      0         0  ...        0     5       0       5   \n2       11250       1      0         1  ...        0     5       0       9   \n3        9550       1      0         1  ...        0     5       0       2   \n4       14260       1      0         1  ...        0     5       0      12   \n...       ...     ...    ...       ...  ...      ...   ...     ...     ...   \n1455     7917       1      0         0  ...        0     5       0       8   \n1456    13175       1      0         0  ...        0     2       0       2   \n1457     9042       1      0         0  ...        0     1    2500       5   \n1458     9717       1      0         0  ...        0     5       0       4   \n1459     9937       1      0         0  ...        0     5       0       6   \n\n     YrSold SaleType SaleCondition MasVnrType_BrkFace  MasVnrType_Stone  \\\n0      2008       WD        Normal               True             False   \n1      2007       WD        Normal              False             False   \n2      2008       WD        Normal               True             False   \n3      2006       WD       Abnorml              False             False   \n4      2008       WD        Normal               True             False   \n...     ...      ...           ...                ...               ...   \n1455   2007       WD        Normal              False             False   \n1456   2010       WD        Normal              False              True   \n1457   2010       WD        Normal              False             False   \n1458   2010       WD        Normal              False             False   \n1459   2008       WD        Normal              False             False   \n\n      MasVnrType_nan  \n0              False  \n1               True  \n2              False  \n3               True  \n4              False  \n...              ...  \n1455            True  \n1456           False  \n1457            True  \n1458            True  \n1459            True  \n\n[1459 rows x 82 columns]",
      "text/html": "<div>\n<style scoped>\n    .dataframe tbody tr th:only-of-type {\n        vertical-align: middle;\n    }\n\n    .dataframe tbody tr th {\n        vertical-align: top;\n    }\n\n    .dataframe thead th {\n        text-align: right;\n    }\n</style>\n<table border=\"1\" class=\"dataframe\">\n  <thead>\n    <tr style=\"text-align: right;\">\n      <th></th>\n      <th>Id</th>\n      <th>MSSubClass</th>\n      <th>MSZoning_0</th>\n      <th>MSZoning_1</th>\n      <th>MSZoning_2</th>\n      <th>LotFrontage</th>\n      <th>LotArea</th>\n      <th>Street</th>\n      <th>Alley</th>\n      <th>LotShape</th>\n      <th>...</th>\n      <th>PoolArea</th>\n      <th>Fence</th>\n      <th>MiscVal</th>\n      <th>MoSold</th>\n      <th>YrSold</th>\n      <th>SaleType</th>\n      <th>SaleCondition</th>\n      <th>MasVnrType_BrkFace</th>\n      <th>MasVnrType_Stone</th>\n      <th>MasVnrType_nan</th>\n    </tr>\n  </thead>\n  <tbody>\n    <tr>\n      <th>0</th>\n      <td>1</td>\n      <td>60</td>\n      <td>0</td>\n      <td>0</td>\n      <td>1</td>\n      <td>65.0</td>\n      <td>8450</td>\n      <td>1</td>\n      <td>0</td>\n      <td>0</td>\n      <td>...</td>\n      <td>0</td>\n      <td>5</td>\n      <td>0</td>\n      <td>2</td>\n      <td>2008</td>\n      <td>WD</td>\n      <td>Normal</td>\n      <td>True</td>\n      <td>False</td>\n      <td>False</td>\n    </tr>\n    <tr>\n      <th>1</th>\n      <td>2</td>\n      <td>20</td>\n      <td>0</td>\n      <td>0</td>\n      <td>1</td>\n      <td>80.0</td>\n      <td>9600</td>\n      <td>1</td>\n      <td>0</td>\n      <td>0</td>\n      <td>...</td>\n      <td>0</td>\n      <td>5</td>\n      <td>0</td>\n      <td>5</td>\n      <td>2007</td>\n      <td>WD</td>\n      <td>Normal</td>\n      <td>False</td>\n      <td>False</td>\n      <td>True</td>\n    </tr>\n    <tr>\n      <th>2</th>\n      <td>3</td>\n      <td>60</td>\n      <td>0</td>\n      <td>0</td>\n      <td>1</td>\n      <td>68.0</td>\n      <td>11250</td>\n      <td>1</td>\n      <td>0</td>\n      <td>1</td>\n      <td>...</td>\n      <td>0</td>\n      <td>5</td>\n      <td>0</td>\n      <td>9</td>\n      <td>2008</td>\n      <td>WD</td>\n      <td>Normal</td>\n      <td>True</td>\n      <td>False</td>\n      <td>False</td>\n    </tr>\n    <tr>\n      <th>3</th>\n      <td>4</td>\n      <td>70</td>\n      <td>0</td>\n      <td>0</td>\n      <td>1</td>\n      <td>60.0</td>\n      <td>9550</td>\n      <td>1</td>\n      <td>0</td>\n      <td>1</td>\n      <td>...</td>\n      <td>0</td>\n      <td>5</td>\n      <td>0</td>\n      <td>2</td>\n      <td>2006</td>\n      <td>WD</td>\n      <td>Abnorml</td>\n      <td>False</td>\n      <td>False</td>\n      <td>True</td>\n    </tr>\n    <tr>\n      <th>4</th>\n      <td>5</td>\n      <td>60</td>\n      <td>0</td>\n      <td>0</td>\n      <td>1</td>\n      <td>84.0</td>\n      <td>14260</td>\n      <td>1</td>\n      <td>0</td>\n      <td>1</td>\n      <td>...</td>\n      <td>0</td>\n      <td>5</td>\n      <td>0</td>\n      <td>12</td>\n      <td>2008</td>\n      <td>WD</td>\n      <td>Normal</td>\n      <td>True</td>\n      <td>False</td>\n      <td>False</td>\n    </tr>\n    <tr>\n      <th>...</th>\n      <td>...</td>\n      <td>...</td>\n      <td>...</td>\n      <td>...</td>\n      <td>...</td>\n      <td>...</td>\n      <td>...</td>\n      <td>...</td>\n      <td>...</td>\n      <td>...</td>\n      <td>...</td>\n      <td>...</td>\n      <td>...</td>\n      <td>...</td>\n      <td>...</td>\n      <td>...</td>\n      <td>...</td>\n      <td>...</td>\n      <td>...</td>\n      <td>...</td>\n      <td>...</td>\n    </tr>\n    <tr>\n      <th>1455</th>\n      <td>1456</td>\n      <td>60</td>\n      <td>0</td>\n      <td>0</td>\n      <td>1</td>\n      <td>62.0</td>\n      <td>7917</td>\n      <td>1</td>\n      <td>0</td>\n      <td>0</td>\n      <td>...</td>\n      <td>0</td>\n      <td>5</td>\n      <td>0</td>\n      <td>8</td>\n      <td>2007</td>\n      <td>WD</td>\n      <td>Normal</td>\n      <td>False</td>\n      <td>False</td>\n      <td>True</td>\n    </tr>\n    <tr>\n      <th>1456</th>\n      <td>1457</td>\n      <td>20</td>\n      <td>0</td>\n      <td>0</td>\n      <td>1</td>\n      <td>85.0</td>\n      <td>13175</td>\n      <td>1</td>\n      <td>0</td>\n      <td>0</td>\n      <td>...</td>\n      <td>0</td>\n      <td>2</td>\n      <td>0</td>\n      <td>2</td>\n      <td>2010</td>\n      <td>WD</td>\n      <td>Normal</td>\n      <td>False</td>\n      <td>True</td>\n      <td>False</td>\n    </tr>\n    <tr>\n      <th>1457</th>\n      <td>1458</td>\n      <td>70</td>\n      <td>0</td>\n      <td>0</td>\n      <td>1</td>\n      <td>66.0</td>\n      <td>9042</td>\n      <td>1</td>\n      <td>0</td>\n      <td>0</td>\n      <td>...</td>\n      <td>0</td>\n      <td>1</td>\n      <td>2500</td>\n      <td>5</td>\n      <td>2010</td>\n      <td>WD</td>\n      <td>Normal</td>\n      <td>False</td>\n      <td>False</td>\n      <td>True</td>\n    </tr>\n    <tr>\n      <th>1458</th>\n      <td>1459</td>\n      <td>20</td>\n      <td>0</td>\n      <td>0</td>\n      <td>1</td>\n      <td>68.0</td>\n      <td>9717</td>\n      <td>1</td>\n      <td>0</td>\n      <td>0</td>\n      <td>...</td>\n      <td>0</td>\n      <td>5</td>\n      <td>0</td>\n      <td>4</td>\n      <td>2010</td>\n      <td>WD</td>\n      <td>Normal</td>\n      <td>False</td>\n      <td>False</td>\n      <td>True</td>\n    </tr>\n    <tr>\n      <th>1459</th>\n      <td>1460</td>\n      <td>20</td>\n      <td>0</td>\n      <td>0</td>\n      <td>1</td>\n      <td>75.0</td>\n      <td>9937</td>\n      <td>1</td>\n      <td>0</td>\n      <td>0</td>\n      <td>...</td>\n      <td>0</td>\n      <td>5</td>\n      <td>0</td>\n      <td>6</td>\n      <td>2008</td>\n      <td>WD</td>\n      <td>Normal</td>\n      <td>False</td>\n      <td>False</td>\n      <td>True</td>\n    </tr>\n  </tbody>\n</table>\n<p>1459 rows × 82 columns</p>\n</div>"
     },
     "execution_count": 44,
     "metadata": {},
     "output_type": "execute_result"
    }
   ],
   "source": [
    "data"
   ],
   "metadata": {
    "collapsed": false,
    "ExecuteTime": {
     "end_time": "2024-11-02T22:22:04.826937500Z",
     "start_time": "2024-11-02T22:22:03.507444800Z"
    }
   },
   "id": "d99c3e3ed15ab765"
  },
  {
   "cell_type": "code",
   "execution_count": 45,
   "outputs": [],
   "source": [
    "combined_data = pd.concat([data, test_data], keys=['train', 'test'], names=['dataset', 'index'])\n",
    "combined_data = pd.get_dummies(combined_data, columns=['LandContour', 'Utilities', 'LotConfig', 'Electrical'], drop_first=True)\n",
    "\n",
    "data = combined_data.xs('train')\n",
    "test_data = combined_data.xs('test')"
   ],
   "metadata": {
    "collapsed": false,
    "ExecuteTime": {
     "end_time": "2024-11-02T22:22:04.870925600Z",
     "start_time": "2024-11-02T22:22:03.555894800Z"
    }
   },
   "id": "fb7f947eab45f16f"
  },
  {
   "cell_type": "code",
   "execution_count": 46,
   "outputs": [
    {
     "data": {
      "text/plain": "         Id  MSSubClass  MSZoning_0  MSZoning_1  MSZoning_2  LotFrontage  \\\nindex                                                                      \n0      1461          20           1           0           1         80.0   \n1      1462          20           0           0           1         81.0   \n2      1463          60           0           0           1         74.0   \n3      1464          60           0           0           1         78.0   \n4      1465         120           0           0           1         43.0   \n...     ...         ...         ...         ...         ...          ...   \n1454   2915         160           0           1           0         21.0   \n1455   2916         160           0           1           0         21.0   \n1456   2917          20           0           0           1        160.0   \n1457   2918          85           0           0           1         62.0   \n1458   2919          60           0           0           1         74.0   \n\n       LotArea  Street  Alley  LotShape  ...  Utilities_ELO Utilities_NoSeWa  \\\nindex                                    ...                                   \n0        11622       1      0         0  ...          False            False   \n1        14267       1      0         1  ...          False            False   \n2        13830       1      0         1  ...          False            False   \n3         9978       1      0         1  ...          False            False   \n4         5005       1      0         1  ...          False            False   \n...        ...     ...    ...       ...  ...            ...              ...   \n1454      1936       1      2         0  ...          False            False   \n1455      1894       1      0         0  ...          False            False   \n1456     20000       1      0         0  ...          False            False   \n1457     10441       1      0         0  ...          False            False   \n1458      9627       1      0         0  ...          False            False   \n\n      LotConfig_CulDSac LotConfig_FR2 LotConfig_FR3  LotConfig_Inside  \\\nindex                                                                   \n0                 False         False         False              True   \n1                 False         False         False             False   \n2                 False         False         False              True   \n3                 False         False         False              True   \n4                 False         False         False              True   \n...                 ...           ...           ...               ...   \n1454              False         False         False              True   \n1455              False         False         False              True   \n1456              False         False         False              True   \n1457              False         False         False              True   \n1458              False         False         False              True   \n\n       Electrical_FuseF  Electrical_FuseP  Electrical_Mix  Electrical_SBrkr  \nindex                                                                        \n0                 False             False           False              True  \n1                 False             False           False              True  \n2                 False             False           False              True  \n3                 False             False           False              True  \n4                 False             False           False              True  \n...                 ...               ...             ...               ...  \n1454              False             False           False              True  \n1455              False             False           False              True  \n1456              False             False           False              True  \n1457              False             False           False              True  \n1458              False             False           False              True  \n\n[1459 rows x 91 columns]",
      "text/html": "<div>\n<style scoped>\n    .dataframe tbody tr th:only-of-type {\n        vertical-align: middle;\n    }\n\n    .dataframe tbody tr th {\n        vertical-align: top;\n    }\n\n    .dataframe thead th {\n        text-align: right;\n    }\n</style>\n<table border=\"1\" class=\"dataframe\">\n  <thead>\n    <tr style=\"text-align: right;\">\n      <th></th>\n      <th>Id</th>\n      <th>MSSubClass</th>\n      <th>MSZoning_0</th>\n      <th>MSZoning_1</th>\n      <th>MSZoning_2</th>\n      <th>LotFrontage</th>\n      <th>LotArea</th>\n      <th>Street</th>\n      <th>Alley</th>\n      <th>LotShape</th>\n      <th>...</th>\n      <th>Utilities_ELO</th>\n      <th>Utilities_NoSeWa</th>\n      <th>LotConfig_CulDSac</th>\n      <th>LotConfig_FR2</th>\n      <th>LotConfig_FR3</th>\n      <th>LotConfig_Inside</th>\n      <th>Electrical_FuseF</th>\n      <th>Electrical_FuseP</th>\n      <th>Electrical_Mix</th>\n      <th>Electrical_SBrkr</th>\n    </tr>\n    <tr>\n      <th>index</th>\n      <th></th>\n      <th></th>\n      <th></th>\n      <th></th>\n      <th></th>\n      <th></th>\n      <th></th>\n      <th></th>\n      <th></th>\n      <th></th>\n      <th></th>\n      <th></th>\n      <th></th>\n      <th></th>\n      <th></th>\n      <th></th>\n      <th></th>\n      <th></th>\n      <th></th>\n      <th></th>\n      <th></th>\n    </tr>\n  </thead>\n  <tbody>\n    <tr>\n      <th>0</th>\n      <td>1461</td>\n      <td>20</td>\n      <td>1</td>\n      <td>0</td>\n      <td>1</td>\n      <td>80.0</td>\n      <td>11622</td>\n      <td>1</td>\n      <td>0</td>\n      <td>0</td>\n      <td>...</td>\n      <td>False</td>\n      <td>False</td>\n      <td>False</td>\n      <td>False</td>\n      <td>False</td>\n      <td>True</td>\n      <td>False</td>\n      <td>False</td>\n      <td>False</td>\n      <td>True</td>\n    </tr>\n    <tr>\n      <th>1</th>\n      <td>1462</td>\n      <td>20</td>\n      <td>0</td>\n      <td>0</td>\n      <td>1</td>\n      <td>81.0</td>\n      <td>14267</td>\n      <td>1</td>\n      <td>0</td>\n      <td>1</td>\n      <td>...</td>\n      <td>False</td>\n      <td>False</td>\n      <td>False</td>\n      <td>False</td>\n      <td>False</td>\n      <td>False</td>\n      <td>False</td>\n      <td>False</td>\n      <td>False</td>\n      <td>True</td>\n    </tr>\n    <tr>\n      <th>2</th>\n      <td>1463</td>\n      <td>60</td>\n      <td>0</td>\n      <td>0</td>\n      <td>1</td>\n      <td>74.0</td>\n      <td>13830</td>\n      <td>1</td>\n      <td>0</td>\n      <td>1</td>\n      <td>...</td>\n      <td>False</td>\n      <td>False</td>\n      <td>False</td>\n      <td>False</td>\n      <td>False</td>\n      <td>True</td>\n      <td>False</td>\n      <td>False</td>\n      <td>False</td>\n      <td>True</td>\n    </tr>\n    <tr>\n      <th>3</th>\n      <td>1464</td>\n      <td>60</td>\n      <td>0</td>\n      <td>0</td>\n      <td>1</td>\n      <td>78.0</td>\n      <td>9978</td>\n      <td>1</td>\n      <td>0</td>\n      <td>1</td>\n      <td>...</td>\n      <td>False</td>\n      <td>False</td>\n      <td>False</td>\n      <td>False</td>\n      <td>False</td>\n      <td>True</td>\n      <td>False</td>\n      <td>False</td>\n      <td>False</td>\n      <td>True</td>\n    </tr>\n    <tr>\n      <th>4</th>\n      <td>1465</td>\n      <td>120</td>\n      <td>0</td>\n      <td>0</td>\n      <td>1</td>\n      <td>43.0</td>\n      <td>5005</td>\n      <td>1</td>\n      <td>0</td>\n      <td>1</td>\n      <td>...</td>\n      <td>False</td>\n      <td>False</td>\n      <td>False</td>\n      <td>False</td>\n      <td>False</td>\n      <td>True</td>\n      <td>False</td>\n      <td>False</td>\n      <td>False</td>\n      <td>True</td>\n    </tr>\n    <tr>\n      <th>...</th>\n      <td>...</td>\n      <td>...</td>\n      <td>...</td>\n      <td>...</td>\n      <td>...</td>\n      <td>...</td>\n      <td>...</td>\n      <td>...</td>\n      <td>...</td>\n      <td>...</td>\n      <td>...</td>\n      <td>...</td>\n      <td>...</td>\n      <td>...</td>\n      <td>...</td>\n      <td>...</td>\n      <td>...</td>\n      <td>...</td>\n      <td>...</td>\n      <td>...</td>\n      <td>...</td>\n    </tr>\n    <tr>\n      <th>1454</th>\n      <td>2915</td>\n      <td>160</td>\n      <td>0</td>\n      <td>1</td>\n      <td>0</td>\n      <td>21.0</td>\n      <td>1936</td>\n      <td>1</td>\n      <td>2</td>\n      <td>0</td>\n      <td>...</td>\n      <td>False</td>\n      <td>False</td>\n      <td>False</td>\n      <td>False</td>\n      <td>False</td>\n      <td>True</td>\n      <td>False</td>\n      <td>False</td>\n      <td>False</td>\n      <td>True</td>\n    </tr>\n    <tr>\n      <th>1455</th>\n      <td>2916</td>\n      <td>160</td>\n      <td>0</td>\n      <td>1</td>\n      <td>0</td>\n      <td>21.0</td>\n      <td>1894</td>\n      <td>1</td>\n      <td>0</td>\n      <td>0</td>\n      <td>...</td>\n      <td>False</td>\n      <td>False</td>\n      <td>False</td>\n      <td>False</td>\n      <td>False</td>\n      <td>True</td>\n      <td>False</td>\n      <td>False</td>\n      <td>False</td>\n      <td>True</td>\n    </tr>\n    <tr>\n      <th>1456</th>\n      <td>2917</td>\n      <td>20</td>\n      <td>0</td>\n      <td>0</td>\n      <td>1</td>\n      <td>160.0</td>\n      <td>20000</td>\n      <td>1</td>\n      <td>0</td>\n      <td>0</td>\n      <td>...</td>\n      <td>False</td>\n      <td>False</td>\n      <td>False</td>\n      <td>False</td>\n      <td>False</td>\n      <td>True</td>\n      <td>False</td>\n      <td>False</td>\n      <td>False</td>\n      <td>True</td>\n    </tr>\n    <tr>\n      <th>1457</th>\n      <td>2918</td>\n      <td>85</td>\n      <td>0</td>\n      <td>0</td>\n      <td>1</td>\n      <td>62.0</td>\n      <td>10441</td>\n      <td>1</td>\n      <td>0</td>\n      <td>0</td>\n      <td>...</td>\n      <td>False</td>\n      <td>False</td>\n      <td>False</td>\n      <td>False</td>\n      <td>False</td>\n      <td>True</td>\n      <td>False</td>\n      <td>False</td>\n      <td>False</td>\n      <td>True</td>\n    </tr>\n    <tr>\n      <th>1458</th>\n      <td>2919</td>\n      <td>60</td>\n      <td>0</td>\n      <td>0</td>\n      <td>1</td>\n      <td>74.0</td>\n      <td>9627</td>\n      <td>1</td>\n      <td>0</td>\n      <td>0</td>\n      <td>...</td>\n      <td>False</td>\n      <td>False</td>\n      <td>False</td>\n      <td>False</td>\n      <td>False</td>\n      <td>True</td>\n      <td>False</td>\n      <td>False</td>\n      <td>False</td>\n      <td>True</td>\n    </tr>\n  </tbody>\n</table>\n<p>1459 rows × 91 columns</p>\n</div>"
     },
     "execution_count": 46,
     "metadata": {},
     "output_type": "execute_result"
    }
   ],
   "source": [
    "test_data"
   ],
   "metadata": {
    "collapsed": false,
    "ExecuteTime": {
     "end_time": "2024-11-02T22:22:04.960941500Z",
     "start_time": "2024-11-02T22:22:03.608855700Z"
    }
   },
   "id": "6078a0784482370"
  },
  {
   "cell_type": "code",
   "execution_count": 47,
   "outputs": [
    {
     "data": {
      "text/plain": "         Id  MSSubClass  MSZoning_0  MSZoning_1  MSZoning_2  LotFrontage  \\\nindex                                                                      \n0         1          60           0           0           1         65.0   \n1         2          20           0           0           1         80.0   \n2         3          60           0           0           1         68.0   \n3         4          70           0           0           1         60.0   \n4         5          60           0           0           1         84.0   \n...     ...         ...         ...         ...         ...          ...   \n1455   1456          60           0           0           1         62.0   \n1456   1457          20           0           0           1         85.0   \n1457   1458          70           0           0           1         66.0   \n1458   1459          20           0           0           1         68.0   \n1459   1460          20           0           0           1         75.0   \n\n       LotArea  Street  Alley  LotShape  ...  Utilities_ELO  Utilities_NoSeWa  \\\nindex                                    ...                                    \n0         8450       1      0         0  ...          False             False   \n1         9600       1      0         0  ...          False             False   \n2        11250       1      0         1  ...          False             False   \n3         9550       1      0         1  ...          False             False   \n4        14260       1      0         1  ...          False             False   \n...        ...     ...    ...       ...  ...            ...               ...   \n1455      7917       1      0         0  ...          False             False   \n1456     13175       1      0         0  ...          False             False   \n1457      9042       1      0         0  ...          False             False   \n1458      9717       1      0         0  ...          False             False   \n1459      9937       1      0         0  ...          False             False   \n\n       LotConfig_CulDSac  LotConfig_FR2  LotConfig_FR3  LotConfig_Inside  \\\nindex                                                                      \n0                  False          False          False              True   \n1                  False           True          False             False   \n2                  False          False          False              True   \n3                  False          False          False             False   \n4                  False           True          False             False   \n...                  ...            ...            ...               ...   \n1455               False          False          False              True   \n1456               False          False          False              True   \n1457               False          False          False              True   \n1458               False          False          False              True   \n1459               False          False          False              True   \n\n       Electrical_FuseF  Electrical_FuseP  Electrical_Mix  Electrical_SBrkr  \nindex                                                                        \n0                 False             False           False              True  \n1                 False             False           False              True  \n2                 False             False           False              True  \n3                 False             False           False              True  \n4                 False             False           False              True  \n...                 ...               ...             ...               ...  \n1455              False             False           False              True  \n1456              False             False           False              True  \n1457              False             False           False              True  \n1458              False             False           False             False  \n1459              False             False           False              True  \n\n[1459 rows x 124 columns]",
      "text/html": "<div>\n<style scoped>\n    .dataframe tbody tr th:only-of-type {\n        vertical-align: middle;\n    }\n\n    .dataframe tbody tr th {\n        vertical-align: top;\n    }\n\n    .dataframe thead th {\n        text-align: right;\n    }\n</style>\n<table border=\"1\" class=\"dataframe\">\n  <thead>\n    <tr style=\"text-align: right;\">\n      <th></th>\n      <th>Id</th>\n      <th>MSSubClass</th>\n      <th>MSZoning_0</th>\n      <th>MSZoning_1</th>\n      <th>MSZoning_2</th>\n      <th>LotFrontage</th>\n      <th>LotArea</th>\n      <th>Street</th>\n      <th>Alley</th>\n      <th>LotShape</th>\n      <th>...</th>\n      <th>Utilities_ELO</th>\n      <th>Utilities_NoSeWa</th>\n      <th>LotConfig_CulDSac</th>\n      <th>LotConfig_FR2</th>\n      <th>LotConfig_FR3</th>\n      <th>LotConfig_Inside</th>\n      <th>Electrical_FuseF</th>\n      <th>Electrical_FuseP</th>\n      <th>Electrical_Mix</th>\n      <th>Electrical_SBrkr</th>\n    </tr>\n    <tr>\n      <th>index</th>\n      <th></th>\n      <th></th>\n      <th></th>\n      <th></th>\n      <th></th>\n      <th></th>\n      <th></th>\n      <th></th>\n      <th></th>\n      <th></th>\n      <th></th>\n      <th></th>\n      <th></th>\n      <th></th>\n      <th></th>\n      <th></th>\n      <th></th>\n      <th></th>\n      <th></th>\n      <th></th>\n      <th></th>\n    </tr>\n  </thead>\n  <tbody>\n    <tr>\n      <th>0</th>\n      <td>1</td>\n      <td>60</td>\n      <td>0</td>\n      <td>0</td>\n      <td>1</td>\n      <td>65.0</td>\n      <td>8450</td>\n      <td>1</td>\n      <td>0</td>\n      <td>0</td>\n      <td>...</td>\n      <td>False</td>\n      <td>False</td>\n      <td>False</td>\n      <td>False</td>\n      <td>False</td>\n      <td>True</td>\n      <td>False</td>\n      <td>False</td>\n      <td>False</td>\n      <td>True</td>\n    </tr>\n    <tr>\n      <th>1</th>\n      <td>2</td>\n      <td>20</td>\n      <td>0</td>\n      <td>0</td>\n      <td>1</td>\n      <td>80.0</td>\n      <td>9600</td>\n      <td>1</td>\n      <td>0</td>\n      <td>0</td>\n      <td>...</td>\n      <td>False</td>\n      <td>False</td>\n      <td>False</td>\n      <td>True</td>\n      <td>False</td>\n      <td>False</td>\n      <td>False</td>\n      <td>False</td>\n      <td>False</td>\n      <td>True</td>\n    </tr>\n    <tr>\n      <th>2</th>\n      <td>3</td>\n      <td>60</td>\n      <td>0</td>\n      <td>0</td>\n      <td>1</td>\n      <td>68.0</td>\n      <td>11250</td>\n      <td>1</td>\n      <td>0</td>\n      <td>1</td>\n      <td>...</td>\n      <td>False</td>\n      <td>False</td>\n      <td>False</td>\n      <td>False</td>\n      <td>False</td>\n      <td>True</td>\n      <td>False</td>\n      <td>False</td>\n      <td>False</td>\n      <td>True</td>\n    </tr>\n    <tr>\n      <th>3</th>\n      <td>4</td>\n      <td>70</td>\n      <td>0</td>\n      <td>0</td>\n      <td>1</td>\n      <td>60.0</td>\n      <td>9550</td>\n      <td>1</td>\n      <td>0</td>\n      <td>1</td>\n      <td>...</td>\n      <td>False</td>\n      <td>False</td>\n      <td>False</td>\n      <td>False</td>\n      <td>False</td>\n      <td>False</td>\n      <td>False</td>\n      <td>False</td>\n      <td>False</td>\n      <td>True</td>\n    </tr>\n    <tr>\n      <th>4</th>\n      <td>5</td>\n      <td>60</td>\n      <td>0</td>\n      <td>0</td>\n      <td>1</td>\n      <td>84.0</td>\n      <td>14260</td>\n      <td>1</td>\n      <td>0</td>\n      <td>1</td>\n      <td>...</td>\n      <td>False</td>\n      <td>False</td>\n      <td>False</td>\n      <td>True</td>\n      <td>False</td>\n      <td>False</td>\n      <td>False</td>\n      <td>False</td>\n      <td>False</td>\n      <td>True</td>\n    </tr>\n    <tr>\n      <th>...</th>\n      <td>...</td>\n      <td>...</td>\n      <td>...</td>\n      <td>...</td>\n      <td>...</td>\n      <td>...</td>\n      <td>...</td>\n      <td>...</td>\n      <td>...</td>\n      <td>...</td>\n      <td>...</td>\n      <td>...</td>\n      <td>...</td>\n      <td>...</td>\n      <td>...</td>\n      <td>...</td>\n      <td>...</td>\n      <td>...</td>\n      <td>...</td>\n      <td>...</td>\n      <td>...</td>\n    </tr>\n    <tr>\n      <th>1455</th>\n      <td>1456</td>\n      <td>60</td>\n      <td>0</td>\n      <td>0</td>\n      <td>1</td>\n      <td>62.0</td>\n      <td>7917</td>\n      <td>1</td>\n      <td>0</td>\n      <td>0</td>\n      <td>...</td>\n      <td>False</td>\n      <td>False</td>\n      <td>False</td>\n      <td>False</td>\n      <td>False</td>\n      <td>True</td>\n      <td>False</td>\n      <td>False</td>\n      <td>False</td>\n      <td>True</td>\n    </tr>\n    <tr>\n      <th>1456</th>\n      <td>1457</td>\n      <td>20</td>\n      <td>0</td>\n      <td>0</td>\n      <td>1</td>\n      <td>85.0</td>\n      <td>13175</td>\n      <td>1</td>\n      <td>0</td>\n      <td>0</td>\n      <td>...</td>\n      <td>False</td>\n      <td>False</td>\n      <td>False</td>\n      <td>False</td>\n      <td>False</td>\n      <td>True</td>\n      <td>False</td>\n      <td>False</td>\n      <td>False</td>\n      <td>True</td>\n    </tr>\n    <tr>\n      <th>1457</th>\n      <td>1458</td>\n      <td>70</td>\n      <td>0</td>\n      <td>0</td>\n      <td>1</td>\n      <td>66.0</td>\n      <td>9042</td>\n      <td>1</td>\n      <td>0</td>\n      <td>0</td>\n      <td>...</td>\n      <td>False</td>\n      <td>False</td>\n      <td>False</td>\n      <td>False</td>\n      <td>False</td>\n      <td>True</td>\n      <td>False</td>\n      <td>False</td>\n      <td>False</td>\n      <td>True</td>\n    </tr>\n    <tr>\n      <th>1458</th>\n      <td>1459</td>\n      <td>20</td>\n      <td>0</td>\n      <td>0</td>\n      <td>1</td>\n      <td>68.0</td>\n      <td>9717</td>\n      <td>1</td>\n      <td>0</td>\n      <td>0</td>\n      <td>...</td>\n      <td>False</td>\n      <td>False</td>\n      <td>False</td>\n      <td>False</td>\n      <td>False</td>\n      <td>True</td>\n      <td>False</td>\n      <td>False</td>\n      <td>False</td>\n      <td>False</td>\n    </tr>\n    <tr>\n      <th>1459</th>\n      <td>1460</td>\n      <td>20</td>\n      <td>0</td>\n      <td>0</td>\n      <td>1</td>\n      <td>75.0</td>\n      <td>9937</td>\n      <td>1</td>\n      <td>0</td>\n      <td>0</td>\n      <td>...</td>\n      <td>False</td>\n      <td>False</td>\n      <td>False</td>\n      <td>False</td>\n      <td>False</td>\n      <td>True</td>\n      <td>False</td>\n      <td>False</td>\n      <td>False</td>\n      <td>True</td>\n    </tr>\n  </tbody>\n</table>\n<p>1459 rows × 124 columns</p>\n</div>"
     },
     "execution_count": 47,
     "metadata": {},
     "output_type": "execute_result"
    }
   ],
   "source": [
    "encoder = ce.BinaryEncoder(cols=['Neighborhood', 'Condition1', 'Condition2', 'BldgType', 'RoofStyle', 'RoofMatl',\n",
    "                                 \"Exterior1st\", \"Exterior2nd\", \"Foundation\", \"Heating\", \"SaleType\", \"SaleCondition\"], handle_unknown='value')\n",
    "encoder.fit(data)\n",
    "test_data = encoder.transform(test_data)\n",
    "data = encoder.transform(data)\n",
    "data"
   ],
   "metadata": {
    "collapsed": false,
    "ExecuteTime": {
     "end_time": "2024-11-02T22:22:05.299932Z",
     "start_time": "2024-11-02T22:22:03.681090500Z"
    }
   },
   "id": "2841a4eccd6b39df"
  },
  {
   "cell_type": "code",
   "execution_count": 48,
   "outputs": [],
   "source": [
    "# Mapping for ExterQual\n",
    "data['ExterQual'] = data[\"ExterQual\"].map({\"Ex\": 0, \"Gd\": 1, \"TA\": 2, \"Fa\": 3, \"Po\": 4})\n",
    "test_data['ExterQual'] = test_data[\"ExterQual\"].map({\"Ex\": 0, \"Gd\": 1, \"TA\": 2, \"Fa\": 3, \"Po\": 4})\n",
    "\n",
    "# Mapping for ExterCond\n",
    "data['ExterCond'] = data[\"ExterCond\"].map({\"Ex\": 0, \"Gd\": 1, \"TA\": 2, \"Fa\": 3, \"Po\": 4})\n",
    "test_data['ExterCond'] = test_data[\"ExterCond\"].map({\"Ex\": 0, \"Gd\": 1, \"TA\": 2, \"Fa\": 3, \"Po\": 4})\n",
    "\n",
    "# Mapping for HeatingQC\n",
    "data['HeatingQC'] = data[\"HeatingQC\"].map({\"Ex\": 0, \"Gd\": 1, \"TA\": 2, \"Fa\": 3, \"Po\": 4})\n",
    "test_data['HeatingQC'] = test_data[\"HeatingQC\"].map({\"Ex\": 0, \"Gd\": 1, \"TA\": 2, \"Fa\": 3, \"Po\": 4})\n",
    "\n",
    "# Mapping for CentralAir\n",
    "data['CentralAir'] = data[\"CentralAir\"].map({\"N\": 0, \"Y\": 1})\n",
    "test_data['CentralAir'] = test_data[\"CentralAir\"].map({\"N\": 0, \"Y\": 1})\n",
    "\n",
    "# Mapping for KitchenQual\n",
    "data['KitchenQual'] = data[\"KitchenQual\"].map({\"Ex\": 0, \"Gd\": 1, \"TA\": 2, \"Fa\": 3, \"Po\": 4})\n",
    "test_data['KitchenQual'] = test_data[\"KitchenQual\"].map({\"Ex\": 0, \"Gd\": 1, \"TA\": 2, \"Fa\": 3, \"Po\": 4})\n",
    "\n",
    "# Mapping for PavedDrive\n",
    "data['PavedDrive'] = data[\"PavedDrive\"].map({\"Y\": 0, \"P\": 1, \"N\": 2})\n",
    "test_data['PavedDrive'] = test_data[\"PavedDrive\"].map({\"Y\": 0, \"P\": 1, \"N\": 2})\n",
    "\n",
    "# Mapping for Functional\n",
    "data['Functional'] = data[\"Functional\"].map({\n",
    "    \"Typ\": 0, \n",
    "    \"Min1\": 1, \n",
    "    \"Min2\": 2, \n",
    "    \"Mod\": 3, \n",
    "    \"Maj1\": 4, \n",
    "    \"Maj2\": 5, \n",
    "    \"Sev\": 6, \n",
    "    \"Sal\": 7\n",
    "})\n",
    "test_data['Functional'] = test_data[\"Functional\"].map({\n",
    "    \"Typ\": 0, \n",
    "    \"Min1\": 1, \n",
    "    \"Min2\": 2, \n",
    "    \"Mod\": 3, \n",
    "    \"Maj1\": 4, \n",
    "    \"Maj2\": 5, \n",
    "    \"Sev\": 6, \n",
    "    \"Sal\": 7\n",
    "})\n"
   ],
   "metadata": {
    "collapsed": false,
    "ExecuteTime": {
     "end_time": "2024-11-02T22:22:05.328931200Z",
     "start_time": "2024-11-02T22:22:04.293324100Z"
    }
   },
   "id": "d26c45508d7a72dd"
  },
  {
   "cell_type": "code",
   "execution_count": 49,
   "outputs": [
    {
     "data": {
      "text/plain": "         Id  MSSubClass  MSZoning_0  MSZoning_1  MSZoning_2  LotFrontage  \\\nindex                                                                      \n0         1          60           0           0           1         65.0   \n1         2          20           0           0           1         80.0   \n2         3          60           0           0           1         68.0   \n3         4          70           0           0           1         60.0   \n4         5          60           0           0           1         84.0   \n...     ...         ...         ...         ...         ...          ...   \n1455   1456          60           0           0           1         62.0   \n1456   1457          20           0           0           1         85.0   \n1457   1458          70           0           0           1         66.0   \n1458   1459          20           0           0           1         68.0   \n1459   1460          20           0           0           1         75.0   \n\n       LotArea  Street  Alley  LotShape  ...  Utilities_ELO  Utilities_NoSeWa  \\\nindex                                    ...                                    \n0         8450       1      0         0  ...          False             False   \n1         9600       1      0         0  ...          False             False   \n2        11250       1      0         1  ...          False             False   \n3         9550       1      0         1  ...          False             False   \n4        14260       1      0         1  ...          False             False   \n...        ...     ...    ...       ...  ...            ...               ...   \n1455      7917       1      0         0  ...          False             False   \n1456     13175       1      0         0  ...          False             False   \n1457      9042       1      0         0  ...          False             False   \n1458      9717       1      0         0  ...          False             False   \n1459      9937       1      0         0  ...          False             False   \n\n       LotConfig_CulDSac  LotConfig_FR2  LotConfig_FR3  LotConfig_Inside  \\\nindex                                                                      \n0                  False          False          False              True   \n1                  False           True          False             False   \n2                  False          False          False              True   \n3                  False          False          False             False   \n4                  False           True          False             False   \n...                  ...            ...            ...               ...   \n1455               False          False          False              True   \n1456               False          False          False              True   \n1457               False          False          False              True   \n1458               False          False          False              True   \n1459               False          False          False              True   \n\n       Electrical_FuseF  Electrical_FuseP  Electrical_Mix  Electrical_SBrkr  \nindex                                                                        \n0                 False             False           False              True  \n1                 False             False           False              True  \n2                 False             False           False              True  \n3                 False             False           False              True  \n4                 False             False           False              True  \n...                 ...               ...             ...               ...  \n1455              False             False           False              True  \n1456              False             False           False              True  \n1457              False             False           False              True  \n1458              False             False           False             False  \n1459              False             False           False              True  \n\n[1459 rows x 124 columns]",
      "text/html": "<div>\n<style scoped>\n    .dataframe tbody tr th:only-of-type {\n        vertical-align: middle;\n    }\n\n    .dataframe tbody tr th {\n        vertical-align: top;\n    }\n\n    .dataframe thead th {\n        text-align: right;\n    }\n</style>\n<table border=\"1\" class=\"dataframe\">\n  <thead>\n    <tr style=\"text-align: right;\">\n      <th></th>\n      <th>Id</th>\n      <th>MSSubClass</th>\n      <th>MSZoning_0</th>\n      <th>MSZoning_1</th>\n      <th>MSZoning_2</th>\n      <th>LotFrontage</th>\n      <th>LotArea</th>\n      <th>Street</th>\n      <th>Alley</th>\n      <th>LotShape</th>\n      <th>...</th>\n      <th>Utilities_ELO</th>\n      <th>Utilities_NoSeWa</th>\n      <th>LotConfig_CulDSac</th>\n      <th>LotConfig_FR2</th>\n      <th>LotConfig_FR3</th>\n      <th>LotConfig_Inside</th>\n      <th>Electrical_FuseF</th>\n      <th>Electrical_FuseP</th>\n      <th>Electrical_Mix</th>\n      <th>Electrical_SBrkr</th>\n    </tr>\n    <tr>\n      <th>index</th>\n      <th></th>\n      <th></th>\n      <th></th>\n      <th></th>\n      <th></th>\n      <th></th>\n      <th></th>\n      <th></th>\n      <th></th>\n      <th></th>\n      <th></th>\n      <th></th>\n      <th></th>\n      <th></th>\n      <th></th>\n      <th></th>\n      <th></th>\n      <th></th>\n      <th></th>\n      <th></th>\n      <th></th>\n    </tr>\n  </thead>\n  <tbody>\n    <tr>\n      <th>0</th>\n      <td>1</td>\n      <td>60</td>\n      <td>0</td>\n      <td>0</td>\n      <td>1</td>\n      <td>65.0</td>\n      <td>8450</td>\n      <td>1</td>\n      <td>0</td>\n      <td>0</td>\n      <td>...</td>\n      <td>False</td>\n      <td>False</td>\n      <td>False</td>\n      <td>False</td>\n      <td>False</td>\n      <td>True</td>\n      <td>False</td>\n      <td>False</td>\n      <td>False</td>\n      <td>True</td>\n    </tr>\n    <tr>\n      <th>1</th>\n      <td>2</td>\n      <td>20</td>\n      <td>0</td>\n      <td>0</td>\n      <td>1</td>\n      <td>80.0</td>\n      <td>9600</td>\n      <td>1</td>\n      <td>0</td>\n      <td>0</td>\n      <td>...</td>\n      <td>False</td>\n      <td>False</td>\n      <td>False</td>\n      <td>True</td>\n      <td>False</td>\n      <td>False</td>\n      <td>False</td>\n      <td>False</td>\n      <td>False</td>\n      <td>True</td>\n    </tr>\n    <tr>\n      <th>2</th>\n      <td>3</td>\n      <td>60</td>\n      <td>0</td>\n      <td>0</td>\n      <td>1</td>\n      <td>68.0</td>\n      <td>11250</td>\n      <td>1</td>\n      <td>0</td>\n      <td>1</td>\n      <td>...</td>\n      <td>False</td>\n      <td>False</td>\n      <td>False</td>\n      <td>False</td>\n      <td>False</td>\n      <td>True</td>\n      <td>False</td>\n      <td>False</td>\n      <td>False</td>\n      <td>True</td>\n    </tr>\n    <tr>\n      <th>3</th>\n      <td>4</td>\n      <td>70</td>\n      <td>0</td>\n      <td>0</td>\n      <td>1</td>\n      <td>60.0</td>\n      <td>9550</td>\n      <td>1</td>\n      <td>0</td>\n      <td>1</td>\n      <td>...</td>\n      <td>False</td>\n      <td>False</td>\n      <td>False</td>\n      <td>False</td>\n      <td>False</td>\n      <td>False</td>\n      <td>False</td>\n      <td>False</td>\n      <td>False</td>\n      <td>True</td>\n    </tr>\n    <tr>\n      <th>4</th>\n      <td>5</td>\n      <td>60</td>\n      <td>0</td>\n      <td>0</td>\n      <td>1</td>\n      <td>84.0</td>\n      <td>14260</td>\n      <td>1</td>\n      <td>0</td>\n      <td>1</td>\n      <td>...</td>\n      <td>False</td>\n      <td>False</td>\n      <td>False</td>\n      <td>True</td>\n      <td>False</td>\n      <td>False</td>\n      <td>False</td>\n      <td>False</td>\n      <td>False</td>\n      <td>True</td>\n    </tr>\n    <tr>\n      <th>...</th>\n      <td>...</td>\n      <td>...</td>\n      <td>...</td>\n      <td>...</td>\n      <td>...</td>\n      <td>...</td>\n      <td>...</td>\n      <td>...</td>\n      <td>...</td>\n      <td>...</td>\n      <td>...</td>\n      <td>...</td>\n      <td>...</td>\n      <td>...</td>\n      <td>...</td>\n      <td>...</td>\n      <td>...</td>\n      <td>...</td>\n      <td>...</td>\n      <td>...</td>\n      <td>...</td>\n    </tr>\n    <tr>\n      <th>1455</th>\n      <td>1456</td>\n      <td>60</td>\n      <td>0</td>\n      <td>0</td>\n      <td>1</td>\n      <td>62.0</td>\n      <td>7917</td>\n      <td>1</td>\n      <td>0</td>\n      <td>0</td>\n      <td>...</td>\n      <td>False</td>\n      <td>False</td>\n      <td>False</td>\n      <td>False</td>\n      <td>False</td>\n      <td>True</td>\n      <td>False</td>\n      <td>False</td>\n      <td>False</td>\n      <td>True</td>\n    </tr>\n    <tr>\n      <th>1456</th>\n      <td>1457</td>\n      <td>20</td>\n      <td>0</td>\n      <td>0</td>\n      <td>1</td>\n      <td>85.0</td>\n      <td>13175</td>\n      <td>1</td>\n      <td>0</td>\n      <td>0</td>\n      <td>...</td>\n      <td>False</td>\n      <td>False</td>\n      <td>False</td>\n      <td>False</td>\n      <td>False</td>\n      <td>True</td>\n      <td>False</td>\n      <td>False</td>\n      <td>False</td>\n      <td>True</td>\n    </tr>\n    <tr>\n      <th>1457</th>\n      <td>1458</td>\n      <td>70</td>\n      <td>0</td>\n      <td>0</td>\n      <td>1</td>\n      <td>66.0</td>\n      <td>9042</td>\n      <td>1</td>\n      <td>0</td>\n      <td>0</td>\n      <td>...</td>\n      <td>False</td>\n      <td>False</td>\n      <td>False</td>\n      <td>False</td>\n      <td>False</td>\n      <td>True</td>\n      <td>False</td>\n      <td>False</td>\n      <td>False</td>\n      <td>True</td>\n    </tr>\n    <tr>\n      <th>1458</th>\n      <td>1459</td>\n      <td>20</td>\n      <td>0</td>\n      <td>0</td>\n      <td>1</td>\n      <td>68.0</td>\n      <td>9717</td>\n      <td>1</td>\n      <td>0</td>\n      <td>0</td>\n      <td>...</td>\n      <td>False</td>\n      <td>False</td>\n      <td>False</td>\n      <td>False</td>\n      <td>False</td>\n      <td>True</td>\n      <td>False</td>\n      <td>False</td>\n      <td>False</td>\n      <td>False</td>\n    </tr>\n    <tr>\n      <th>1459</th>\n      <td>1460</td>\n      <td>20</td>\n      <td>0</td>\n      <td>0</td>\n      <td>1</td>\n      <td>75.0</td>\n      <td>9937</td>\n      <td>1</td>\n      <td>0</td>\n      <td>0</td>\n      <td>...</td>\n      <td>False</td>\n      <td>False</td>\n      <td>False</td>\n      <td>False</td>\n      <td>False</td>\n      <td>True</td>\n      <td>False</td>\n      <td>False</td>\n      <td>False</td>\n      <td>True</td>\n    </tr>\n  </tbody>\n</table>\n<p>1459 rows × 124 columns</p>\n</div>"
     },
     "execution_count": 49,
     "metadata": {},
     "output_type": "execute_result"
    }
   ],
   "source": [
    "data"
   ],
   "metadata": {
    "collapsed": false,
    "ExecuteTime": {
     "end_time": "2024-11-02T22:22:05.634950900Z",
     "start_time": "2024-11-02T22:22:04.347222200Z"
    }
   },
   "id": "427ae91ee3c54dee"
  },
  {
   "cell_type": "code",
   "execution_count": 50,
   "outputs": [
    {
     "data": {
      "text/plain": "         Id  MSSubClass  MSZoning_0  MSZoning_1  MSZoning_2  LotFrontage  \\\nindex                                                                      \n0      1461          20           1           0           1         80.0   \n1      1462          20           0           0           1         81.0   \n2      1463          60           0           0           1         74.0   \n3      1464          60           0           0           1         78.0   \n4      1465         120           0           0           1         43.0   \n...     ...         ...         ...         ...         ...          ...   \n1454   2915         160           0           1           0         21.0   \n1455   2916         160           0           1           0         21.0   \n1456   2917          20           0           0           1        160.0   \n1457   2918          85           0           0           1         62.0   \n1458   2919          60           0           0           1         74.0   \n\n       LotArea  Street  Alley  LotShape  ...  Utilities_ELO  Utilities_NoSeWa  \\\nindex                                    ...                                    \n0        11622       1      0         0  ...          False             False   \n1        14267       1      0         1  ...          False             False   \n2        13830       1      0         1  ...          False             False   \n3         9978       1      0         1  ...          False             False   \n4         5005       1      0         1  ...          False             False   \n...        ...     ...    ...       ...  ...            ...               ...   \n1454      1936       1      2         0  ...          False             False   \n1455      1894       1      0         0  ...          False             False   \n1456     20000       1      0         0  ...          False             False   \n1457     10441       1      0         0  ...          False             False   \n1458      9627       1      0         0  ...          False             False   \n\n       LotConfig_CulDSac  LotConfig_FR2  LotConfig_FR3  LotConfig_Inside  \\\nindex                                                                      \n0                  False          False          False              True   \n1                  False          False          False             False   \n2                  False          False          False              True   \n3                  False          False          False              True   \n4                  False          False          False              True   \n...                  ...            ...            ...               ...   \n1454               False          False          False              True   \n1455               False          False          False              True   \n1456               False          False          False              True   \n1457               False          False          False              True   \n1458               False          False          False              True   \n\n       Electrical_FuseF  Electrical_FuseP  Electrical_Mix  Electrical_SBrkr  \nindex                                                                        \n0                 False             False           False              True  \n1                 False             False           False              True  \n2                 False             False           False              True  \n3                 False             False           False              True  \n4                 False             False           False              True  \n...                 ...               ...             ...               ...  \n1454              False             False           False              True  \n1455              False             False           False              True  \n1456              False             False           False              True  \n1457              False             False           False              True  \n1458              False             False           False              True  \n\n[1459 rows x 124 columns]",
      "text/html": "<div>\n<style scoped>\n    .dataframe tbody tr th:only-of-type {\n        vertical-align: middle;\n    }\n\n    .dataframe tbody tr th {\n        vertical-align: top;\n    }\n\n    .dataframe thead th {\n        text-align: right;\n    }\n</style>\n<table border=\"1\" class=\"dataframe\">\n  <thead>\n    <tr style=\"text-align: right;\">\n      <th></th>\n      <th>Id</th>\n      <th>MSSubClass</th>\n      <th>MSZoning_0</th>\n      <th>MSZoning_1</th>\n      <th>MSZoning_2</th>\n      <th>LotFrontage</th>\n      <th>LotArea</th>\n      <th>Street</th>\n      <th>Alley</th>\n      <th>LotShape</th>\n      <th>...</th>\n      <th>Utilities_ELO</th>\n      <th>Utilities_NoSeWa</th>\n      <th>LotConfig_CulDSac</th>\n      <th>LotConfig_FR2</th>\n      <th>LotConfig_FR3</th>\n      <th>LotConfig_Inside</th>\n      <th>Electrical_FuseF</th>\n      <th>Electrical_FuseP</th>\n      <th>Electrical_Mix</th>\n      <th>Electrical_SBrkr</th>\n    </tr>\n    <tr>\n      <th>index</th>\n      <th></th>\n      <th></th>\n      <th></th>\n      <th></th>\n      <th></th>\n      <th></th>\n      <th></th>\n      <th></th>\n      <th></th>\n      <th></th>\n      <th></th>\n      <th></th>\n      <th></th>\n      <th></th>\n      <th></th>\n      <th></th>\n      <th></th>\n      <th></th>\n      <th></th>\n      <th></th>\n      <th></th>\n    </tr>\n  </thead>\n  <tbody>\n    <tr>\n      <th>0</th>\n      <td>1461</td>\n      <td>20</td>\n      <td>1</td>\n      <td>0</td>\n      <td>1</td>\n      <td>80.0</td>\n      <td>11622</td>\n      <td>1</td>\n      <td>0</td>\n      <td>0</td>\n      <td>...</td>\n      <td>False</td>\n      <td>False</td>\n      <td>False</td>\n      <td>False</td>\n      <td>False</td>\n      <td>True</td>\n      <td>False</td>\n      <td>False</td>\n      <td>False</td>\n      <td>True</td>\n    </tr>\n    <tr>\n      <th>1</th>\n      <td>1462</td>\n      <td>20</td>\n      <td>0</td>\n      <td>0</td>\n      <td>1</td>\n      <td>81.0</td>\n      <td>14267</td>\n      <td>1</td>\n      <td>0</td>\n      <td>1</td>\n      <td>...</td>\n      <td>False</td>\n      <td>False</td>\n      <td>False</td>\n      <td>False</td>\n      <td>False</td>\n      <td>False</td>\n      <td>False</td>\n      <td>False</td>\n      <td>False</td>\n      <td>True</td>\n    </tr>\n    <tr>\n      <th>2</th>\n      <td>1463</td>\n      <td>60</td>\n      <td>0</td>\n      <td>0</td>\n      <td>1</td>\n      <td>74.0</td>\n      <td>13830</td>\n      <td>1</td>\n      <td>0</td>\n      <td>1</td>\n      <td>...</td>\n      <td>False</td>\n      <td>False</td>\n      <td>False</td>\n      <td>False</td>\n      <td>False</td>\n      <td>True</td>\n      <td>False</td>\n      <td>False</td>\n      <td>False</td>\n      <td>True</td>\n    </tr>\n    <tr>\n      <th>3</th>\n      <td>1464</td>\n      <td>60</td>\n      <td>0</td>\n      <td>0</td>\n      <td>1</td>\n      <td>78.0</td>\n      <td>9978</td>\n      <td>1</td>\n      <td>0</td>\n      <td>1</td>\n      <td>...</td>\n      <td>False</td>\n      <td>False</td>\n      <td>False</td>\n      <td>False</td>\n      <td>False</td>\n      <td>True</td>\n      <td>False</td>\n      <td>False</td>\n      <td>False</td>\n      <td>True</td>\n    </tr>\n    <tr>\n      <th>4</th>\n      <td>1465</td>\n      <td>120</td>\n      <td>0</td>\n      <td>0</td>\n      <td>1</td>\n      <td>43.0</td>\n      <td>5005</td>\n      <td>1</td>\n      <td>0</td>\n      <td>1</td>\n      <td>...</td>\n      <td>False</td>\n      <td>False</td>\n      <td>False</td>\n      <td>False</td>\n      <td>False</td>\n      <td>True</td>\n      <td>False</td>\n      <td>False</td>\n      <td>False</td>\n      <td>True</td>\n    </tr>\n    <tr>\n      <th>...</th>\n      <td>...</td>\n      <td>...</td>\n      <td>...</td>\n      <td>...</td>\n      <td>...</td>\n      <td>...</td>\n      <td>...</td>\n      <td>...</td>\n      <td>...</td>\n      <td>...</td>\n      <td>...</td>\n      <td>...</td>\n      <td>...</td>\n      <td>...</td>\n      <td>...</td>\n      <td>...</td>\n      <td>...</td>\n      <td>...</td>\n      <td>...</td>\n      <td>...</td>\n      <td>...</td>\n    </tr>\n    <tr>\n      <th>1454</th>\n      <td>2915</td>\n      <td>160</td>\n      <td>0</td>\n      <td>1</td>\n      <td>0</td>\n      <td>21.0</td>\n      <td>1936</td>\n      <td>1</td>\n      <td>2</td>\n      <td>0</td>\n      <td>...</td>\n      <td>False</td>\n      <td>False</td>\n      <td>False</td>\n      <td>False</td>\n      <td>False</td>\n      <td>True</td>\n      <td>False</td>\n      <td>False</td>\n      <td>False</td>\n      <td>True</td>\n    </tr>\n    <tr>\n      <th>1455</th>\n      <td>2916</td>\n      <td>160</td>\n      <td>0</td>\n      <td>1</td>\n      <td>0</td>\n      <td>21.0</td>\n      <td>1894</td>\n      <td>1</td>\n      <td>0</td>\n      <td>0</td>\n      <td>...</td>\n      <td>False</td>\n      <td>False</td>\n      <td>False</td>\n      <td>False</td>\n      <td>False</td>\n      <td>True</td>\n      <td>False</td>\n      <td>False</td>\n      <td>False</td>\n      <td>True</td>\n    </tr>\n    <tr>\n      <th>1456</th>\n      <td>2917</td>\n      <td>20</td>\n      <td>0</td>\n      <td>0</td>\n      <td>1</td>\n      <td>160.0</td>\n      <td>20000</td>\n      <td>1</td>\n      <td>0</td>\n      <td>0</td>\n      <td>...</td>\n      <td>False</td>\n      <td>False</td>\n      <td>False</td>\n      <td>False</td>\n      <td>False</td>\n      <td>True</td>\n      <td>False</td>\n      <td>False</td>\n      <td>False</td>\n      <td>True</td>\n    </tr>\n    <tr>\n      <th>1457</th>\n      <td>2918</td>\n      <td>85</td>\n      <td>0</td>\n      <td>0</td>\n      <td>1</td>\n      <td>62.0</td>\n      <td>10441</td>\n      <td>1</td>\n      <td>0</td>\n      <td>0</td>\n      <td>...</td>\n      <td>False</td>\n      <td>False</td>\n      <td>False</td>\n      <td>False</td>\n      <td>False</td>\n      <td>True</td>\n      <td>False</td>\n      <td>False</td>\n      <td>False</td>\n      <td>True</td>\n    </tr>\n    <tr>\n      <th>1458</th>\n      <td>2919</td>\n      <td>60</td>\n      <td>0</td>\n      <td>0</td>\n      <td>1</td>\n      <td>74.0</td>\n      <td>9627</td>\n      <td>1</td>\n      <td>0</td>\n      <td>0</td>\n      <td>...</td>\n      <td>False</td>\n      <td>False</td>\n      <td>False</td>\n      <td>False</td>\n      <td>False</td>\n      <td>True</td>\n      <td>False</td>\n      <td>False</td>\n      <td>False</td>\n      <td>True</td>\n    </tr>\n  </tbody>\n</table>\n<p>1459 rows × 124 columns</p>\n</div>"
     },
     "execution_count": 50,
     "metadata": {},
     "output_type": "execute_result"
    }
   ],
   "source": [
    "test_data"
   ],
   "metadata": {
    "collapsed": false,
    "ExecuteTime": {
     "end_time": "2024-11-02T22:22:05.702929800Z",
     "start_time": "2024-11-02T22:22:04.383226600Z"
    }
   },
   "id": "8d975f067f6dff46"
  },
  {
   "cell_type": "code",
   "execution_count": null,
   "outputs": [],
   "source": [
    "data.insert(len(data.columns), \"SalePrice\", sale)"
   ],
   "metadata": {
    "collapsed": false
   },
   "id": "b2c1c3b5b4f966aa"
  },
  {
   "cell_type": "markdown",
   "source": [
    "### outliers eliminations"
   ],
   "metadata": {
    "collapsed": false
   },
   "id": "d8752a309b7d4076"
  },
  {
   "cell_type": "code",
   "execution_count": 63,
   "outputs": [
    {
     "data": {
      "text/plain": "Id                  int64\nMSSubClass          int64\nMSZoning_0          int64\nMSZoning_1          int64\nMSZoning_2          int64\n                    ...  \nElectrical_FuseF     bool\nElectrical_FuseP     bool\nElectrical_Mix       bool\nElectrical_SBrkr     bool\nSalePrice           int64\nLength: 125, dtype: object"
     },
     "execution_count": 63,
     "metadata": {},
     "output_type": "execute_result"
    }
   ],
   "source": [
    "data.dtypes"
   ],
   "metadata": {
    "collapsed": false,
    "ExecuteTime": {
     "end_time": "2024-11-02T22:40:29.251985800Z",
     "start_time": "2024-11-02T22:40:29.125063400Z"
    }
   },
   "id": "1236edf3373ed3f2"
  },
  {
   "cell_type": "code",
   "execution_count": 72,
   "outputs": [
    {
     "data": {
      "text/plain": "         Id  MSSubClass  MSZoning_0  MSZoning_1  MSZoning_2  LotFrontage  \\\nindex                                                                      \n0         1          60           0           0           1         65.0   \n1         2          20           0           0           1         80.0   \n2         3          60           0           0           1         68.0   \n3         4          70           0           0           1         60.0   \n4         5          60           0           0           1         84.0   \n...     ...         ...         ...         ...         ...          ...   \n1454   1455          20           1           0           0         62.0   \n1455   1456          60           0           0           1         62.0   \n1456   1457          20           0           0           1         85.0   \n1458   1459          20           0           0           1         68.0   \n1459   1460          20           0           0           1         75.0   \n\n       LotArea  Street  Alley  LotShape  ...  Utilities_NoSeWa  \\\nindex                                    ...                     \n0         8450       1      0         0  ...                 0   \n1         9600       1      0         0  ...                 0   \n2        11250       1      0         1  ...                 0   \n3         9550       1      0         1  ...                 0   \n4        14260       1      0         1  ...                 0   \n...        ...     ...    ...       ...  ...               ...   \n1454      7500       1      2         0  ...                 0   \n1455      7917       1      0         0  ...                 0   \n1456     13175       1      0         0  ...                 0   \n1458      9717       1      0         0  ...                 0   \n1459      9937       1      0         0  ...                 0   \n\n       LotConfig_CulDSac  LotConfig_FR2  LotConfig_FR3  LotConfig_Inside  \\\nindex                                                                      \n0                      0              0              0                 1   \n1                      0              1              0                 0   \n2                      0              0              0                 1   \n3                      0              0              0                 0   \n4                      0              1              0                 0   \n...                  ...            ...            ...               ...   \n1454                   0              0              0                 1   \n1455                   0              0              0                 1   \n1456                   0              0              0                 1   \n1458                   0              0              0                 1   \n1459                   0              0              0                 1   \n\n       Electrical_FuseF  Electrical_FuseP  Electrical_Mix  Electrical_SBrkr  \\\nindex                                                                         \n0                     0                 0               0                 1   \n1                     0                 0               0                 1   \n2                     0                 0               0                 1   \n3                     0                 0               0                 1   \n4                     0                 0               0                 1   \n...                 ...               ...             ...               ...   \n1454                  0                 0               0                 1   \n1455                  0                 0               0                 1   \n1456                  0                 0               0                 1   \n1458                  0                 0               0                 0   \n1459                  0                 0               0                 1   \n\n       SalePrice  \nindex             \n0         208500  \n1         181500  \n2         223500  \n3         140000  \n4         250000  \n...          ...  \n1454      185000  \n1455      175000  \n1456      210000  \n1458      142125  \n1459      147500  \n\n[1220 rows x 125 columns]",
      "text/html": "<div>\n<style scoped>\n    .dataframe tbody tr th:only-of-type {\n        vertical-align: middle;\n    }\n\n    .dataframe tbody tr th {\n        vertical-align: top;\n    }\n\n    .dataframe thead th {\n        text-align: right;\n    }\n</style>\n<table border=\"1\" class=\"dataframe\">\n  <thead>\n    <tr style=\"text-align: right;\">\n      <th></th>\n      <th>Id</th>\n      <th>MSSubClass</th>\n      <th>MSZoning_0</th>\n      <th>MSZoning_1</th>\n      <th>MSZoning_2</th>\n      <th>LotFrontage</th>\n      <th>LotArea</th>\n      <th>Street</th>\n      <th>Alley</th>\n      <th>LotShape</th>\n      <th>...</th>\n      <th>Utilities_NoSeWa</th>\n      <th>LotConfig_CulDSac</th>\n      <th>LotConfig_FR2</th>\n      <th>LotConfig_FR3</th>\n      <th>LotConfig_Inside</th>\n      <th>Electrical_FuseF</th>\n      <th>Electrical_FuseP</th>\n      <th>Electrical_Mix</th>\n      <th>Electrical_SBrkr</th>\n      <th>SalePrice</th>\n    </tr>\n    <tr>\n      <th>index</th>\n      <th></th>\n      <th></th>\n      <th></th>\n      <th></th>\n      <th></th>\n      <th></th>\n      <th></th>\n      <th></th>\n      <th></th>\n      <th></th>\n      <th></th>\n      <th></th>\n      <th></th>\n      <th></th>\n      <th></th>\n      <th></th>\n      <th></th>\n      <th></th>\n      <th></th>\n      <th></th>\n      <th></th>\n    </tr>\n  </thead>\n  <tbody>\n    <tr>\n      <th>0</th>\n      <td>1</td>\n      <td>60</td>\n      <td>0</td>\n      <td>0</td>\n      <td>1</td>\n      <td>65.0</td>\n      <td>8450</td>\n      <td>1</td>\n      <td>0</td>\n      <td>0</td>\n      <td>...</td>\n      <td>0</td>\n      <td>0</td>\n      <td>0</td>\n      <td>0</td>\n      <td>1</td>\n      <td>0</td>\n      <td>0</td>\n      <td>0</td>\n      <td>1</td>\n      <td>208500</td>\n    </tr>\n    <tr>\n      <th>1</th>\n      <td>2</td>\n      <td>20</td>\n      <td>0</td>\n      <td>0</td>\n      <td>1</td>\n      <td>80.0</td>\n      <td>9600</td>\n      <td>1</td>\n      <td>0</td>\n      <td>0</td>\n      <td>...</td>\n      <td>0</td>\n      <td>0</td>\n      <td>1</td>\n      <td>0</td>\n      <td>0</td>\n      <td>0</td>\n      <td>0</td>\n      <td>0</td>\n      <td>1</td>\n      <td>181500</td>\n    </tr>\n    <tr>\n      <th>2</th>\n      <td>3</td>\n      <td>60</td>\n      <td>0</td>\n      <td>0</td>\n      <td>1</td>\n      <td>68.0</td>\n      <td>11250</td>\n      <td>1</td>\n      <td>0</td>\n      <td>1</td>\n      <td>...</td>\n      <td>0</td>\n      <td>0</td>\n      <td>0</td>\n      <td>0</td>\n      <td>1</td>\n      <td>0</td>\n      <td>0</td>\n      <td>0</td>\n      <td>1</td>\n      <td>223500</td>\n    </tr>\n    <tr>\n      <th>3</th>\n      <td>4</td>\n      <td>70</td>\n      <td>0</td>\n      <td>0</td>\n      <td>1</td>\n      <td>60.0</td>\n      <td>9550</td>\n      <td>1</td>\n      <td>0</td>\n      <td>1</td>\n      <td>...</td>\n      <td>0</td>\n      <td>0</td>\n      <td>0</td>\n      <td>0</td>\n      <td>0</td>\n      <td>0</td>\n      <td>0</td>\n      <td>0</td>\n      <td>1</td>\n      <td>140000</td>\n    </tr>\n    <tr>\n      <th>4</th>\n      <td>5</td>\n      <td>60</td>\n      <td>0</td>\n      <td>0</td>\n      <td>1</td>\n      <td>84.0</td>\n      <td>14260</td>\n      <td>1</td>\n      <td>0</td>\n      <td>1</td>\n      <td>...</td>\n      <td>0</td>\n      <td>0</td>\n      <td>1</td>\n      <td>0</td>\n      <td>0</td>\n      <td>0</td>\n      <td>0</td>\n      <td>0</td>\n      <td>1</td>\n      <td>250000</td>\n    </tr>\n    <tr>\n      <th>...</th>\n      <td>...</td>\n      <td>...</td>\n      <td>...</td>\n      <td>...</td>\n      <td>...</td>\n      <td>...</td>\n      <td>...</td>\n      <td>...</td>\n      <td>...</td>\n      <td>...</td>\n      <td>...</td>\n      <td>...</td>\n      <td>...</td>\n      <td>...</td>\n      <td>...</td>\n      <td>...</td>\n      <td>...</td>\n      <td>...</td>\n      <td>...</td>\n      <td>...</td>\n      <td>...</td>\n    </tr>\n    <tr>\n      <th>1454</th>\n      <td>1455</td>\n      <td>20</td>\n      <td>1</td>\n      <td>0</td>\n      <td>0</td>\n      <td>62.0</td>\n      <td>7500</td>\n      <td>1</td>\n      <td>2</td>\n      <td>0</td>\n      <td>...</td>\n      <td>0</td>\n      <td>0</td>\n      <td>0</td>\n      <td>0</td>\n      <td>1</td>\n      <td>0</td>\n      <td>0</td>\n      <td>0</td>\n      <td>1</td>\n      <td>185000</td>\n    </tr>\n    <tr>\n      <th>1455</th>\n      <td>1456</td>\n      <td>60</td>\n      <td>0</td>\n      <td>0</td>\n      <td>1</td>\n      <td>62.0</td>\n      <td>7917</td>\n      <td>1</td>\n      <td>0</td>\n      <td>0</td>\n      <td>...</td>\n      <td>0</td>\n      <td>0</td>\n      <td>0</td>\n      <td>0</td>\n      <td>1</td>\n      <td>0</td>\n      <td>0</td>\n      <td>0</td>\n      <td>1</td>\n      <td>175000</td>\n    </tr>\n    <tr>\n      <th>1456</th>\n      <td>1457</td>\n      <td>20</td>\n      <td>0</td>\n      <td>0</td>\n      <td>1</td>\n      <td>85.0</td>\n      <td>13175</td>\n      <td>1</td>\n      <td>0</td>\n      <td>0</td>\n      <td>...</td>\n      <td>0</td>\n      <td>0</td>\n      <td>0</td>\n      <td>0</td>\n      <td>1</td>\n      <td>0</td>\n      <td>0</td>\n      <td>0</td>\n      <td>1</td>\n      <td>210000</td>\n    </tr>\n    <tr>\n      <th>1458</th>\n      <td>1459</td>\n      <td>20</td>\n      <td>0</td>\n      <td>0</td>\n      <td>1</td>\n      <td>68.0</td>\n      <td>9717</td>\n      <td>1</td>\n      <td>0</td>\n      <td>0</td>\n      <td>...</td>\n      <td>0</td>\n      <td>0</td>\n      <td>0</td>\n      <td>0</td>\n      <td>1</td>\n      <td>0</td>\n      <td>0</td>\n      <td>0</td>\n      <td>0</td>\n      <td>142125</td>\n    </tr>\n    <tr>\n      <th>1459</th>\n      <td>1460</td>\n      <td>20</td>\n      <td>0</td>\n      <td>0</td>\n      <td>1</td>\n      <td>75.0</td>\n      <td>9937</td>\n      <td>1</td>\n      <td>0</td>\n      <td>0</td>\n      <td>...</td>\n      <td>0</td>\n      <td>0</td>\n      <td>0</td>\n      <td>0</td>\n      <td>1</td>\n      <td>0</td>\n      <td>0</td>\n      <td>0</td>\n      <td>1</td>\n      <td>147500</td>\n    </tr>\n  </tbody>\n</table>\n<p>1220 rows × 125 columns</p>\n</div>"
     },
     "execution_count": 72,
     "metadata": {},
     "output_type": "execute_result"
    }
   ],
   "source": [
    "import pandas as pd\n",
    "\n",
    "cols = data.columns\n",
    "data_copy = data.copy()\n",
    "\n",
    "for col in cols[1:]:\n",
    "    # bool\n",
    "    if pd.api.types.is_bool_dtype(data_copy[col]):\n",
    "        data_copy[col] = data_copy[col].astype(int)\n",
    "        \n",
    "        \n",
    "    Q1, Q3 = data_copy[col].quantile([0.25, 0.75])\n",
    "    IQR = Q3 - Q1\n",
    "    lower, upper = Q1 - 2 * IQR, Q3 + 2 * IQR \n",
    "    if not lower or not upper or  Q1 < 1 or Q3 < 1 or IQR < 1:\n",
    "        continue\n",
    "        \n",
    "    data_copy = data_copy[(data_copy[col] >= lower) & (data_copy[col] <= upper)]\n",
    "\n",
    "data_copy"
   ],
   "metadata": {
    "collapsed": false,
    "ExecuteTime": {
     "end_time": "2024-11-02T22:47:04.659785200Z",
     "start_time": "2024-11-02T22:47:04.397578100Z"
    }
   },
   "id": "bbf0002737ebd429"
  },
  {
   "cell_type": "code",
   "execution_count": 73,
   "outputs": [],
   "source": [
    "# data = data_copy"
   ],
   "metadata": {
    "collapsed": false,
    "ExecuteTime": {
     "end_time": "2024-11-02T22:47:58.604501900Z",
     "start_time": "2024-11-02T22:47:58.475046400Z"
    }
   },
   "id": "194aa74e75af94a1"
  },
  {
   "cell_type": "code",
   "execution_count": 74,
   "outputs": [],
   "source": [
    "# data.to_csv('processed_train_data.csv', index=False)\n",
    "# test_data.to_csv('processed_test_data.csv', index=False)"
   ],
   "metadata": {
    "collapsed": false,
    "ExecuteTime": {
     "end_time": "2024-11-02T22:48:05.382596900Z",
     "start_time": "2024-11-02T22:48:05.208711100Z"
    }
   },
   "id": "938dca9f27122740"
  },
  {
   "cell_type": "code",
   "execution_count": 52,
   "outputs": [],
   "source": [],
   "metadata": {
    "collapsed": false,
    "ExecuteTime": {
     "end_time": "2024-11-02T22:22:05.768927200Z",
     "start_time": "2024-11-02T22:22:04.450214700Z"
    }
   },
   "id": "d16fdade8e70ebff"
  }
 ],
 "metadata": {
  "kernelspec": {
   "display_name": "Python 3",
   "language": "python",
   "name": "python3"
  },
  "language_info": {
   "codemirror_mode": {
    "name": "ipython",
    "version": 2
   },
   "file_extension": ".py",
   "mimetype": "text/x-python",
   "name": "python",
   "nbconvert_exporter": "python",
   "pygments_lexer": "ipython2",
   "version": "2.7.6"
  }
 },
 "nbformat": 4,
 "nbformat_minor": 5
}
